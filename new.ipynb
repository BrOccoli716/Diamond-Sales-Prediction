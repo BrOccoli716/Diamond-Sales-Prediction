{
 "cells": [
  {
   "cell_type": "markdown",
   "metadata": {},
   "source": [
    "## Import Libraries"
   ]
  },
  {
   "cell_type": "code",
   "execution_count": 478,
   "metadata": {},
   "outputs": [],
   "source": [
    "import pandas as pd # type: ignore\n",
    "import numpy as np # type: ignore\n",
    "import matplotlib.pyplot as plt # type: ignore\n",
    "import seaborn as sns # type: ignore\n",
    "\n",
    "from sklearn.impute import KNNImputer # type: ignore\n",
    "from sklearn.preprocessing import StandardScaler # type: ignore\n",
    "from sklearn.model_selection import cross_val_score, train_test_split, GridSearchCV, KFold # type: ignore\n",
    "from sklearn.metrics import mean_squared_error, r2_score, mean_absolute_error # type: ignore\n",
    "from sklearn.neighbors import KNeighborsRegressor # type: ignore\n",
    "from sklearn.ensemble import RandomForestRegressor # type: ignore\n",
    "from xgboost import XGBRegressor # type: ignore\n",
    "\n",
    "from statsmodels.stats.outliers_influence import variance_inflation_factor # type: ignore\n",
    "import scikitplot as skplt # type: ignore"
   ]
  },
  {
   "cell_type": "markdown",
   "metadata": {},
   "source": [
    "## Set Parameters"
   ]
  },
  {
   "cell_type": "code",
   "execution_count": 544,
   "metadata": {},
   "outputs": [],
   "source": [
    "k = 5\n",
    "ratio = 0.2\n",
    "pd.set_option('display.width', 1000)  # Set a wider display width for better readability\n",
    "pd.options.display.float_format = '{:.1f}'.format"
   ]
  },
  {
   "cell_type": "markdown",
   "metadata": {},
   "source": [
    "## Data Processing"
   ]
  },
  {
   "cell_type": "markdown",
   "metadata": {},
   "source": [
    "### Loading Data"
   ]
  },
  {
   "cell_type": "markdown",
   "metadata": {},
   "source": [
    "Note that some continuous values here equal to 0, which is abnormal. We should also treat such samples as missing values."
   ]
  },
  {
   "cell_type": "code",
   "execution_count": 585,
   "metadata": {},
   "outputs": [
    {
     "data": {
      "text/html": [
       "<div>\n",
       "<style scoped>\n",
       "    .dataframe tbody tr th:only-of-type {\n",
       "        vertical-align: middle;\n",
       "    }\n",
       "\n",
       "    .dataframe tbody tr th {\n",
       "        vertical-align: top;\n",
       "    }\n",
       "\n",
       "    .dataframe thead th {\n",
       "        text-align: right;\n",
       "    }\n",
       "</style>\n",
       "<table border=\"1\" class=\"dataframe\">\n",
       "  <thead>\n",
       "    <tr style=\"text-align: right;\">\n",
       "      <th></th>\n",
       "      <th>id</th>\n",
       "      <th>Carats</th>\n",
       "      <th>Cert</th>\n",
       "      <th>Clarity</th>\n",
       "      <th>Color</th>\n",
       "      <th>Cut</th>\n",
       "      <th>Depth</th>\n",
       "      <th>Known_Conflict_Diamond</th>\n",
       "      <th>Measurements</th>\n",
       "      <th>Polish</th>\n",
       "      <th>Regions</th>\n",
       "      <th>Shape</th>\n",
       "      <th>Symmetry</th>\n",
       "      <th>Table</th>\n",
       "      <th>Vendor</th>\n",
       "      <th>Price</th>\n",
       "      <th>Retail</th>\n",
       "      <th>LogPrice</th>\n",
       "      <th>LogRetail</th>\n",
       "    </tr>\n",
       "  </thead>\n",
       "  <tbody>\n",
       "    <tr>\n",
       "      <th>0</th>\n",
       "      <td>1</td>\n",
       "      <td>0.4</td>\n",
       "      <td>NaN</td>\n",
       "      <td>SI1</td>\n",
       "      <td>L</td>\n",
       "      <td></td>\n",
       "      <td>65.4</td>\n",
       "      <td>False</td>\n",
       "      <td>4.65x4.62x3.03</td>\n",
       "      <td>Very good</td>\n",
       "      <td>Other/Unknown</td>\n",
       "      <td>Princess</td>\n",
       "      <td>Good</td>\n",
       "      <td>NaN</td>\n",
       "      <td>1</td>\n",
       "      <td>430</td>\n",
       "      <td>850</td>\n",
       "      <td>6.1</td>\n",
       "      <td>6.7</td>\n",
       "    </tr>\n",
       "    <tr>\n",
       "      <th>1</th>\n",
       "      <td>2</td>\n",
       "      <td>0.4</td>\n",
       "      <td>AGSL</td>\n",
       "      <td>SI2</td>\n",
       "      <td>L</td>\n",
       "      <td></td>\n",
       "      <td>61.7</td>\n",
       "      <td>False</td>\n",
       "      <td>4.85x4.79x2.98</td>\n",
       "      <td>Excellent</td>\n",
       "      <td>Russia</td>\n",
       "      <td>Marquise</td>\n",
       "      <td>Very good</td>\n",
       "      <td>NaN</td>\n",
       "      <td>1</td>\n",
       "      <td>560</td>\n",
       "      <td>920</td>\n",
       "      <td>6.3</td>\n",
       "      <td>6.8</td>\n",
       "    </tr>\n",
       "    <tr>\n",
       "      <th>2</th>\n",
       "      <td>3</td>\n",
       "      <td>0.4</td>\n",
       "      <td>AGSL</td>\n",
       "      <td>SI1</td>\n",
       "      <td>L</td>\n",
       "      <td></td>\n",
       "      <td>64.0</td>\n",
       "      <td>False</td>\n",
       "      <td>4.66x4.63x2.97</td>\n",
       "      <td>Excellent</td>\n",
       "      <td>South Africa</td>\n",
       "      <td>Round</td>\n",
       "      <td>Excellent</td>\n",
       "      <td>57.0</td>\n",
       "      <td>1</td>\n",
       "      <td>560</td>\n",
       "      <td>575</td>\n",
       "      <td>6.3</td>\n",
       "      <td>6.4</td>\n",
       "    </tr>\n",
       "    <tr>\n",
       "      <th>3</th>\n",
       "      <td>4</td>\n",
       "      <td>0.4</td>\n",
       "      <td>AGSL</td>\n",
       "      <td>SI2</td>\n",
       "      <td>L</td>\n",
       "      <td></td>\n",
       "      <td>62.7</td>\n",
       "      <td>False</td>\n",
       "      <td>4.71x4.69x2.95</td>\n",
       "      <td>Very good</td>\n",
       "      <td>Botswana</td>\n",
       "      <td>Round</td>\n",
       "      <td>Very good</td>\n",
       "      <td>58.0</td>\n",
       "      <td>1</td>\n",
       "      <td>560</td>\n",
       "      <td>825</td>\n",
       "      <td>6.3</td>\n",
       "      <td>6.7</td>\n",
       "    </tr>\n",
       "    <tr>\n",
       "      <th>4</th>\n",
       "      <td>5</td>\n",
       "      <td>0.4</td>\n",
       "      <td>AGSL</td>\n",
       "      <td>SI1</td>\n",
       "      <td>L</td>\n",
       "      <td></td>\n",
       "      <td>63.0</td>\n",
       "      <td>False</td>\n",
       "      <td>4.71x4.68x2.96</td>\n",
       "      <td>Excellent</td>\n",
       "      <td>Botswana</td>\n",
       "      <td>Round</td>\n",
       "      <td>Very good</td>\n",
       "      <td>58.0</td>\n",
       "      <td>1</td>\n",
       "      <td>580</td>\n",
       "      <td>890</td>\n",
       "      <td>6.4</td>\n",
       "      <td>6.8</td>\n",
       "    </tr>\n",
       "  </tbody>\n",
       "</table>\n",
       "</div>"
      ],
      "text/plain": [
       "   id  Carats  Cert Clarity Color Cut  Depth  Known_Conflict_Diamond    Measurements     Polish        Regions     Shape   Symmetry  Table  Vendor  Price  Retail  LogPrice  LogRetail\n",
       "0   1     0.4   NaN     SI1     L       65.4                   False  4.65x4.62x3.03  Very good  Other/Unknown  Princess       Good    NaN       1    430     850       6.1        6.7\n",
       "1   2     0.4  AGSL     SI2     L       61.7                   False  4.85x4.79x2.98  Excellent         Russia  Marquise  Very good    NaN       1    560     920       6.3        6.8\n",
       "2   3     0.4  AGSL     SI1     L       64.0                   False  4.66x4.63x2.97  Excellent   South Africa     Round  Excellent   57.0       1    560     575       6.3        6.4\n",
       "3   4     0.4  AGSL     SI2     L       62.7                   False  4.71x4.69x2.95  Very good       Botswana     Round  Very good   58.0       1    560     825       6.3        6.7\n",
       "4   5     0.4  AGSL     SI1     L       63.0                   False  4.71x4.68x2.96  Excellent       Botswana     Round  Very good   58.0       1    580     890       6.4        6.8"
      ]
     },
     "metadata": {},
     "output_type": "display_data"
    },
    {
     "name": "stderr",
     "output_type": "stream",
     "text": [
      "c:\\Users\\fuym20\\anaconda3\\lib\\site-packages\\pandas\\core\\indexing.py:1732: SettingWithCopyWarning: \n",
      "A value is trying to be set on a copy of a slice from a DataFrame\n",
      "\n",
      "See the caveats in the documentation: https://pandas.pydata.org/pandas-docs/stable/user_guide/indexing.html#returning-a-view-versus-a-copy\n",
      "  self._setitem_single_block(indexer, value, name)\n"
     ]
    }
   ],
   "source": [
    "path = '../data/training.csv'\n",
    "df = pd.read_csv(path, header=0)\n",
    "path_new = '../data/offers.csv'\n",
    "df_new = pd.read_csv(path_new, header=0)\n",
    "df_new = df_new.drop(columns='Offers')\n",
    "display(df.head(5))\n",
    "df['Profit'] = df['Retail'] - df['Price']\n",
    "continuous_vars = df.select_dtypes(include=[np.number]).columns.to_list()  # list_continous_vars\n",
    "exclude = ['id', 'Vendor', 'Price', 'Retail', 'LogPrice', 'LogRetail', 'Profit']  # Move to later\n",
    "for var in exclude:\n",
    "    continuous_vars.remove(var)\n",
    "for name in continuous_vars:  # Comments!!!\n",
    "    index = df[df[name] == 0].index\n",
    "    for i in index:\n",
    "        df[name].loc[i] = np.NaN"
   ]
  },
  {
   "cell_type": "markdown",
   "metadata": {},
   "source": [
    "### Data Description"
   ]
  },
  {
   "cell_type": "code",
   "execution_count": 383,
   "metadata": {},
   "outputs": [
    {
     "name": "stdout",
     "output_type": "stream",
     "text": [
      "<class 'pandas.core.frame.DataFrame'>\n",
      "RangeIndex: 8050 entries, 0 to 8049\n",
      "Data columns (total 20 columns):\n",
      " #   Column                  Non-Null Count  Dtype  \n",
      "---  ------                  --------------  -----  \n",
      " 0   id                      8050 non-null   int64  \n",
      " 1   Carats                  8050 non-null   float64\n",
      " 2   Cert                    7498 non-null   object \n",
      " 3   Clarity                 8050 non-null   object \n",
      " 4   Color                   8050 non-null   object \n",
      " 5   Cut                     8050 non-null   object \n",
      " 6   Depth                   6605 non-null   float64\n",
      " 7   Known_Conflict_Diamond  8050 non-null   bool   \n",
      " 8   Measurements            8050 non-null   object \n",
      " 9   Polish                  8050 non-null   object \n",
      " 10  Regions                 8050 non-null   object \n",
      " 11  Shape                   8050 non-null   object \n",
      " 12  Symmetry                8050 non-null   object \n",
      " 13  Table                   5510 non-null   float64\n",
      " 14  Vendor                  8050 non-null   int64  \n",
      " 15  Price                   8050 non-null   int64  \n",
      " 16  Retail                  8050 non-null   int64  \n",
      " 17  LogPrice                8050 non-null   float64\n",
      " 18  LogRetail               8050 non-null   float64\n",
      " 19  Profit                  8050 non-null   int64  \n",
      "dtypes: bool(1), float64(5), int64(5), object(9)\n",
      "memory usage: 1.2+ MB\n"
     ]
    }
   ],
   "source": [
    "df.info()"
   ]
  },
  {
   "cell_type": "markdown",
   "metadata": {},
   "source": [
    "For the training dataset, we have 8050 samples of diamonds in total.\n",
    "\n",
    "Most features don't have missing values.\n",
    "\n",
    "The features containing missing values are Cert, Depth and Table."
   ]
  },
  {
   "cell_type": "code",
   "execution_count": 384,
   "metadata": {},
   "outputs": [
    {
     "name": "stdout",
     "output_type": "stream",
     "text": [
      "<class 'pandas.core.frame.DataFrame'>\n",
      "RangeIndex: 2683 entries, 0 to 2682\n",
      "Data columns (total 15 columns):\n",
      " #   Column                  Non-Null Count  Dtype  \n",
      "---  ------                  --------------  -----  \n",
      " 0   id                      2683 non-null   int64  \n",
      " 1   Carats                  2683 non-null   float64\n",
      " 2   Cert                    2470 non-null   object \n",
      " 3   Clarity                 2683 non-null   object \n",
      " 4   Color                   2683 non-null   object \n",
      " 5   Cut                     2683 non-null   object \n",
      " 6   Depth                   2186 non-null   float64\n",
      " 7   Known_Conflict_Diamond  305 non-null    object \n",
      " 8   Measurements            2683 non-null   object \n",
      " 9   Polish                  2683 non-null   object \n",
      " 10  Regions                 2683 non-null   object \n",
      " 11  Shape                   2683 non-null   object \n",
      " 12  Symmetry                2683 non-null   object \n",
      " 13  Table                   1827 non-null   float64\n",
      " 14  Vendor                  2683 non-null   int64  \n",
      "dtypes: float64(3), int64(2), object(10)\n",
      "memory usage: 314.5+ KB\n"
     ]
    }
   ],
   "source": [
    "df_new.info()"
   ]
  },
  {
   "cell_type": "markdown",
   "metadata": {},
   "source": [
    "For the testing data (that's how we will call the data for further prediction), we have 2683 samples of diamonds in total.\n",
    "\n",
    "Most features don't have missing values.\n",
    "\n",
    "The features containing missing values are Cert, Depth, Table and Known_Conflict_Diamond.\n",
    "\n",
    "The first three features mentioned above are in accord with the training dataset.\n",
    "\n",
    "The feature Known_Conflict_Diamond has a lot of missing values, so it needs further consideration."
   ]
  },
  {
   "cell_type": "markdown",
   "metadata": {},
   "source": [
    "We can also get the statistical description of the training and testing datasets."
   ]
  },
  {
   "cell_type": "code",
   "execution_count": 385,
   "metadata": {},
   "outputs": [
    {
     "data": {
      "text/html": [
       "<div>\n",
       "<style scoped>\n",
       "    .dataframe tbody tr th:only-of-type {\n",
       "        vertical-align: middle;\n",
       "    }\n",
       "\n",
       "    .dataframe tbody tr th {\n",
       "        vertical-align: top;\n",
       "    }\n",
       "\n",
       "    .dataframe thead th {\n",
       "        text-align: right;\n",
       "    }\n",
       "</style>\n",
       "<table border=\"1\" class=\"dataframe\">\n",
       "  <thead>\n",
       "    <tr style=\"text-align: right;\">\n",
       "      <th></th>\n",
       "      <th>Carats</th>\n",
       "      <th>Depth</th>\n",
       "      <th>Table</th>\n",
       "      <th>Vendor</th>\n",
       "      <th>Price</th>\n",
       "      <th>Retail</th>\n",
       "      <th>LogPrice</th>\n",
       "      <th>LogRetail</th>\n",
       "      <th>Profit</th>\n",
       "    </tr>\n",
       "  </thead>\n",
       "  <tbody>\n",
       "    <tr>\n",
       "      <th>count</th>\n",
       "      <td>8050.000000</td>\n",
       "      <td>6605.000000</td>\n",
       "      <td>5510.000000</td>\n",
       "      <td>8050.000000</td>\n",
       "      <td>8.050000e+03</td>\n",
       "      <td>8.050000e+03</td>\n",
       "      <td>8050.000000</td>\n",
       "      <td>8050.000000</td>\n",
       "      <td>8050.000000</td>\n",
       "    </tr>\n",
       "    <tr>\n",
       "      <th>mean</th>\n",
       "      <td>1.265807</td>\n",
       "      <td>61.770098</td>\n",
       "      <td>58.046642</td>\n",
       "      <td>2.050435</td>\n",
       "      <td>1.508101e+04</td>\n",
       "      <td>2.149478e+04</td>\n",
       "      <td>8.803274</td>\n",
       "      <td>9.127529</td>\n",
       "      <td>6413.768944</td>\n",
       "    </tr>\n",
       "    <tr>\n",
       "      <th>std</th>\n",
       "      <td>0.894574</td>\n",
       "      <td>1.387571</td>\n",
       "      <td>1.957110</td>\n",
       "      <td>0.983876</td>\n",
       "      <td>3.564261e+04</td>\n",
       "      <td>5.146239e+04</td>\n",
       "      <td>1.225854</td>\n",
       "      <td>1.282771</td>\n",
       "      <td>20326.028963</td>\n",
       "    </tr>\n",
       "    <tr>\n",
       "      <th>min</th>\n",
       "      <td>0.400000</td>\n",
       "      <td>50.800000</td>\n",
       "      <td>46.000000</td>\n",
       "      <td>1.000000</td>\n",
       "      <td>3.950000e+02</td>\n",
       "      <td>4.500000e+01</td>\n",
       "      <td>5.978886</td>\n",
       "      <td>3.806662</td>\n",
       "      <td>-673680.000000</td>\n",
       "    </tr>\n",
       "    <tr>\n",
       "      <th>25%</th>\n",
       "      <td>0.700000</td>\n",
       "      <td>61.000000</td>\n",
       "      <td>57.000000</td>\n",
       "      <td>1.000000</td>\n",
       "      <td>2.690000e+03</td>\n",
       "      <td>3.571250e+03</td>\n",
       "      <td>7.897296</td>\n",
       "      <td>8.180671</td>\n",
       "      <td>1090.000000</td>\n",
       "    </tr>\n",
       "    <tr>\n",
       "      <th>50%</th>\n",
       "      <td>1.040000</td>\n",
       "      <td>62.000000</td>\n",
       "      <td>58.000000</td>\n",
       "      <td>2.000000</td>\n",
       "      <td>7.050000e+03</td>\n",
       "      <td>1.033500e+04</td>\n",
       "      <td>8.860783</td>\n",
       "      <td>9.243291</td>\n",
       "      <td>3480.000000</td>\n",
       "    </tr>\n",
       "    <tr>\n",
       "      <th>75%</th>\n",
       "      <td>1.510000</td>\n",
       "      <td>62.600000</td>\n",
       "      <td>59.000000</td>\n",
       "      <td>3.000000</td>\n",
       "      <td>1.466000e+04</td>\n",
       "      <td>2.052000e+04</td>\n",
       "      <td>9.592878</td>\n",
       "      <td>9.929155</td>\n",
       "      <td>6593.750000</td>\n",
       "    </tr>\n",
       "    <tr>\n",
       "      <th>max</th>\n",
       "      <td>11.920000</td>\n",
       "      <td>69.700000</td>\n",
       "      <td>69.000000</td>\n",
       "      <td>4.000000</td>\n",
       "      <td>1.087785e+06</td>\n",
       "      <td>1.675190e+06</td>\n",
       "      <td>13.899654</td>\n",
       "      <td>14.331437</td>\n",
       "      <td>587405.000000</td>\n",
       "    </tr>\n",
       "  </tbody>\n",
       "</table>\n",
       "</div>"
      ],
      "text/plain": [
       "            Carats        Depth        Table       Vendor         Price        Retail     LogPrice    LogRetail         Profit\n",
       "count  8050.000000  6605.000000  5510.000000  8050.000000  8.050000e+03  8.050000e+03  8050.000000  8050.000000    8050.000000\n",
       "mean      1.265807    61.770098    58.046642     2.050435  1.508101e+04  2.149478e+04     8.803274     9.127529    6413.768944\n",
       "std       0.894574     1.387571     1.957110     0.983876  3.564261e+04  5.146239e+04     1.225854     1.282771   20326.028963\n",
       "min       0.400000    50.800000    46.000000     1.000000  3.950000e+02  4.500000e+01     5.978886     3.806662 -673680.000000\n",
       "25%       0.700000    61.000000    57.000000     1.000000  2.690000e+03  3.571250e+03     7.897296     8.180671    1090.000000\n",
       "50%       1.040000    62.000000    58.000000     2.000000  7.050000e+03  1.033500e+04     8.860783     9.243291    3480.000000\n",
       "75%       1.510000    62.600000    59.000000     3.000000  1.466000e+04  2.052000e+04     9.592878     9.929155    6593.750000\n",
       "max      11.920000    69.700000    69.000000     4.000000  1.087785e+06  1.675190e+06    13.899654    14.331437  587405.000000"
      ]
     },
     "execution_count": 385,
     "metadata": {},
     "output_type": "execute_result"
    }
   ],
   "source": [
    "df.drop(columns='id').describe()"
   ]
  },
  {
   "cell_type": "code",
   "execution_count": 386,
   "metadata": {},
   "outputs": [
    {
     "data": {
      "text/html": [
       "<div>\n",
       "<style scoped>\n",
       "    .dataframe tbody tr th:only-of-type {\n",
       "        vertical-align: middle;\n",
       "    }\n",
       "\n",
       "    .dataframe tbody tr th {\n",
       "        vertical-align: top;\n",
       "    }\n",
       "\n",
       "    .dataframe thead th {\n",
       "        text-align: right;\n",
       "    }\n",
       "</style>\n",
       "<table border=\"1\" class=\"dataframe\">\n",
       "  <thead>\n",
       "    <tr style=\"text-align: right;\">\n",
       "      <th></th>\n",
       "      <th>Carats</th>\n",
       "      <th>Depth</th>\n",
       "      <th>Table</th>\n",
       "      <th>Vendor</th>\n",
       "    </tr>\n",
       "  </thead>\n",
       "  <tbody>\n",
       "    <tr>\n",
       "      <th>count</th>\n",
       "      <td>2683.000000</td>\n",
       "      <td>2186.000000</td>\n",
       "      <td>1827.000000</td>\n",
       "      <td>2683.000000</td>\n",
       "    </tr>\n",
       "    <tr>\n",
       "      <th>mean</th>\n",
       "      <td>1.264845</td>\n",
       "      <td>61.781656</td>\n",
       "      <td>58.104324</td>\n",
       "      <td>2.045099</td>\n",
       "    </tr>\n",
       "    <tr>\n",
       "      <th>std</th>\n",
       "      <td>0.893580</td>\n",
       "      <td>1.389693</td>\n",
       "      <td>2.081220</td>\n",
       "      <td>0.984886</td>\n",
       "    </tr>\n",
       "    <tr>\n",
       "      <th>min</th>\n",
       "      <td>0.400000</td>\n",
       "      <td>56.000000</td>\n",
       "      <td>43.000000</td>\n",
       "      <td>1.000000</td>\n",
       "    </tr>\n",
       "    <tr>\n",
       "      <th>25%</th>\n",
       "      <td>0.700000</td>\n",
       "      <td>60.925000</td>\n",
       "      <td>57.000000</td>\n",
       "      <td>1.000000</td>\n",
       "    </tr>\n",
       "    <tr>\n",
       "      <th>50%</th>\n",
       "      <td>1.050000</td>\n",
       "      <td>62.000000</td>\n",
       "      <td>58.000000</td>\n",
       "      <td>2.000000</td>\n",
       "    </tr>\n",
       "    <tr>\n",
       "      <th>75%</th>\n",
       "      <td>1.505000</td>\n",
       "      <td>62.600000</td>\n",
       "      <td>59.000000</td>\n",
       "      <td>3.000000</td>\n",
       "    </tr>\n",
       "    <tr>\n",
       "      <th>max</th>\n",
       "      <td>10.050000</td>\n",
       "      <td>67.300000</td>\n",
       "      <td>70.000000</td>\n",
       "      <td>4.000000</td>\n",
       "    </tr>\n",
       "  </tbody>\n",
       "</table>\n",
       "</div>"
      ],
      "text/plain": [
       "            Carats        Depth        Table       Vendor\n",
       "count  2683.000000  2186.000000  1827.000000  2683.000000\n",
       "mean      1.264845    61.781656    58.104324     2.045099\n",
       "std       0.893580     1.389693     2.081220     0.984886\n",
       "min       0.400000    56.000000    43.000000     1.000000\n",
       "25%       0.700000    60.925000    57.000000     1.000000\n",
       "50%       1.050000    62.000000    58.000000     2.000000\n",
       "75%       1.505000    62.600000    59.000000     3.000000\n",
       "max      10.050000    67.300000    70.000000     4.000000"
      ]
     },
     "execution_count": 386,
     "metadata": {},
     "output_type": "execute_result"
    }
   ],
   "source": [
    "df_new.drop(columns='id').describe()"
   ]
  },
  {
   "cell_type": "markdown",
   "metadata": {},
   "source": [
    "### Missing Values Processing"
   ]
  },
  {
   "cell_type": "markdown",
   "metadata": {},
   "source": [
    "#### Cert"
   ]
  },
  {
   "cell_type": "markdown",
   "metadata": {},
   "source": [
    "First we examine the missing values of 'Cert' for the training dataset."
   ]
  },
  {
   "cell_type": "code",
   "execution_count": 387,
   "metadata": {},
   "outputs": [
    {
     "name": "stdout",
     "output_type": "stream",
     "text": [
      "There are 552 rows with missing values of column Cert.\n",
      "The number of unique values within the column Cert is 2.\n",
      "The unique values within the column Cert are ['AGSL', 'GemEx'].\n"
     ]
    }
   ],
   "source": [
    "name = 'Cert'\n",
    "cert = df[name]\n",
    "cert = list(set(cert))\n",
    "try:\n",
    "    cert.remove(np.nan)\n",
    "except ValueError:\n",
    "    pass\n",
    "number = len(df[name].loc[df[name].isna()])\n",
    "print(f'There are {number} rows with missing values of column {name}.')\n",
    "print(f'The number of unique values within the column {name} is {len(cert)}.')\n",
    "print(f'The unique values within the column {name} are {cert}.')"
   ]
  },
  {
   "cell_type": "markdown",
   "metadata": {},
   "source": [
    "Then we examine the missing value of 'Cert' for the testing dataset."
   ]
  },
  {
   "cell_type": "code",
   "execution_count": 388,
   "metadata": {},
   "outputs": [
    {
     "name": "stdout",
     "output_type": "stream",
     "text": [
      "There are 213 rows with missing values of column Cert.\n",
      "The number of unique values within the column Cert is 2.\n",
      "The unique values within the column Cert are ['AGSL', 'GemEx'].\n"
     ]
    }
   ],
   "source": [
    "name = 'Cert'\n",
    "cert = df_new[name]\n",
    "cert = list(set(cert))\n",
    "try:\n",
    "    cert.remove(np.nan)\n",
    "except ValueError:\n",
    "    pass\n",
    "number = len(df_new[name].loc[df_new[name].isna()])\n",
    "print(f'There are {number} rows with missing values of column {name}.')\n",
    "print(f'The number of unique values within the column {name} is {len(cert)}.')\n",
    "print(f'The unique values within the column {name} are {cert}.')"
   ]
  },
  {
   "cell_type": "markdown",
   "metadata": {},
   "source": [
    "We fill the missing values with 'Unknown', and then see the general result. We mainly focus on the training dataset, since it contains the monetary information."
   ]
  },
  {
   "cell_type": "code",
   "execution_count": 389,
   "metadata": {},
   "outputs": [
    {
     "data": {
      "text/html": [
       "<div>\n",
       "<style scoped>\n",
       "    .dataframe tbody tr th:only-of-type {\n",
       "        vertical-align: middle;\n",
       "    }\n",
       "\n",
       "    .dataframe tbody tr th {\n",
       "        vertical-align: top;\n",
       "    }\n",
       "\n",
       "    .dataframe thead th {\n",
       "        text-align: right;\n",
       "    }\n",
       "</style>\n",
       "<table border=\"1\" class=\"dataframe\">\n",
       "  <thead>\n",
       "    <tr style=\"text-align: right;\">\n",
       "      <th></th>\n",
       "      <th>count</th>\n",
       "      <th>MaxProfit</th>\n",
       "      <th>MinProfit</th>\n",
       "      <th>AvgProfit</th>\n",
       "      <th>StdProfit</th>\n",
       "      <th>MaxRetail</th>\n",
       "      <th>MinRetail</th>\n",
       "      <th>AvgRetail</th>\n",
       "      <th>StdRetail</th>\n",
       "      <th>MaxPrice</th>\n",
       "      <th>MinPrice</th>\n",
       "      <th>AvgPrice</th>\n",
       "      <th>StdPrice</th>\n",
       "    </tr>\n",
       "    <tr>\n",
       "      <th>Cert</th>\n",
       "      <th></th>\n",
       "      <th></th>\n",
       "      <th></th>\n",
       "      <th></th>\n",
       "      <th></th>\n",
       "      <th></th>\n",
       "      <th></th>\n",
       "      <th></th>\n",
       "      <th></th>\n",
       "      <th></th>\n",
       "      <th></th>\n",
       "      <th></th>\n",
       "      <th></th>\n",
       "    </tr>\n",
       "  </thead>\n",
       "  <tbody>\n",
       "    <tr>\n",
       "      <th>AGSL</th>\n",
       "      <td>6973</td>\n",
       "      <td>587405</td>\n",
       "      <td>-673680</td>\n",
       "      <td>6532.980066</td>\n",
       "      <td>20769.625982</td>\n",
       "      <td>1675190</td>\n",
       "      <td>45</td>\n",
       "      <td>21752.096659</td>\n",
       "      <td>52341.080447</td>\n",
       "      <td>1087785</td>\n",
       "      <td>395</td>\n",
       "      <td>15219.116593</td>\n",
       "      <td>36392.682852</td>\n",
       "    </tr>\n",
       "    <tr>\n",
       "      <th>GemEx</th>\n",
       "      <td>525</td>\n",
       "      <td>107995</td>\n",
       "      <td>-26650</td>\n",
       "      <td>5847.990476</td>\n",
       "      <td>11454.548128</td>\n",
       "      <td>307990</td>\n",
       "      <td>90</td>\n",
       "      <td>18889.076190</td>\n",
       "      <td>32855.915484</td>\n",
       "      <td>199995</td>\n",
       "      <td>605</td>\n",
       "      <td>13041.085714</td>\n",
       "      <td>22438.936168</td>\n",
       "    </tr>\n",
       "    <tr>\n",
       "      <th>Unknown</th>\n",
       "      <td>552</td>\n",
       "      <td>403145</td>\n",
       "      <td>-21995</td>\n",
       "      <td>5445.969203</td>\n",
       "      <td>21229.213350</td>\n",
       "      <td>875780</td>\n",
       "      <td>150</td>\n",
       "      <td>20722.545290</td>\n",
       "      <td>54662.188499</td>\n",
       "      <td>472635</td>\n",
       "      <td>430</td>\n",
       "      <td>15276.576087</td>\n",
       "      <td>36282.104878</td>\n",
       "    </tr>\n",
       "  </tbody>\n",
       "</table>\n",
       "</div>"
      ],
      "text/plain": [
       "         count  MaxProfit  MinProfit    AvgProfit     StdProfit  MaxRetail  MinRetail     AvgRetail     StdRetail  MaxPrice  MinPrice      AvgPrice      StdPrice\n",
       "Cert                                                                                                                                                             \n",
       "AGSL      6973     587405    -673680  6532.980066  20769.625982    1675190         45  21752.096659  52341.080447   1087785       395  15219.116593  36392.682852\n",
       "GemEx      525     107995     -26650  5847.990476  11454.548128     307990         90  18889.076190  32855.915484    199995       605  13041.085714  22438.936168\n",
       "Unknown    552     403145     -21995  5445.969203  21229.213350     875780        150  20722.545290  54662.188499    472635       430  15276.576087  36282.104878"
      ]
     },
     "execution_count": 389,
     "metadata": {},
     "output_type": "execute_result"
    }
   ],
   "source": [
    "df['Cert'] = df['Cert'].fillna('Unknown')\n",
    "df_group = df.groupby(by='Cert').agg({\n",
    "    'id': 'count',\n",
    "    'Profit': ['max', 'min', 'mean', 'std'],\n",
    "    'Retail': ['max', 'min', 'mean', 'std'],\n",
    "    'Price': ['max', 'min', 'mean', 'std']\n",
    "})\n",
    "df_group.columns = ['count', 'MaxProfit', 'MinProfit', 'AvgProfit', 'StdProfit', 'MaxRetail', 'MinRetail', 'AvgRetail', 'StdRetail', 'MaxPrice', 'MinPrice', 'AvgPrice', 'StdPrice']\n",
    "df_group"
   ]
  },
  {
   "cell_type": "code",
   "execution_count": 390,
   "metadata": {},
   "outputs": [
    {
     "data": {
      "text/html": [
       "<div>\n",
       "<style scoped>\n",
       "    .dataframe tbody tr th:only-of-type {\n",
       "        vertical-align: middle;\n",
       "    }\n",
       "\n",
       "    .dataframe tbody tr th {\n",
       "        vertical-align: top;\n",
       "    }\n",
       "\n",
       "    .dataframe thead th {\n",
       "        text-align: right;\n",
       "    }\n",
       "</style>\n",
       "<table border=\"1\" class=\"dataframe\">\n",
       "  <thead>\n",
       "    <tr style=\"text-align: right;\">\n",
       "      <th></th>\n",
       "      <th>count</th>\n",
       "    </tr>\n",
       "    <tr>\n",
       "      <th>Cert</th>\n",
       "      <th></th>\n",
       "    </tr>\n",
       "  </thead>\n",
       "  <tbody>\n",
       "    <tr>\n",
       "      <th>AGSL</th>\n",
       "      <td>2265</td>\n",
       "    </tr>\n",
       "    <tr>\n",
       "      <th>GemEx</th>\n",
       "      <td>205</td>\n",
       "    </tr>\n",
       "    <tr>\n",
       "      <th>Unknown</th>\n",
       "      <td>213</td>\n",
       "    </tr>\n",
       "  </tbody>\n",
       "</table>\n",
       "</div>"
      ],
      "text/plain": [
       "         count\n",
       "Cert          \n",
       "AGSL      2265\n",
       "GemEx      205\n",
       "Unknown    213"
      ]
     },
     "execution_count": 390,
     "metadata": {},
     "output_type": "execute_result"
    }
   ],
   "source": [
    "df_new['Cert'] = df_new['Cert'].fillna('Unknown')\n",
    "df_new_group = df_new.groupby(by='Cert').agg({\n",
    "    'id': 'count'\n",
    "})\n",
    "df_new_group.columns = ['count']\n",
    "df_new_group"
   ]
  },
  {
   "cell_type": "markdown",
   "metadata": {},
   "source": [
    "We should also treat Cert as dummy variables.\n",
    "\n",
    "Note: Here we can use the function get_dummies() to generate dummy variables automatically."
   ]
  },
  {
   "cell_type": "code",
   "execution_count": 391,
   "metadata": {},
   "outputs": [],
   "source": [
    "# for cert in ['AGSL', 'GemEx', 'Unknown']:\n",
    "#     col_name = f'Cert_{cert}'\n",
    "#     col = [1 if x == cert else 0 for x in df['Cert'].to_list()]\n",
    "#     df[col_name] = col\n",
    "#     col_new = [1 if x == cert else 0 for x in df_new['Cert'].to_list()]\n",
    "#     df_new[col_name] = col_new"
   ]
  },
  {
   "cell_type": "markdown",
   "metadata": {},
   "source": [
    "We can check the violin plots for the distribution of profit within each Cert category."
   ]
  },
  {
   "cell_type": "code",
   "execution_count": 392,
   "metadata": {},
   "outputs": [
    {
     "name": "stdout",
     "output_type": "stream",
     "text": [
      "For AGSL diamonds, the zone bounded by mean value with one standard deviation contains 94.44 of the data.\n",
      "For GemEx diamonds, the zone bounded by mean value with one standard deviation contains 92.19 of the data.\n",
      "For Unknown diamonds, the zone bounded by mean value with one standard deviation contains 96.38 of the data.\n"
     ]
    },
    {
     "data": {
      "text/plain": [
       "([<matplotlib.axis.XTick at 0x1e7a8fe1220>,\n",
       "  <matplotlib.axis.XTick at 0x1e7a8fe1af0>,\n",
       "  <matplotlib.axis.XTick at 0x1e7a8fe36a0>],\n",
       " [Text(0, 0, 'AGSL'), Text(1, 0, 'GemEx'), Text(2, 0, 'Unknown')])"
      ]
     },
     "execution_count": 392,
     "metadata": {},
     "output_type": "execute_result"
    },
    {
     "data": {
      "image/png": "[encoded data removed]",
      "text/plain": [
       "<Figure size 576x432 with 1 Axes>"
      ]
     },
     "metadata": {
      "needs_background": "light"
     },
     "output_type": "display_data"
    }
   ],
   "source": [
    "profits = []\n",
    "for cert in ['AGSL', 'GemEx', 'Unknown']:\n",
    "    df_sub = df_group[df_group.index == cert]\n",
    "    profit = df[df['Cert'] == cert]['Profit'].to_list()\n",
    "    min_val, max_val = float(df_sub['AvgProfit']) - float(df_sub['StdProfit']), float(df_sub['AvgProfit']) + float(df_sub['StdProfit'])\n",
    "    sub_list = [x for x in profit if min_val <= x and x <= max_val]\n",
    "    x = '%.2f' % (len(sub_list) / len(profit) * 100)\n",
    "    print(f'For {cert} diamonds, the zone bounded by mean value with one standard deviation contains {x} of the data.')\n",
    "    profits.append(sub_list)\n",
    "plt.figure(figsize=(8, 6))\n",
    "sns.violinplot(data=profits)\n",
    "plt.xlabel('Cert')\n",
    "plt.ylabel('Profit')\n",
    "plt.xticks(ticks=[0, 1, 2], labels=['AGSL', 'GemEx', 'Unknown'])"
   ]
  },
  {
   "cell_type": "markdown",
   "metadata": {},
   "source": [
    "From the above results, we have some insightful findings.\n",
    "1. The value of Cert has correlation with the pricing and profits of diamonds. The average price is ranked as AGSL>Unknown>GemEx, while the average profit is ranked as AGSL>GemEX>Unknown. Generally speaking, diamonds from AGSL tend to get the highest price and generate the largest profit, while diamonds from GemEx or Unknown tend to be less valuable on average.\n",
    "2. For the violin plots, we only consider the data with profits in [$\\mu$-$\\sigma$, $\\mu$+$\\sigma$], which contains the majority of data (more than 90%). Otherwise, the violin plots will be highly condensed and can't be interpreted. From the violin plots, we can see that plots of diamonds with AGSL Cert or Unknown Cert have a longer shape, which means more fluctuation in price. In contrast, the plot of diamonds with GemEx Cert has a shorter shape, which means such diamonds are more stable in profit.\n",
    "3. The average retail and price of GemEx is lower than that of AGSL and Unknown, which means that GemEx may focus on smaller diamond business with a more conservative style, while AGSL and Unknown focus on higher-priced diamonds."
   ]
  },
  {
   "cell_type": "markdown",
   "metadata": {},
   "source": [
    "#### Depth"
   ]
  },
  {
   "cell_type": "markdown",
   "metadata": {},
   "source": [
    "First we examine the missing values of 'Depth' for the training dataset."
   ]
  },
  {
   "cell_type": "code",
   "execution_count": 393,
   "metadata": {},
   "outputs": [
    {
     "name": "stdout",
     "output_type": "stream",
     "text": [
      "There are 1445 rows with missing values of column Depth.\n"
     ]
    }
   ],
   "source": [
    "name = 'Depth'\n",
    "number = len(df[name].loc[df[name].isna()])\n",
    "print(f'There are {number} rows with missing values of column {name}.')"
   ]
  },
  {
   "cell_type": "markdown",
   "metadata": {},
   "source": [
    "Then we examine the missing value of 'Depth' for the testing dataset."
   ]
  },
  {
   "cell_type": "code",
   "execution_count": 394,
   "metadata": {},
   "outputs": [
    {
     "name": "stdout",
     "output_type": "stream",
     "text": [
      "There are 497 rows with missing values of column Depth.\n"
     ]
    }
   ],
   "source": [
    "name = 'Depth'\n",
    "number = len(df_new[name].loc[df_new[name].isna()])\n",
    "print(f'There are {number} rows with missing values of column {name}.')"
   ]
  },
  {
   "cell_type": "markdown",
   "metadata": {},
   "source": [
    "Then we analyze the correlation of Depth between retail/price/profit."
   ]
  },
  {
   "cell_type": "code",
   "execution_count": 395,
   "metadata": {},
   "outputs": [
    {
     "name": "stdout",
     "output_type": "stream",
     "text": [
      "The correlation between Depth and Retail is -0.0875.\n",
      "The correlation between Depth and Price is -0.0889.\n",
      "The correlation between Depth and Profit is -0.0639.\n"
     ]
    }
   ],
   "source": [
    "df_drop = df.dropna(axis=0, subset=['Depth'], how='any')\n",
    "for item in ['Retail', 'Price', 'Profit']:\n",
    "    corr = np.corrcoef(df_drop['Depth'], df_drop[item])[0, 1]\n",
    "    x = '%.4f' % corr\n",
    "    print(f'The correlation between Depth and {item} is {x}.')"
   ]
  },
  {
   "cell_type": "markdown",
   "metadata": {},
   "source": [
    "From the above results, we can see the correlation between Depth and Monetary Variables is negative and not statiscally significant.\n",
    "\n",
    "Therefore, we can use imputation methods to fill in the missing values, which won't remarkably interfere with the final pricing.\n",
    "\n",
    "Here we use KNN imputer and calculate the mean value of depth to fill the missing values."
   ]
  },
  {
   "cell_type": "code",
   "execution_count": 586,
   "metadata": {},
   "outputs": [],
   "source": [
    "knn = KNNImputer(n_neighbors=k)\n",
    "imputed_df = knn.fit_transform(df[continuous_vars])\n",
    "imputed_df = pd.DataFrame(imputed_df, columns=continuous_vars)\n",
    "df['Depth'] = imputed_df['Depth']\n",
    "\n",
    "imputed_df_new = knn.transform(df_new[continuous_vars])\n",
    "imputed_df_new = pd.DataFrame(imputed_df_new, columns=continuous_vars)\n",
    "df_new['Depth'] = imputed_df_new['Depth']"
   ]
  },
  {
   "cell_type": "code",
   "execution_count": 397,
   "metadata": {},
   "outputs": [
    {
     "data": {
      "text/plain": [
       "([<matplotlib.axis.XTick at 0x1e798616a30>,\n",
       "  <matplotlib.axis.XTick at 0x1e798616a00>],\n",
       " [Text(0, 0, 'Training'), Text(1, 0, 'Testing')])"
      ]
     },
     "execution_count": 397,
     "metadata": {},
     "output_type": "execute_result"
    },
    {
     "data": {
      "image/png": "[encoded data removed]",
      "text/plain": [
       "<Figure size 576x432 with 1 Axes>"
      ]
     },
     "metadata": {
      "needs_background": "light"
     },
     "output_type": "display_data"
    }
   ],
   "source": [
    "plt.figure(figsize=(8, 6))\n",
    "sns.violinplot(data=[df['Depth'], df_new['Depth']])\n",
    "plt.xlabel('Dataset')\n",
    "plt.ylabel('Depth')\n",
    "plt.xticks(ticks=[0, 1], labels=['Training', 'Testing'])"
   ]
  },
  {
   "cell_type": "markdown",
   "metadata": {},
   "source": [
    "From the violin plot, we can see that the training and testing datasets have similar mean values of Depth.\n",
    "\n",
    "The distribution of Depth are also both similar to normal distribution.\n",
    "\n",
    "But the training dataset has more extreme values of Depth than the testing dataset, which may implicate a slightly higher noise."
   ]
  },
  {
   "cell_type": "markdown",
   "metadata": {},
   "source": [
    "#### Table"
   ]
  },
  {
   "cell_type": "markdown",
   "metadata": {},
   "source": [
    "First we examine the missing values of 'Table' for the training dataset."
   ]
  },
  {
   "cell_type": "code",
   "execution_count": 398,
   "metadata": {},
   "outputs": [
    {
     "name": "stdout",
     "output_type": "stream",
     "text": [
      "There are 2540 rows with missing values of column Table.\n"
     ]
    }
   ],
   "source": [
    "name = 'Table'\n",
    "number = len(df[name].loc[df[name].isna()])\n",
    "print(f'There are {number} rows with missing values of column {name}.')"
   ]
  },
  {
   "cell_type": "markdown",
   "metadata": {},
   "source": [
    "Then we examine the missing value of 'Table' for the testing dataset."
   ]
  },
  {
   "cell_type": "code",
   "execution_count": 399,
   "metadata": {},
   "outputs": [
    {
     "name": "stdout",
     "output_type": "stream",
     "text": [
      "There are 856 rows with missing values of column Table.\n"
     ]
    }
   ],
   "source": [
    "name = 'Table'\n",
    "number = len(df_new[name].loc[df_new[name].isna()])\n",
    "print(f'There are {number} rows with missing values of column {name}.')"
   ]
  },
  {
   "cell_type": "markdown",
   "metadata": {},
   "source": [
    "Then we analyze the correlation of Table between retail/price/profit."
   ]
  },
  {
   "cell_type": "code",
   "execution_count": 400,
   "metadata": {},
   "outputs": [
    {
     "name": "stdout",
     "output_type": "stream",
     "text": [
      "The correlation between Table and Retail is 0.0026.\n",
      "The correlation between Table and Price is 0.0032.\n",
      "The correlation between Table and Profit is 0.0013.\n"
     ]
    }
   ],
   "source": [
    "df_drop = df.dropna(axis=0, subset=['Table'], how='any')\n",
    "for item in ['Retail', 'Price', 'Profit']:\n",
    "    corr = np.corrcoef(df_drop['Table'], df_drop[item])[0, 1]\n",
    "    x = '%.4f' % corr\n",
    "    print(f'The correlation between Table and {item} is {x}.')"
   ]
  },
  {
   "cell_type": "markdown",
   "metadata": {},
   "source": [
    "From the above results, we can see the correlation between Table and Monetary Variables is positive and not statiscally significant. (Note that the lower correlation than depth may be partially due to the massive missing values.)\n",
    "\n",
    "Therefore, we can use imputation methods to fill in the missing values, which won't remarkably interfere with the final pricing.\n",
    "\n",
    "Here we use KNN imputer and calculate the mean value of table to fill the missing values."
   ]
  },
  {
   "cell_type": "code",
   "execution_count": 401,
   "metadata": {},
   "outputs": [],
   "source": [
    "df['Table'] = imputed_df['Table']\n",
    "df_new['Table'] = imputed_df_new['Table']"
   ]
  },
  {
   "cell_type": "code",
   "execution_count": 402,
   "metadata": {},
   "outputs": [
    {
     "data": {
      "text/plain": [
       "([<matplotlib.axis.XTick at 0x1e79aea4dc0>,\n",
       "  <matplotlib.axis.XTick at 0x1e79aea4d90>],\n",
       " [Text(0, 0, 'Training'), Text(1, 0, 'Testing')])"
      ]
     },
     "execution_count": 402,
     "metadata": {},
     "output_type": "execute_result"
    },
    {
     "data": {
      "image/png": "[encoded data removed]",
      "text/plain": [
       "<Figure size 576x432 with 1 Axes>"
      ]
     },
     "metadata": {
      "needs_background": "light"
     },
     "output_type": "display_data"
    }
   ],
   "source": [
    "plt.figure(figsize=(8, 6))\n",
    "sns.violinplot(data=[df['Table'], df_new['Table']])\n",
    "plt.xlabel('Dataset')\n",
    "plt.ylabel('Table')\n",
    "plt.xticks(ticks=[0, 1], labels=['Training', 'Testing'])"
   ]
  },
  {
   "cell_type": "markdown",
   "metadata": {},
   "source": [
    "From the violin plot, we can see that the training and testing datasets have similar mean values of Table.\n",
    "\n",
    "The general shape of distribution of Table are also both similar to normal distribution.\n",
    "\n",
    "But the training dataset has more fluctuation in the shape of distribution than the testing dataset, which may implicate a higher randomized noise."
   ]
  },
  {
   "cell_type": "markdown",
   "metadata": {},
   "source": [
    "#### Known_Conflict_Diamond"
   ]
  },
  {
   "cell_type": "markdown",
   "metadata": {},
   "source": [
    "First we examine the missing values of 'Known_Conflict_Diamond' in both the training and testing datasets."
   ]
  },
  {
   "cell_type": "code",
   "execution_count": 403,
   "metadata": {},
   "outputs": [
    {
     "name": "stdout",
     "output_type": "stream",
     "text": [
      "There are 0 rows with missing values of column Known_Conflict_Diamond.\n",
      "The number of unique values within the column Known_Conflict_Diamond is 2.\n",
      "The unique values within the column Known_Conflict_Diamond are [False, True].\n"
     ]
    }
   ],
   "source": [
    "name = 'Known_Conflict_Diamond'\n",
    "known = df[name]\n",
    "known = list(set(known))\n",
    "try:\n",
    "    known.remove(np.nan)\n",
    "except ValueError:\n",
    "    pass\n",
    "number = len(df[name].loc[df[name].isna()])\n",
    "print(f'There are {number} rows with missing values of column {name}.')\n",
    "print(f'The number of unique values within the column {name} is {len(known)}.')\n",
    "print(f'The unique values within the column {name} are {known}.')"
   ]
  },
  {
   "cell_type": "code",
   "execution_count": 404,
   "metadata": {},
   "outputs": [
    {
     "name": "stdout",
     "output_type": "stream",
     "text": [
      "There are 2378 rows with missing values of column Known_Conflict_Diamond.\n",
      "The number of unique values within the column Known_Conflict_Diamond is 2.\n",
      "The unique values within the column Known_Conflict_Diamond are [True, False].\n"
     ]
    }
   ],
   "source": [
    "name = 'Known_Conflict_Diamond'\n",
    "known = df_new[name]\n",
    "known = list(set(known))\n",
    "try:\n",
    "    known.remove(np.nan)\n",
    "except ValueError:\n",
    "    pass\n",
    "number = len(df_new[name].loc[df_new[name].isna()])\n",
    "print(f'There are {number} rows with missing values of column {name}.')\n",
    "print(f'The number of unique values within the column {name} is {len(known)}.')\n",
    "print(f'The unique values within the column {name} are {known}.')"
   ]
  },
  {
   "cell_type": "markdown",
   "metadata": {},
   "source": [
    "This is a quite tough feature with missing values to process, since only the testing dataset contains a lot of missing values.\n",
    "\n",
    "Then we examine the two different categories of diamonds in the training dataset."
   ]
  },
  {
   "cell_type": "code",
   "execution_count": 405,
   "metadata": {},
   "outputs": [
    {
     "data": {
      "text/html": [
       "<div>\n",
       "<style scoped>\n",
       "    .dataframe tbody tr th:only-of-type {\n",
       "        vertical-align: middle;\n",
       "    }\n",
       "\n",
       "    .dataframe tbody tr th {\n",
       "        vertical-align: top;\n",
       "    }\n",
       "\n",
       "    .dataframe thead th {\n",
       "        text-align: right;\n",
       "    }\n",
       "</style>\n",
       "<table border=\"1\" class=\"dataframe\">\n",
       "  <thead>\n",
       "    <tr style=\"text-align: right;\">\n",
       "      <th></th>\n",
       "      <th>count</th>\n",
       "      <th>MaxProfit</th>\n",
       "      <th>MinProfit</th>\n",
       "      <th>AvgProfit</th>\n",
       "      <th>StdProfit</th>\n",
       "      <th>MaxRetail</th>\n",
       "      <th>MinRetail</th>\n",
       "      <th>AvgRetail</th>\n",
       "      <th>StdRetail</th>\n",
       "      <th>MaxPrice</th>\n",
       "      <th>MinPrice</th>\n",
       "      <th>AvgPrice</th>\n",
       "      <th>StdPrice</th>\n",
       "    </tr>\n",
       "    <tr>\n",
       "      <th>Known_Conflict_Diamond</th>\n",
       "      <th></th>\n",
       "      <th></th>\n",
       "      <th></th>\n",
       "      <th></th>\n",
       "      <th></th>\n",
       "      <th></th>\n",
       "      <th></th>\n",
       "      <th></th>\n",
       "      <th></th>\n",
       "      <th></th>\n",
       "      <th></th>\n",
       "      <th></th>\n",
       "      <th></th>\n",
       "    </tr>\n",
       "  </thead>\n",
       "  <tbody>\n",
       "    <tr>\n",
       "      <th>False</th>\n",
       "      <td>7741</td>\n",
       "      <td>587405</td>\n",
       "      <td>-41255</td>\n",
       "      <td>7232.073376</td>\n",
       "      <td>18292.866380</td>\n",
       "      <td>1675190</td>\n",
       "      <td>380</td>\n",
       "      <td>22257.513241</td>\n",
       "      <td>52313.768802</td>\n",
       "      <td>1087785</td>\n",
       "      <td>395</td>\n",
       "      <td>15025.439866</td>\n",
       "      <td>34860.044640</td>\n",
       "    </tr>\n",
       "    <tr>\n",
       "      <th>True</th>\n",
       "      <td>309</td>\n",
       "      <td>-455</td>\n",
       "      <td>-673680</td>\n",
       "      <td>-14086.213592</td>\n",
       "      <td>44149.801266</td>\n",
       "      <td>109500</td>\n",
       "      <td>45</td>\n",
       "      <td>2386.957929</td>\n",
       "      <td>7468.435742</td>\n",
       "      <td>783180</td>\n",
       "      <td>500</td>\n",
       "      <td>16473.171521</td>\n",
       "      <td>51565.378625</td>\n",
       "    </tr>\n",
       "  </tbody>\n",
       "</table>\n",
       "</div>"
      ],
      "text/plain": [
       "                        count  MaxProfit  MinProfit     AvgProfit     StdProfit  MaxRetail  MinRetail     AvgRetail     StdRetail  MaxPrice  MinPrice      AvgPrice      StdPrice\n",
       "Known_Conflict_Diamond                                                                                                                                                           \n",
       "False                    7741     587405     -41255   7232.073376  18292.866380    1675190        380  22257.513241  52313.768802   1087785       395  15025.439866  34860.044640\n",
       "True                      309       -455    -673680 -14086.213592  44149.801266     109500         45   2386.957929   7468.435742    783180       500  16473.171521  51565.378625"
      ]
     },
     "execution_count": 405,
     "metadata": {},
     "output_type": "execute_result"
    }
   ],
   "source": [
    "df_group = df.groupby(by='Known_Conflict_Diamond').agg({\n",
    "    'id': 'count',\n",
    "    'Profit': ['max', 'min', 'mean', 'std'],\n",
    "    'Retail': ['max', 'min', 'mean', 'std'],\n",
    "    'Price': ['max', 'min', 'mean', 'std']\n",
    "})\n",
    "df_group.columns = ['count', 'MaxProfit', 'MinProfit', 'AvgProfit', 'StdProfit', 'MaxRetail', 'MinRetail', 'AvgRetail', 'StdRetail', 'MaxPrice', 'MinPrice', 'AvgPrice', 'StdPrice']\n",
    "df_group"
   ]
  },
  {
   "cell_type": "markdown",
   "metadata": {},
   "source": [
    "It is quite obvious that Diamonds with label True have significantly lower price/retail/profit than those with label False.\n",
    "\n",
    "It is not surprising since the illegal trade will diminish the value of diamonds.\n",
    "\n",
    "Then we examine the propotion of two categories in the testing dataset."
   ]
  },
  {
   "cell_type": "code",
   "execution_count": 406,
   "metadata": {},
   "outputs": [
    {
     "data": {
      "text/html": [
       "<div>\n",
       "<style scoped>\n",
       "    .dataframe tbody tr th:only-of-type {\n",
       "        vertical-align: middle;\n",
       "    }\n",
       "\n",
       "    .dataframe tbody tr th {\n",
       "        vertical-align: top;\n",
       "    }\n",
       "\n",
       "    .dataframe thead th {\n",
       "        text-align: right;\n",
       "    }\n",
       "</style>\n",
       "<table border=\"1\" class=\"dataframe\">\n",
       "  <thead>\n",
       "    <tr style=\"text-align: right;\">\n",
       "      <th></th>\n",
       "      <th>count</th>\n",
       "    </tr>\n",
       "    <tr>\n",
       "      <th>Known_Conflict_Diamond</th>\n",
       "      <th></th>\n",
       "    </tr>\n",
       "  </thead>\n",
       "  <tbody>\n",
       "    <tr>\n",
       "      <th>False</th>\n",
       "      <td>259</td>\n",
       "    </tr>\n",
       "    <tr>\n",
       "      <th>True</th>\n",
       "      <td>46</td>\n",
       "    </tr>\n",
       "  </tbody>\n",
       "</table>\n",
       "</div>"
      ],
      "text/plain": [
       "                        count\n",
       "Known_Conflict_Diamond       \n",
       "False                     259\n",
       "True                       46"
      ]
     },
     "execution_count": 406,
     "metadata": {},
     "output_type": "execute_result"
    }
   ],
   "source": [
    "df_new_group = df_new.groupby(by='Known_Conflict_Diamond').agg({\n",
    "    'id': 'count',\n",
    "})\n",
    "df_new_group.columns = ['count']\n",
    "df_new_group"
   ]
  },
  {
   "cell_type": "markdown",
   "metadata": {},
   "source": [
    "We can see that in both the training and testing dataset, Diamonds with label False are much more in quantity than those with label True. It seems appropriate for us to fill missing values with label False.\n",
    "\n",
    "Actually, such method does is reasonable for the following two reasons.\n",
    "\n",
    "1. Label False accounts for the majority of all the labels, so it makes sense just regarding the unknown diamonds as label False.\n",
    "2. (This is the main reason!) Since the judgment of label True will remarkably decrease diamonds' value, we should be very careful when judging labels. In practice, we assume all diamonds have not been illegally traded (corresponding to label False), unless there is much evidence supporting the illegal trade. Similarly, for the diamonds with unknown labels, we should also label them as False, unless there is other evidence. It is comparable to hypothesis testing, where the null hypothesis is the diamonds are labelled True. Then the p-value here should be rather small, since only a few diamonds are labelled True. Therefore, we can reject the null hypothesis, which means that the diamonds should be labelled False."
   ]
  },
  {
   "cell_type": "code",
   "execution_count": 407,
   "metadata": {},
   "outputs": [
    {
     "data": {
      "text/html": [
       "<div>\n",
       "<style scoped>\n",
       "    .dataframe tbody tr th:only-of-type {\n",
       "        vertical-align: middle;\n",
       "    }\n",
       "\n",
       "    .dataframe tbody tr th {\n",
       "        vertical-align: top;\n",
       "    }\n",
       "\n",
       "    .dataframe thead th {\n",
       "        text-align: right;\n",
       "    }\n",
       "</style>\n",
       "<table border=\"1\" class=\"dataframe\">\n",
       "  <thead>\n",
       "    <tr style=\"text-align: right;\">\n",
       "      <th></th>\n",
       "      <th>count</th>\n",
       "    </tr>\n",
       "    <tr>\n",
       "      <th>Known_Conflict_Diamond</th>\n",
       "      <th></th>\n",
       "    </tr>\n",
       "  </thead>\n",
       "  <tbody>\n",
       "    <tr>\n",
       "      <th>False</th>\n",
       "      <td>2637</td>\n",
       "    </tr>\n",
       "    <tr>\n",
       "      <th>True</th>\n",
       "      <td>46</td>\n",
       "    </tr>\n",
       "  </tbody>\n",
       "</table>\n",
       "</div>"
      ],
      "text/plain": [
       "                        count\n",
       "Known_Conflict_Diamond       \n",
       "False                    2637\n",
       "True                       46"
      ]
     },
     "execution_count": 407,
     "metadata": {},
     "output_type": "execute_result"
    }
   ],
   "source": [
    "df_new['Known_Conflict_Diamond'] = df_new['Known_Conflict_Diamond'].fillna(False)\n",
    "df_new_group = df_new.groupby(by='Known_Conflict_Diamond').agg({\n",
    "    'id': 'count'\n",
    "})\n",
    "df_new_group.columns = ['count']\n",
    "df_new_group"
   ]
  },
  {
   "cell_type": "markdown",
   "metadata": {},
   "source": [
    "### Other Variables Processing"
   ]
  },
  {
   "cell_type": "markdown",
   "metadata": {},
   "source": [
    "Since we have processed the variables with missing values, we now focus on other variables.\n",
    "\n",
    "Note that variables can be generally categorized as continuous and categorical."
   ]
  },
  {
   "cell_type": "markdown",
   "metadata": {},
   "source": [
    "#### Carats"
   ]
  },
  {
   "cell_type": "markdown",
   "metadata": {},
   "source": [
    "First we check whether there are missing values (0 carats) in the datasets."
   ]
  },
  {
   "cell_type": "code",
   "execution_count": 408,
   "metadata": {},
   "outputs": [
    {
     "name": "stdout",
     "output_type": "stream",
     "text": [
      "There are 0 rows with missing values of column Carats. (Training Dataset)\n",
      "There are 0 rows with missing values of column Carats. (Testing Dataset)\n"
     ]
    }
   ],
   "source": [
    "name = 'Carats'\n",
    "number = len(df[name].loc[df[name].isna()])\n",
    "print(f'There are {number} rows with missing values of column {name}. (Training Dataset)')\n",
    "number = len(df_new[name].loc[df_new[name].isna()])\n",
    "print(f'There are {number} rows with missing values of column {name}. (Testing Dataset)')"
   ]
  },
  {
   "cell_type": "markdown",
   "metadata": {},
   "source": [
    "Then we check the distribution of Carats for both the training and testing datasets."
   ]
  },
  {
   "cell_type": "code",
   "execution_count": 409,
   "metadata": {},
   "outputs": [
    {
     "data": {
      "text/plain": [
       "([<matplotlib.axis.XTick at 0x1e79aef0eb0>,\n",
       "  <matplotlib.axis.XTick at 0x1e79aef0e80>],\n",
       " [Text(0, 0, 'Training'), Text(1, 0, 'Testing')])"
      ]
     },
     "execution_count": 409,
     "metadata": {},
     "output_type": "execute_result"
    },
    {
     "data": {
      "image/png": "[encoded data removed]",
      "text/plain": [
       "<Figure size 576x432 with 1 Axes>"
      ]
     },
     "metadata": {
      "needs_background": "light"
     },
     "output_type": "display_data"
    }
   ],
   "source": [
    "plt.figure(figsize=(8, 6))\n",
    "sns.violinplot(data=[df['Carats'], df_new['Carats']])\n",
    "plt.xlabel('Dataset')\n",
    "plt.ylabel('Carats')\n",
    "plt.xticks(ticks=[0, 1], labels=['Training', 'Testing'])"
   ]
  },
  {
   "cell_type": "markdown",
   "metadata": {},
   "source": [
    "From the violin plots, we can see that the training and testing datasets have similar distribution of Carats.\n",
    "\n",
    "Most diamonds are around 1 Carats (probably 0.5~1.5 carats), while heavier diamonds are rarer.\n",
    "\n",
    "Note that there exist a few outliers, which is much higher than the majority. This means that few diamonds are much heavier than the rest, thus having much higher values based on instinct."
   ]
  },
  {
   "cell_type": "markdown",
   "metadata": {},
   "source": [
    "Then we analyze the correlation of Carats between retail/price/profit."
   ]
  },
  {
   "cell_type": "code",
   "execution_count": 410,
   "metadata": {},
   "outputs": [
    {
     "name": "stdout",
     "output_type": "stream",
     "text": [
      "The correlation between Carats and Retail is 0.7163.\n",
      "The correlation between Carats and Price is 0.7413.\n",
      "The correlation between Carats and Profit is 0.5137.\n"
     ]
    }
   ],
   "source": [
    "for item in ['Retail', 'Price', 'Profit']:\n",
    "    corr = np.corrcoef(df['Carats'], df[item])[0, 1]\n",
    "    x = '%.4f' % corr\n",
    "    print(f'The correlation between Carats and {item} is {x}.')"
   ]
  },
  {
   "cell_type": "markdown",
   "metadata": {},
   "source": [
    "We can see that the Carats is highly and positively correlated to the profit."
   ]
  },
  {
   "cell_type": "markdown",
   "metadata": {},
   "source": [
    "#### Clarity"
   ]
  },
  {
   "cell_type": "markdown",
   "metadata": {},
   "source": [
    "First we check all the categories of Clarity."
   ]
  },
  {
   "cell_type": "code",
   "execution_count": 411,
   "metadata": {},
   "outputs": [
    {
     "name": "stdout",
     "output_type": "stream",
     "text": [
      "There are 13 categories of Clarity.\n",
      "All the categories are ['N', 'VS1', 'I3', 'None', 'SI2', 'VVS2', 'VVS1', 'SI1', 'I2', 'VS2', 'I1', 'FL', 'IF']\n"
     ]
    },
    {
     "data": {
      "text/plain": [
       "<BarContainer object of 13 artists>"
      ]
     },
     "execution_count": 411,
     "metadata": {},
     "output_type": "execute_result"
    },
    {
     "data": {
      "image/png": "[encoded data removed]",
      "text/plain": [
       "<Figure size 432x288 with 1 Axes>"
      ]
     },
     "metadata": {
      "needs_background": "light"
     },
     "output_type": "display_data"
    }
   ],
   "source": [
    "clarity = list(set(df['Clarity'].to_list()))\n",
    "print(f'There are {len(clarity)} categories of Clarity.')\n",
    "print(f'All the categories are {clarity}')\n",
    "df_group = df.groupby('Clarity').agg({'id': 'count'})\n",
    "df_group.columns = ['count']\n",
    "df_group = df_group.sort_values(by=['count'], ascending=False)\n",
    "plt.bar(df_group.index, df_group['count'], alpha=0.8)"
   ]
  },
  {
   "cell_type": "markdown",
   "metadata": {},
   "source": [
    "Then we check the statistics of each different category."
   ]
  },
  {
   "cell_type": "code",
   "execution_count": 412,
   "metadata": {},
   "outputs": [
    {
     "data": {
      "text/html": [
       "<div>\n",
       "<style scoped>\n",
       "    .dataframe tbody tr th:only-of-type {\n",
       "        vertical-align: middle;\n",
       "    }\n",
       "\n",
       "    .dataframe tbody tr th {\n",
       "        vertical-align: top;\n",
       "    }\n",
       "\n",
       "    .dataframe thead th {\n",
       "        text-align: right;\n",
       "    }\n",
       "</style>\n",
       "<table border=\"1\" class=\"dataframe\">\n",
       "  <thead>\n",
       "    <tr style=\"text-align: right;\">\n",
       "      <th></th>\n",
       "      <th>count</th>\n",
       "      <th>MaxProfit</th>\n",
       "      <th>MinProfit</th>\n",
       "      <th>AvgProfit</th>\n",
       "      <th>StdProfit</th>\n",
       "      <th>MaxRetail</th>\n",
       "      <th>MinRetail</th>\n",
       "      <th>AvgRetail</th>\n",
       "      <th>StdRetail</th>\n",
       "      <th>MaxPrice</th>\n",
       "      <th>MinPrice</th>\n",
       "      <th>AvgPrice</th>\n",
       "      <th>StdPrice</th>\n",
       "    </tr>\n",
       "    <tr>\n",
       "      <th>Clarity</th>\n",
       "      <th></th>\n",
       "      <th></th>\n",
       "      <th></th>\n",
       "      <th></th>\n",
       "      <th></th>\n",
       "      <th></th>\n",
       "      <th></th>\n",
       "      <th></th>\n",
       "      <th></th>\n",
       "      <th></th>\n",
       "      <th></th>\n",
       "      <th></th>\n",
       "      <th></th>\n",
       "    </tr>\n",
       "  </thead>\n",
       "  <tbody>\n",
       "    <tr>\n",
       "      <th>FL</th>\n",
       "      <td>2</td>\n",
       "      <td>224305</td>\n",
       "      <td>88810</td>\n",
       "      <td>156557.500000</td>\n",
       "      <td>95809.433317</td>\n",
       "      <td>640875</td>\n",
       "      <td>253740</td>\n",
       "      <td>447307.500000</td>\n",
       "      <td>273745.783735</td>\n",
       "      <td>416570</td>\n",
       "      <td>164930</td>\n",
       "      <td>290750.000000</td>\n",
       "      <td>177936.350418</td>\n",
       "    </tr>\n",
       "    <tr>\n",
       "      <th>I1</th>\n",
       "      <td>132</td>\n",
       "      <td>11795</td>\n",
       "      <td>-1200</td>\n",
       "      <td>2213.598485</td>\n",
       "      <td>2195.600243</td>\n",
       "      <td>33695</td>\n",
       "      <td>155</td>\n",
       "      <td>6545.037879</td>\n",
       "      <td>6405.454751</td>\n",
       "      <td>24035</td>\n",
       "      <td>580</td>\n",
       "      <td>4331.439394</td>\n",
       "      <td>4475.258896</td>\n",
       "    </tr>\n",
       "    <tr>\n",
       "      <th>I2</th>\n",
       "      <td>13</td>\n",
       "      <td>3770</td>\n",
       "      <td>270</td>\n",
       "      <td>1602.692308</td>\n",
       "      <td>1271.550260</td>\n",
       "      <td>19495</td>\n",
       "      <td>1380</td>\n",
       "      <td>5024.615385</td>\n",
       "      <td>5129.438103</td>\n",
       "      <td>15725</td>\n",
       "      <td>845</td>\n",
       "      <td>3421.923077</td>\n",
       "      <td>4048.989863</td>\n",
       "    </tr>\n",
       "    <tr>\n",
       "      <th>I3</th>\n",
       "      <td>1</td>\n",
       "      <td>1995</td>\n",
       "      <td>1995</td>\n",
       "      <td>1995.000000</td>\n",
       "      <td>NaN</td>\n",
       "      <td>6190</td>\n",
       "      <td>6190</td>\n",
       "      <td>6190.000000</td>\n",
       "      <td>NaN</td>\n",
       "      <td>4195</td>\n",
       "      <td>4195</td>\n",
       "      <td>4195.000000</td>\n",
       "      <td>NaN</td>\n",
       "    </tr>\n",
       "    <tr>\n",
       "      <th>IF</th>\n",
       "      <td>137</td>\n",
       "      <td>587405</td>\n",
       "      <td>-673680</td>\n",
       "      <td>23475.328467</td>\n",
       "      <td>98308.045066</td>\n",
       "      <td>1675190</td>\n",
       "      <td>1195</td>\n",
       "      <td>83908.394161</td>\n",
       "      <td>208098.122031</td>\n",
       "      <td>1087785</td>\n",
       "      <td>780</td>\n",
       "      <td>60433.065693</td>\n",
       "      <td>146601.786957</td>\n",
       "    </tr>\n",
       "    <tr>\n",
       "      <th>N</th>\n",
       "      <td>2</td>\n",
       "      <td>1365</td>\n",
       "      <td>1005</td>\n",
       "      <td>1185.000000</td>\n",
       "      <td>254.558441</td>\n",
       "      <td>2800</td>\n",
       "      <td>1980</td>\n",
       "      <td>2390.000000</td>\n",
       "      <td>579.827561</td>\n",
       "      <td>1435</td>\n",
       "      <td>975</td>\n",
       "      <td>1205.000000</td>\n",
       "      <td>325.269119</td>\n",
       "    </tr>\n",
       "    <tr>\n",
       "      <th>None</th>\n",
       "      <td>1</td>\n",
       "      <td>5390</td>\n",
       "      <td>5390</td>\n",
       "      <td>5390.000000</td>\n",
       "      <td>NaN</td>\n",
       "      <td>15400</td>\n",
       "      <td>15400</td>\n",
       "      <td>15400.000000</td>\n",
       "      <td>NaN</td>\n",
       "      <td>10010</td>\n",
       "      <td>10010</td>\n",
       "      <td>10010.000000</td>\n",
       "      <td>NaN</td>\n",
       "    </tr>\n",
       "    <tr>\n",
       "      <th>SI1</th>\n",
       "      <td>2168</td>\n",
       "      <td>188965</td>\n",
       "      <td>-73500</td>\n",
       "      <td>5075.493542</td>\n",
       "      <td>10147.325462</td>\n",
       "      <td>538905</td>\n",
       "      <td>45</td>\n",
       "      <td>17257.022601</td>\n",
       "      <td>28430.425560</td>\n",
       "      <td>407830</td>\n",
       "      <td>430</td>\n",
       "      <td>12181.529059</td>\n",
       "      <td>20191.777000</td>\n",
       "    </tr>\n",
       "    <tr>\n",
       "      <th>SI2</th>\n",
       "      <td>2208</td>\n",
       "      <td>162865</td>\n",
       "      <td>-296215</td>\n",
       "      <td>4275.538949</td>\n",
       "      <td>10703.453548</td>\n",
       "      <td>465330</td>\n",
       "      <td>90</td>\n",
       "      <td>14638.992301</td>\n",
       "      <td>22834.334328</td>\n",
       "      <td>352210</td>\n",
       "      <td>395</td>\n",
       "      <td>10363.453351</td>\n",
       "      <td>17037.507452</td>\n",
       "    </tr>\n",
       "    <tr>\n",
       "      <th>VS1</th>\n",
       "      <td>1130</td>\n",
       "      <td>286990</td>\n",
       "      <td>-40610</td>\n",
       "      <td>8430.977876</td>\n",
       "      <td>18710.609387</td>\n",
       "      <td>882415</td>\n",
       "      <td>195</td>\n",
       "      <td>27469.699115</td>\n",
       "      <td>54193.729635</td>\n",
       "      <td>595425</td>\n",
       "      <td>550</td>\n",
       "      <td>19038.721239</td>\n",
       "      <td>36514.519674</td>\n",
       "    </tr>\n",
       "    <tr>\n",
       "      <th>VS2</th>\n",
       "      <td>1569</td>\n",
       "      <td>274265</td>\n",
       "      <td>-145630</td>\n",
       "      <td>7173.473550</td>\n",
       "      <td>17337.627521</td>\n",
       "      <td>1104805</td>\n",
       "      <td>110</td>\n",
       "      <td>24151.440408</td>\n",
       "      <td>53744.374307</td>\n",
       "      <td>830540</td>\n",
       "      <td>405</td>\n",
       "      <td>16977.966858</td>\n",
       "      <td>38140.024706</td>\n",
       "    </tr>\n",
       "    <tr>\n",
       "      <th>VVS1</th>\n",
       "      <td>239</td>\n",
       "      <td>143385</td>\n",
       "      <td>-26650</td>\n",
       "      <td>7093.347280</td>\n",
       "      <td>15902.421988</td>\n",
       "      <td>408920</td>\n",
       "      <td>115</td>\n",
       "      <td>24682.280335</td>\n",
       "      <td>47941.244041</td>\n",
       "      <td>265535</td>\n",
       "      <td>580</td>\n",
       "      <td>17588.933054</td>\n",
       "      <td>34208.185185</td>\n",
       "    </tr>\n",
       "    <tr>\n",
       "      <th>VVS2</th>\n",
       "      <td>448</td>\n",
       "      <td>403145</td>\n",
       "      <td>-137830</td>\n",
       "      <td>10842.109375</td>\n",
       "      <td>32852.335793</td>\n",
       "      <td>875780</td>\n",
       "      <td>305</td>\n",
       "      <td>33744.921875</td>\n",
       "      <td>79965.545316</td>\n",
       "      <td>472635</td>\n",
       "      <td>635</td>\n",
       "      <td>22902.812500</td>\n",
       "      <td>49791.492879</td>\n",
       "    </tr>\n",
       "  </tbody>\n",
       "</table>\n",
       "</div>"
      ],
      "text/plain": [
       "         count  MaxProfit  MinProfit      AvgProfit     StdProfit  MaxRetail  MinRetail      AvgRetail      StdRetail  MaxPrice  MinPrice       AvgPrice       StdPrice\n",
       "Clarity                                                                                                                                                                \n",
       "FL           2     224305      88810  156557.500000  95809.433317     640875     253740  447307.500000  273745.783735    416570    164930  290750.000000  177936.350418\n",
       "I1         132      11795      -1200    2213.598485   2195.600243      33695        155    6545.037879    6405.454751     24035       580    4331.439394    4475.258896\n",
       "I2          13       3770        270    1602.692308   1271.550260      19495       1380    5024.615385    5129.438103     15725       845    3421.923077    4048.989863\n",
       "I3           1       1995       1995    1995.000000           NaN       6190       6190    6190.000000            NaN      4195      4195    4195.000000            NaN\n",
       "IF         137     587405    -673680   23475.328467  98308.045066    1675190       1195   83908.394161  208098.122031   1087785       780   60433.065693  146601.786957\n",
       "N            2       1365       1005    1185.000000    254.558441       2800       1980    2390.000000     579.827561      1435       975    1205.000000     325.269119\n",
       "None         1       5390       5390    5390.000000           NaN      15400      15400   15400.000000            NaN     10010     10010   10010.000000            NaN\n",
       "SI1       2168     188965     -73500    5075.493542  10147.325462     538905         45   17257.022601   28430.425560    407830       430   12181.529059   20191.777000\n",
       "SI2       2208     162865    -296215    4275.538949  10703.453548     465330         90   14638.992301   22834.334328    352210       395   10363.453351   17037.507452\n",
       "VS1       1130     286990     -40610    8430.977876  18710.609387     882415        195   27469.699115   54193.729635    595425       550   19038.721239   36514.519674\n",
       "VS2       1569     274265    -145630    7173.473550  17337.627521    1104805        110   24151.440408   53744.374307    830540       405   16977.966858   38140.024706\n",
       "VVS1       239     143385     -26650    7093.347280  15902.421988     408920        115   24682.280335   47941.244041    265535       580   17588.933054   34208.185185\n",
       "VVS2       448     403145    -137830   10842.109375  32852.335793     875780        305   33744.921875   79965.545316    472635       635   22902.812500   49791.492879"
      ]
     },
     "execution_count": 412,
     "metadata": {},
     "output_type": "execute_result"
    }
   ],
   "source": [
    "df_group = df.groupby('Clarity').agg({\n",
    "    'id': 'count',\n",
    "    'Profit': ['max', 'min', 'mean', 'std'],\n",
    "    'Retail': ['max', 'min', 'mean', 'std'],\n",
    "    'Price': ['max', 'min', 'mean', 'std']\n",
    "})\n",
    "df_group.columns = ['count', 'MaxProfit', 'MinProfit', 'AvgProfit', 'StdProfit', 'MaxRetail', 'MinRetail', 'AvgRetail', 'StdRetail', 'MaxPrice', 'MinPrice', 'AvgPrice', 'StdPrice']\n",
    "df_group"
   ]
  },
  {
   "cell_type": "markdown",
   "metadata": {},
   "source": [
    "From the above result, we can see there are several major categories (like SI/VS/VVS) with lots of samples.\n",
    "\n",
    "There are also several minor categories (like I/N/FL) with only few samples.\n",
    "\n",
    "Categories with the same characters tend to have similar average profit.\n",
    "\n",
    "High profit clarity category: FL, IF, VVS2\n",
    "\n",
    "Low profit clarity category: N, I1/I2/I3"
   ]
  },
  {
   "cell_type": "code",
   "execution_count": 413,
   "metadata": {},
   "outputs": [
    {
     "data": {
      "text/html": [
       "<div>\n",
       "<style scoped>\n",
       "    .dataframe tbody tr th:only-of-type {\n",
       "        vertical-align: middle;\n",
       "    }\n",
       "\n",
       "    .dataframe tbody tr th {\n",
       "        vertical-align: top;\n",
       "    }\n",
       "\n",
       "    .dataframe thead th {\n",
       "        text-align: right;\n",
       "    }\n",
       "</style>\n",
       "<table border=\"1\" class=\"dataframe\">\n",
       "  <thead>\n",
       "    <tr style=\"text-align: right;\">\n",
       "      <th></th>\n",
       "      <th>count</th>\n",
       "    </tr>\n",
       "    <tr>\n",
       "      <th>Clarity</th>\n",
       "      <th></th>\n",
       "    </tr>\n",
       "  </thead>\n",
       "  <tbody>\n",
       "    <tr>\n",
       "      <th>I1</th>\n",
       "      <td>49</td>\n",
       "    </tr>\n",
       "    <tr>\n",
       "      <th>I2</th>\n",
       "      <td>2</td>\n",
       "    </tr>\n",
       "    <tr>\n",
       "      <th>I3</th>\n",
       "      <td>2</td>\n",
       "    </tr>\n",
       "    <tr>\n",
       "      <th>IF</th>\n",
       "      <td>52</td>\n",
       "    </tr>\n",
       "    <tr>\n",
       "      <th>SI1</th>\n",
       "      <td>717</td>\n",
       "    </tr>\n",
       "    <tr>\n",
       "      <th>SI2</th>\n",
       "      <td>782</td>\n",
       "    </tr>\n",
       "    <tr>\n",
       "      <th>VS1</th>\n",
       "      <td>386</td>\n",
       "    </tr>\n",
       "    <tr>\n",
       "      <th>VS2</th>\n",
       "      <td>489</td>\n",
       "    </tr>\n",
       "    <tr>\n",
       "      <th>VVS1</th>\n",
       "      <td>81</td>\n",
       "    </tr>\n",
       "    <tr>\n",
       "      <th>VVS2</th>\n",
       "      <td>123</td>\n",
       "    </tr>\n",
       "  </tbody>\n",
       "</table>\n",
       "</div>"
      ],
      "text/plain": [
       "         count\n",
       "Clarity       \n",
       "I1          49\n",
       "I2           2\n",
       "I3           2\n",
       "IF          52\n",
       "SI1        717\n",
       "SI2        782\n",
       "VS1        386\n",
       "VS2        489\n",
       "VVS1        81\n",
       "VVS2       123"
      ]
     },
     "execution_count": 413,
     "metadata": {},
     "output_type": "execute_result"
    }
   ],
   "source": [
    "df_new_group = df_new.groupby('Clarity').agg({\n",
    "    'id': 'count',\n",
    "})\n",
    "df_new_group.columns = ['count']\n",
    "df_new_group"
   ]
  },
  {
   "cell_type": "markdown",
   "metadata": {},
   "source": [
    "Here we choose not to include those categories with few samples into other major categories. (E.g. Include I3 into I1)\n",
    "\n",
    "Because the sample from these minor categories are so scarce that we can't conclude their average price/retail/benefit is typical.\n",
    "\n",
    "So we can't conclude that these minor categories are similar to major categories in terms of price/retail/benefit. We may just leave them alone."
   ]
  },
  {
   "cell_type": "markdown",
   "metadata": {},
   "source": [
    "#### Color"
   ]
  },
  {
   "cell_type": "markdown",
   "metadata": {},
   "source": [
    "First we check all the categories of Color."
   ]
  },
  {
   "cell_type": "code",
   "execution_count": 414,
   "metadata": {},
   "outputs": [
    {
     "name": "stdout",
     "output_type": "stream",
     "text": [
      "There are 32 categories of Color.\n",
      "All the categories are ['Fly', 'Gy', 'Fiy', 'Fvyellow', 'Fdpink', 'J', 'Q-r', 'I', 'Ffcdbrown', 'Ffcy', 'Lb', 'Ffcly', 'Flyellow', 'K', 'P', 'M', 'Ffcg', 'N', 'L', 'O-p', 'G', 'F', 'U', 'Ffg', 'Fiyellow', 'E', 'S', 'D', 'W', 'H', 'Fdy', 'Fyellow']\n"
     ]
    },
    {
     "data": {
      "text/plain": [
       "<BarContainer object of 32 artists>"
      ]
     },
     "execution_count": 414,
     "metadata": {},
     "output_type": "execute_result"
    },
    {
     "data": {
      "image/png": "[encoded data removed]",
      "text/plain": [
       "<Figure size 864x432 with 1 Axes>"
      ]
     },
     "metadata": {
      "needs_background": "light"
     },
     "output_type": "display_data"
    }
   ],
   "source": [
    "color = list(set(df['Color'].to_list()))\n",
    "print(f'There are {len(color)} categories of Color.')\n",
    "print(f'All the categories are {color}')\n",
    "df_group = df.groupby('Color').agg({'id': 'count'})\n",
    "df_group.columns = ['count']\n",
    "df_group = df_group.sort_values(by=['count'], ascending=False)\n",
    "plt.figure(figsize=(12,6))\n",
    "plt.bar(df_group.index, df_group['count'], alpha=0.8)"
   ]
  },
  {
   "cell_type": "markdown",
   "metadata": {},
   "source": [
    "Then we check the statistics of each different category."
   ]
  },
  {
   "cell_type": "code",
   "execution_count": 415,
   "metadata": {},
   "outputs": [
    {
     "data": {
      "text/html": [
       "<div>\n",
       "<style scoped>\n",
       "    .dataframe tbody tr th:only-of-type {\n",
       "        vertical-align: middle;\n",
       "    }\n",
       "\n",
       "    .dataframe tbody tr th {\n",
       "        vertical-align: top;\n",
       "    }\n",
       "\n",
       "    .dataframe thead th {\n",
       "        text-align: right;\n",
       "    }\n",
       "</style>\n",
       "<table border=\"1\" class=\"dataframe\">\n",
       "  <thead>\n",
       "    <tr style=\"text-align: right;\">\n",
       "      <th></th>\n",
       "      <th>count</th>\n",
       "      <th>MaxProfit</th>\n",
       "      <th>MinProfit</th>\n",
       "      <th>AvgProfit</th>\n",
       "      <th>StdProfit</th>\n",
       "      <th>MaxRetail</th>\n",
       "      <th>MinRetail</th>\n",
       "      <th>AvgRetail</th>\n",
       "      <th>StdRetail</th>\n",
       "      <th>MaxPrice</th>\n",
       "      <th>MinPrice</th>\n",
       "      <th>AvgPrice</th>\n",
       "      <th>StdPrice</th>\n",
       "    </tr>\n",
       "    <tr>\n",
       "      <th>Color</th>\n",
       "      <th></th>\n",
       "      <th></th>\n",
       "      <th></th>\n",
       "      <th></th>\n",
       "      <th></th>\n",
       "      <th></th>\n",
       "      <th></th>\n",
       "      <th></th>\n",
       "      <th></th>\n",
       "      <th></th>\n",
       "      <th></th>\n",
       "      <th></th>\n",
       "      <th></th>\n",
       "    </tr>\n",
       "  </thead>\n",
       "  <tbody>\n",
       "    <tr>\n",
       "      <th>D</th>\n",
       "      <td>816</td>\n",
       "      <td>467855</td>\n",
       "      <td>-41630</td>\n",
       "      <td>10751.574755</td>\n",
       "      <td>30868.042896</td>\n",
       "      <td>1047880</td>\n",
       "      <td>190</td>\n",
       "      <td>33025.104167</td>\n",
       "      <td>79260.392735</td>\n",
       "      <td>681120</td>\n",
       "      <td>455</td>\n",
       "      <td>22273.529412</td>\n",
       "      <td>50054.380697</td>\n",
       "    </tr>\n",
       "    <tr>\n",
       "      <th>E</th>\n",
       "      <td>1042</td>\n",
       "      <td>286990</td>\n",
       "      <td>-145630</td>\n",
       "      <td>6159.961612</td>\n",
       "      <td>17122.976049</td>\n",
       "      <td>882415</td>\n",
       "      <td>45</td>\n",
       "      <td>21485.686180</td>\n",
       "      <td>49380.719859</td>\n",
       "      <td>595425</td>\n",
       "      <td>500</td>\n",
       "      <td>15325.724568</td>\n",
       "      <td>35597.818157</td>\n",
       "    </tr>\n",
       "    <tr>\n",
       "      <th>F</th>\n",
       "      <td>1000</td>\n",
       "      <td>587405</td>\n",
       "      <td>-40610</td>\n",
       "      <td>7213.980000</td>\n",
       "      <td>23998.410329</td>\n",
       "      <td>1675190</td>\n",
       "      <td>135</td>\n",
       "      <td>22601.420000</td>\n",
       "      <td>68419.094477</td>\n",
       "      <td>1087785</td>\n",
       "      <td>635</td>\n",
       "      <td>15387.440000</td>\n",
       "      <td>44905.586371</td>\n",
       "    </tr>\n",
       "    <tr>\n",
       "      <th>Fdpink</th>\n",
       "      <td>1</td>\n",
       "      <td>6065</td>\n",
       "      <td>6065</td>\n",
       "      <td>6065.000000</td>\n",
       "      <td>NaN</td>\n",
       "      <td>15510</td>\n",
       "      <td>15510</td>\n",
       "      <td>15510.000000</td>\n",
       "      <td>NaN</td>\n",
       "      <td>9445</td>\n",
       "      <td>9445</td>\n",
       "      <td>9445.000000</td>\n",
       "      <td>NaN</td>\n",
       "    </tr>\n",
       "    <tr>\n",
       "      <th>Fdy</th>\n",
       "      <td>2</td>\n",
       "      <td>1365</td>\n",
       "      <td>1005</td>\n",
       "      <td>1185.000000</td>\n",
       "      <td>254.558441</td>\n",
       "      <td>2800</td>\n",
       "      <td>1980</td>\n",
       "      <td>2390.000000</td>\n",
       "      <td>579.827561</td>\n",
       "      <td>1435</td>\n",
       "      <td>975</td>\n",
       "      <td>1205.000000</td>\n",
       "      <td>325.269119</td>\n",
       "    </tr>\n",
       "    <tr>\n",
       "      <th>Ffcdbrown</th>\n",
       "      <td>2</td>\n",
       "      <td>2590</td>\n",
       "      <td>630</td>\n",
       "      <td>1610.000000</td>\n",
       "      <td>1385.929291</td>\n",
       "      <td>5710</td>\n",
       "      <td>1585</td>\n",
       "      <td>3647.500000</td>\n",
       "      <td>2916.815472</td>\n",
       "      <td>3120</td>\n",
       "      <td>955</td>\n",
       "      <td>2037.500000</td>\n",
       "      <td>1530.886181</td>\n",
       "    </tr>\n",
       "    <tr>\n",
       "      <th>Ffcg</th>\n",
       "      <td>1</td>\n",
       "      <td>5905</td>\n",
       "      <td>5905</td>\n",
       "      <td>5905.000000</td>\n",
       "      <td>NaN</td>\n",
       "      <td>83320</td>\n",
       "      <td>83320</td>\n",
       "      <td>83320.000000</td>\n",
       "      <td>NaN</td>\n",
       "      <td>77415</td>\n",
       "      <td>77415</td>\n",
       "      <td>77415.000000</td>\n",
       "      <td>NaN</td>\n",
       "    </tr>\n",
       "    <tr>\n",
       "      <th>Ffcly</th>\n",
       "      <td>1</td>\n",
       "      <td>1125</td>\n",
       "      <td>1125</td>\n",
       "      <td>1125.000000</td>\n",
       "      <td>NaN</td>\n",
       "      <td>2655</td>\n",
       "      <td>2655</td>\n",
       "      <td>2655.000000</td>\n",
       "      <td>NaN</td>\n",
       "      <td>1530</td>\n",
       "      <td>1530</td>\n",
       "      <td>1530.000000</td>\n",
       "      <td>NaN</td>\n",
       "    </tr>\n",
       "    <tr>\n",
       "      <th>Ffcy</th>\n",
       "      <td>1</td>\n",
       "      <td>6690</td>\n",
       "      <td>6690</td>\n",
       "      <td>6690.000000</td>\n",
       "      <td>NaN</td>\n",
       "      <td>17840</td>\n",
       "      <td>17840</td>\n",
       "      <td>17840.000000</td>\n",
       "      <td>NaN</td>\n",
       "      <td>11150</td>\n",
       "      <td>11150</td>\n",
       "      <td>11150.000000</td>\n",
       "      <td>NaN</td>\n",
       "    </tr>\n",
       "    <tr>\n",
       "      <th>Ffg</th>\n",
       "      <td>2</td>\n",
       "      <td>2300</td>\n",
       "      <td>1020</td>\n",
       "      <td>1660.000000</td>\n",
       "      <td>905.096680</td>\n",
       "      <td>4490</td>\n",
       "      <td>2960</td>\n",
       "      <td>3725.000000</td>\n",
       "      <td>1081.873375</td>\n",
       "      <td>2190</td>\n",
       "      <td>1940</td>\n",
       "      <td>2065.000000</td>\n",
       "      <td>176.776695</td>\n",
       "    </tr>\n",
       "    <tr>\n",
       "      <th>Fiy</th>\n",
       "      <td>1</td>\n",
       "      <td>45</td>\n",
       "      <td>45</td>\n",
       "      <td>45.000000</td>\n",
       "      <td>NaN</td>\n",
       "      <td>3460</td>\n",
       "      <td>3460</td>\n",
       "      <td>3460.000000</td>\n",
       "      <td>NaN</td>\n",
       "      <td>3415</td>\n",
       "      <td>3415</td>\n",
       "      <td>3415.000000</td>\n",
       "      <td>NaN</td>\n",
       "    </tr>\n",
       "    <tr>\n",
       "      <th>Fiyellow</th>\n",
       "      <td>1</td>\n",
       "      <td>5500</td>\n",
       "      <td>5500</td>\n",
       "      <td>5500.000000</td>\n",
       "      <td>NaN</td>\n",
       "      <td>28520</td>\n",
       "      <td>28520</td>\n",
       "      <td>28520.000000</td>\n",
       "      <td>NaN</td>\n",
       "      <td>23020</td>\n",
       "      <td>23020</td>\n",
       "      <td>23020.000000</td>\n",
       "      <td>NaN</td>\n",
       "    </tr>\n",
       "    <tr>\n",
       "      <th>Fly</th>\n",
       "      <td>1</td>\n",
       "      <td>5390</td>\n",
       "      <td>5390</td>\n",
       "      <td>5390.000000</td>\n",
       "      <td>NaN</td>\n",
       "      <td>15400</td>\n",
       "      <td>15400</td>\n",
       "      <td>15400.000000</td>\n",
       "      <td>NaN</td>\n",
       "      <td>10010</td>\n",
       "      <td>10010</td>\n",
       "      <td>10010.000000</td>\n",
       "      <td>NaN</td>\n",
       "    </tr>\n",
       "    <tr>\n",
       "      <th>Flyellow</th>\n",
       "      <td>1</td>\n",
       "      <td>1075</td>\n",
       "      <td>1075</td>\n",
       "      <td>1075.000000</td>\n",
       "      <td>NaN</td>\n",
       "      <td>3790</td>\n",
       "      <td>3790</td>\n",
       "      <td>3790.000000</td>\n",
       "      <td>NaN</td>\n",
       "      <td>2715</td>\n",
       "      <td>2715</td>\n",
       "      <td>2715.000000</td>\n",
       "      <td>NaN</td>\n",
       "    </tr>\n",
       "    <tr>\n",
       "      <th>Fvyellow</th>\n",
       "      <td>2</td>\n",
       "      <td>5165</td>\n",
       "      <td>-51325</td>\n",
       "      <td>-23080.000000</td>\n",
       "      <td>39944.462069</td>\n",
       "      <td>13675</td>\n",
       "      <td>9455</td>\n",
       "      <td>11565.000000</td>\n",
       "      <td>2983.990617</td>\n",
       "      <td>60780</td>\n",
       "      <td>8510</td>\n",
       "      <td>34645.000000</td>\n",
       "      <td>36960.471453</td>\n",
       "    </tr>\n",
       "    <tr>\n",
       "      <th>Fyellow</th>\n",
       "      <td>1</td>\n",
       "      <td>2825</td>\n",
       "      <td>2825</td>\n",
       "      <td>2825.000000</td>\n",
       "      <td>NaN</td>\n",
       "      <td>6865</td>\n",
       "      <td>6865</td>\n",
       "      <td>6865.000000</td>\n",
       "      <td>NaN</td>\n",
       "      <td>4040</td>\n",
       "      <td>4040</td>\n",
       "      <td>4040.000000</td>\n",
       "      <td>NaN</td>\n",
       "    </tr>\n",
       "    <tr>\n",
       "      <th>G</th>\n",
       "      <td>1188</td>\n",
       "      <td>274265</td>\n",
       "      <td>-673680</td>\n",
       "      <td>5161.043771</td>\n",
       "      <td>26009.940572</td>\n",
       "      <td>1104805</td>\n",
       "      <td>90</td>\n",
       "      <td>19865.277778</td>\n",
       "      <td>45809.217372</td>\n",
       "      <td>830540</td>\n",
       "      <td>635</td>\n",
       "      <td>14704.234007</td>\n",
       "      <td>40450.589168</td>\n",
       "    </tr>\n",
       "    <tr>\n",
       "      <th>Gy</th>\n",
       "      <td>1</td>\n",
       "      <td>3465</td>\n",
       "      <td>3465</td>\n",
       "      <td>3465.000000</td>\n",
       "      <td>NaN</td>\n",
       "      <td>8470</td>\n",
       "      <td>8470</td>\n",
       "      <td>8470.000000</td>\n",
       "      <td>NaN</td>\n",
       "      <td>5005</td>\n",
       "      <td>5005</td>\n",
       "      <td>5005.000000</td>\n",
       "      <td>NaN</td>\n",
       "    </tr>\n",
       "    <tr>\n",
       "      <th>H</th>\n",
       "      <td>1092</td>\n",
       "      <td>403145</td>\n",
       "      <td>-97425</td>\n",
       "      <td>6715.151099</td>\n",
       "      <td>19295.268069</td>\n",
       "      <td>875780</td>\n",
       "      <td>155</td>\n",
       "      <td>22212.550366</td>\n",
       "      <td>51243.580461</td>\n",
       "      <td>586790</td>\n",
       "      <td>580</td>\n",
       "      <td>15497.399267</td>\n",
       "      <td>33777.630271</td>\n",
       "    </tr>\n",
       "    <tr>\n",
       "      <th>I</th>\n",
       "      <td>1158</td>\n",
       "      <td>162865</td>\n",
       "      <td>-38970</td>\n",
       "      <td>6129.883420</td>\n",
       "      <td>12362.814452</td>\n",
       "      <td>465330</td>\n",
       "      <td>110</td>\n",
       "      <td>20940.267703</td>\n",
       "      <td>35234.995980</td>\n",
       "      <td>302465</td>\n",
       "      <td>395</td>\n",
       "      <td>14810.384283</td>\n",
       "      <td>24075.946575</td>\n",
       "    </tr>\n",
       "    <tr>\n",
       "      <th>J</th>\n",
       "      <td>843</td>\n",
       "      <td>202730</td>\n",
       "      <td>-62355</td>\n",
       "      <td>5144.151839</td>\n",
       "      <td>12527.088505</td>\n",
       "      <td>578155</td>\n",
       "      <td>75</td>\n",
       "      <td>17133.914591</td>\n",
       "      <td>35150.061025</td>\n",
       "      <td>375425</td>\n",
       "      <td>555</td>\n",
       "      <td>11989.762752</td>\n",
       "      <td>23542.080094</td>\n",
       "    </tr>\n",
       "    <tr>\n",
       "      <th>K</th>\n",
       "      <td>540</td>\n",
       "      <td>95320</td>\n",
       "      <td>-76020</td>\n",
       "      <td>4742.814815</td>\n",
       "      <td>9392.630077</td>\n",
       "      <td>272340</td>\n",
       "      <td>95</td>\n",
       "      <td>15988.083333</td>\n",
       "      <td>23551.500596</td>\n",
       "      <td>177020</td>\n",
       "      <td>545</td>\n",
       "      <td>11245.268519</td>\n",
       "      <td>16082.073496</td>\n",
       "    </tr>\n",
       "    <tr>\n",
       "      <th>L</th>\n",
       "      <td>259</td>\n",
       "      <td>89460</td>\n",
       "      <td>-6775</td>\n",
       "      <td>4094.652510</td>\n",
       "      <td>9211.459931</td>\n",
       "      <td>227255</td>\n",
       "      <td>115</td>\n",
       "      <td>13179.613900</td>\n",
       "      <td>25784.690327</td>\n",
       "      <td>148385</td>\n",
       "      <td>430</td>\n",
       "      <td>9084.961390</td>\n",
       "      <td>17028.402647</td>\n",
       "    </tr>\n",
       "    <tr>\n",
       "      <th>Lb</th>\n",
       "      <td>1</td>\n",
       "      <td>8880</td>\n",
       "      <td>8880</td>\n",
       "      <td>8880.000000</td>\n",
       "      <td>NaN</td>\n",
       "      <td>22140</td>\n",
       "      <td>22140</td>\n",
       "      <td>22140.000000</td>\n",
       "      <td>NaN</td>\n",
       "      <td>13260</td>\n",
       "      <td>13260</td>\n",
       "      <td>13260.000000</td>\n",
       "      <td>NaN</td>\n",
       "    </tr>\n",
       "    <tr>\n",
       "      <th>M</th>\n",
       "      <td>85</td>\n",
       "      <td>184405</td>\n",
       "      <td>-5035</td>\n",
       "      <td>7106.058824</td>\n",
       "      <td>24287.447094</td>\n",
       "      <td>531035</td>\n",
       "      <td>225</td>\n",
       "      <td>23049.352941</td>\n",
       "      <td>74108.908471</td>\n",
       "      <td>346630</td>\n",
       "      <td>405</td>\n",
       "      <td>15943.294118</td>\n",
       "      <td>50577.223326</td>\n",
       "    </tr>\n",
       "    <tr>\n",
       "      <th>N</th>\n",
       "      <td>2</td>\n",
       "      <td>3285</td>\n",
       "      <td>3145</td>\n",
       "      <td>3215.000000</td>\n",
       "      <td>98.994949</td>\n",
       "      <td>13010</td>\n",
       "      <td>8995</td>\n",
       "      <td>11002.500000</td>\n",
       "      <td>2839.033726</td>\n",
       "      <td>9725</td>\n",
       "      <td>5850</td>\n",
       "      <td>7787.500000</td>\n",
       "      <td>2740.038777</td>\n",
       "    </tr>\n",
       "    <tr>\n",
       "      <th>O-p</th>\n",
       "      <td>1</td>\n",
       "      <td>1840</td>\n",
       "      <td>1840</td>\n",
       "      <td>1840.000000</td>\n",
       "      <td>NaN</td>\n",
       "      <td>19990</td>\n",
       "      <td>19990</td>\n",
       "      <td>19990.000000</td>\n",
       "      <td>NaN</td>\n",
       "      <td>18150</td>\n",
       "      <td>18150</td>\n",
       "      <td>18150.000000</td>\n",
       "      <td>NaN</td>\n",
       "    </tr>\n",
       "    <tr>\n",
       "      <th>P</th>\n",
       "      <td>1</td>\n",
       "      <td>1320</td>\n",
       "      <td>1320</td>\n",
       "      <td>1320.000000</td>\n",
       "      <td>NaN</td>\n",
       "      <td>4320</td>\n",
       "      <td>4320</td>\n",
       "      <td>4320.000000</td>\n",
       "      <td>NaN</td>\n",
       "      <td>3000</td>\n",
       "      <td>3000</td>\n",
       "      <td>3000.000000</td>\n",
       "      <td>NaN</td>\n",
       "    </tr>\n",
       "    <tr>\n",
       "      <th>Q-r</th>\n",
       "      <td>1</td>\n",
       "      <td>355</td>\n",
       "      <td>355</td>\n",
       "      <td>355.000000</td>\n",
       "      <td>NaN</td>\n",
       "      <td>1100</td>\n",
       "      <td>1100</td>\n",
       "      <td>1100.000000</td>\n",
       "      <td>NaN</td>\n",
       "      <td>745</td>\n",
       "      <td>745</td>\n",
       "      <td>745.000000</td>\n",
       "      <td>NaN</td>\n",
       "    </tr>\n",
       "    <tr>\n",
       "      <th>S</th>\n",
       "      <td>1</td>\n",
       "      <td>76735</td>\n",
       "      <td>76735</td>\n",
       "      <td>76735.000000</td>\n",
       "      <td>NaN</td>\n",
       "      <td>231695</td>\n",
       "      <td>231695</td>\n",
       "      <td>231695.000000</td>\n",
       "      <td>NaN</td>\n",
       "      <td>154960</td>\n",
       "      <td>154960</td>\n",
       "      <td>154960.000000</td>\n",
       "      <td>NaN</td>\n",
       "    </tr>\n",
       "    <tr>\n",
       "      <th>U</th>\n",
       "      <td>1</td>\n",
       "      <td>860</td>\n",
       "      <td>860</td>\n",
       "      <td>860.000000</td>\n",
       "      <td>NaN</td>\n",
       "      <td>2200</td>\n",
       "      <td>2200</td>\n",
       "      <td>2200.000000</td>\n",
       "      <td>NaN</td>\n",
       "      <td>1340</td>\n",
       "      <td>1340</td>\n",
       "      <td>1340.000000</td>\n",
       "      <td>NaN</td>\n",
       "    </tr>\n",
       "    <tr>\n",
       "      <th>W</th>\n",
       "      <td>1</td>\n",
       "      <td>2800</td>\n",
       "      <td>2800</td>\n",
       "      <td>2800.000000</td>\n",
       "      <td>NaN</td>\n",
       "      <td>8000</td>\n",
       "      <td>8000</td>\n",
       "      <td>8000.000000</td>\n",
       "      <td>NaN</td>\n",
       "      <td>5200</td>\n",
       "      <td>5200</td>\n",
       "      <td>5200.000000</td>\n",
       "      <td>NaN</td>\n",
       "    </tr>\n",
       "  </tbody>\n",
       "</table>\n",
       "</div>"
      ],
      "text/plain": [
       "           count  MaxProfit  MinProfit     AvgProfit     StdProfit  MaxRetail  MinRetail      AvgRetail     StdRetail  MaxPrice  MinPrice       AvgPrice      StdPrice\n",
       "Color                                                                                                                                                                 \n",
       "D            816     467855     -41630  10751.574755  30868.042896    1047880        190   33025.104167  79260.392735    681120       455   22273.529412  50054.380697\n",
       "E           1042     286990    -145630   6159.961612  17122.976049     882415         45   21485.686180  49380.719859    595425       500   15325.724568  35597.818157\n",
       "F           1000     587405     -40610   7213.980000  23998.410329    1675190        135   22601.420000  68419.094477   1087785       635   15387.440000  44905.586371\n",
       "Fdpink         1       6065       6065   6065.000000           NaN      15510      15510   15510.000000           NaN      9445      9445    9445.000000           NaN\n",
       "Fdy            2       1365       1005   1185.000000    254.558441       2800       1980    2390.000000    579.827561      1435       975    1205.000000    325.269119\n",
       "Ffcdbrown      2       2590        630   1610.000000   1385.929291       5710       1585    3647.500000   2916.815472      3120       955    2037.500000   1530.886181\n",
       "Ffcg           1       5905       5905   5905.000000           NaN      83320      83320   83320.000000           NaN     77415     77415   77415.000000           NaN\n",
       "Ffcly          1       1125       1125   1125.000000           NaN       2655       2655    2655.000000           NaN      1530      1530    1530.000000           NaN\n",
       "Ffcy           1       6690       6690   6690.000000           NaN      17840      17840   17840.000000           NaN     11150     11150   11150.000000           NaN\n",
       "Ffg            2       2300       1020   1660.000000    905.096680       4490       2960    3725.000000   1081.873375      2190      1940    2065.000000    176.776695\n",
       "Fiy            1         45         45     45.000000           NaN       3460       3460    3460.000000           NaN      3415      3415    3415.000000           NaN\n",
       "Fiyellow       1       5500       5500   5500.000000           NaN      28520      28520   28520.000000           NaN     23020     23020   23020.000000           NaN\n",
       "Fly            1       5390       5390   5390.000000           NaN      15400      15400   15400.000000           NaN     10010     10010   10010.000000           NaN\n",
       "Flyellow       1       1075       1075   1075.000000           NaN       3790       3790    3790.000000           NaN      2715      2715    2715.000000           NaN\n",
       "Fvyellow       2       5165     -51325 -23080.000000  39944.462069      13675       9455   11565.000000   2983.990617     60780      8510   34645.000000  36960.471453\n",
       "Fyellow        1       2825       2825   2825.000000           NaN       6865       6865    6865.000000           NaN      4040      4040    4040.000000           NaN\n",
       "G           1188     274265    -673680   5161.043771  26009.940572    1104805         90   19865.277778  45809.217372    830540       635   14704.234007  40450.589168\n",
       "Gy             1       3465       3465   3465.000000           NaN       8470       8470    8470.000000           NaN      5005      5005    5005.000000           NaN\n",
       "H           1092     403145     -97425   6715.151099  19295.268069     875780        155   22212.550366  51243.580461    586790       580   15497.399267  33777.630271\n",
       "I           1158     162865     -38970   6129.883420  12362.814452     465330        110   20940.267703  35234.995980    302465       395   14810.384283  24075.946575\n",
       "J            843     202730     -62355   5144.151839  12527.088505     578155         75   17133.914591  35150.061025    375425       555   11989.762752  23542.080094\n",
       "K            540      95320     -76020   4742.814815   9392.630077     272340         95   15988.083333  23551.500596    177020       545   11245.268519  16082.073496\n",
       "L            259      89460      -6775   4094.652510   9211.459931     227255        115   13179.613900  25784.690327    148385       430    9084.961390  17028.402647\n",
       "Lb             1       8880       8880   8880.000000           NaN      22140      22140   22140.000000           NaN     13260     13260   13260.000000           NaN\n",
       "M             85     184405      -5035   7106.058824  24287.447094     531035        225   23049.352941  74108.908471    346630       405   15943.294118  50577.223326\n",
       "N              2       3285       3145   3215.000000     98.994949      13010       8995   11002.500000   2839.033726      9725      5850    7787.500000   2740.038777\n",
       "O-p            1       1840       1840   1840.000000           NaN      19990      19990   19990.000000           NaN     18150     18150   18150.000000           NaN\n",
       "P              1       1320       1320   1320.000000           NaN       4320       4320    4320.000000           NaN      3000      3000    3000.000000           NaN\n",
       "Q-r            1        355        355    355.000000           NaN       1100       1100    1100.000000           NaN       745       745     745.000000           NaN\n",
       "S              1      76735      76735  76735.000000           NaN     231695     231695  231695.000000           NaN    154960    154960  154960.000000           NaN\n",
       "U              1        860        860    860.000000           NaN       2200       2200    2200.000000           NaN      1340      1340    1340.000000           NaN\n",
       "W              1       2800       2800   2800.000000           NaN       8000       8000    8000.000000           NaN      5200      5200    5200.000000           NaN"
      ]
     },
     "execution_count": 415,
     "metadata": {},
     "output_type": "execute_result"
    }
   ],
   "source": [
    "df_group = df.groupby('Color').agg({\n",
    "    'id': 'count',\n",
    "    'Profit': ['max', 'min', 'mean', 'std'],\n",
    "    'Retail': ['max', 'min', 'mean', 'std'],\n",
    "    'Price': ['max', 'min', 'mean', 'std']\n",
    "})\n",
    "df_group.columns = ['count', 'MaxProfit', 'MinProfit', 'AvgProfit', 'StdProfit', 'MaxRetail', 'MinRetail', 'AvgRetail', 'StdRetail', 'MaxPrice', 'MinPrice', 'AvgPrice', 'StdPrice']\n",
    "df_group"
   ]
  },
  {
   "cell_type": "markdown",
   "metadata": {},
   "source": [
    "From the above results, we can see that some color categories (like D~F & H~L) have lots of samples, while some (N~W) have few samples.\n",
    "\n",
    "Major categories like D/E/G tend to have higher profits than major categories like H~L, which means they are targeted at different customer groups.\n",
    "\n",
    "Categories related to 'Yellow' tend to have extremely low (even minus) profit.\n",
    "\n",
    "While we analyze the average profit of different categories, we can also find that the standard deviation of profit is rather high for most categories. This means that the distribution of profit may vary drastically even within the same category. We can conclude that although color does have influence on diamonds' profit, it might not be the deciding factor."
   ]
  },
  {
   "cell_type": "code",
   "execution_count": 416,
   "metadata": {},
   "outputs": [
    {
     "data": {
      "text/html": [
       "<div>\n",
       "<style scoped>\n",
       "    .dataframe tbody tr th:only-of-type {\n",
       "        vertical-align: middle;\n",
       "    }\n",
       "\n",
       "    .dataframe tbody tr th {\n",
       "        vertical-align: top;\n",
       "    }\n",
       "\n",
       "    .dataframe thead th {\n",
       "        text-align: right;\n",
       "    }\n",
       "</style>\n",
       "<table border=\"1\" class=\"dataframe\">\n",
       "  <thead>\n",
       "    <tr style=\"text-align: right;\">\n",
       "      <th></th>\n",
       "      <th>count</th>\n",
       "    </tr>\n",
       "    <tr>\n",
       "      <th>Color</th>\n",
       "      <th></th>\n",
       "    </tr>\n",
       "  </thead>\n",
       "  <tbody>\n",
       "    <tr>\n",
       "      <th>D</th>\n",
       "      <td>256</td>\n",
       "    </tr>\n",
       "    <tr>\n",
       "      <th>E</th>\n",
       "      <td>356</td>\n",
       "    </tr>\n",
       "    <tr>\n",
       "      <th>F</th>\n",
       "      <td>359</td>\n",
       "    </tr>\n",
       "    <tr>\n",
       "      <th>Ffancy darkbrown</th>\n",
       "      <td>1</td>\n",
       "    </tr>\n",
       "    <tr>\n",
       "      <th>Flby</th>\n",
       "      <td>1</td>\n",
       "    </tr>\n",
       "    <tr>\n",
       "      <th>G</th>\n",
       "      <td>387</td>\n",
       "    </tr>\n",
       "    <tr>\n",
       "      <th>H</th>\n",
       "      <td>353</td>\n",
       "    </tr>\n",
       "    <tr>\n",
       "      <th>I</th>\n",
       "      <td>360</td>\n",
       "    </tr>\n",
       "    <tr>\n",
       "      <th>J</th>\n",
       "      <td>303</td>\n",
       "    </tr>\n",
       "    <tr>\n",
       "      <th>K</th>\n",
       "      <td>182</td>\n",
       "    </tr>\n",
       "    <tr>\n",
       "      <th>L</th>\n",
       "      <td>92</td>\n",
       "    </tr>\n",
       "    <tr>\n",
       "      <th>M</th>\n",
       "      <td>29</td>\n",
       "    </tr>\n",
       "    <tr>\n",
       "      <th>N</th>\n",
       "      <td>2</td>\n",
       "    </tr>\n",
       "    <tr>\n",
       "      <th>S-t</th>\n",
       "      <td>1</td>\n",
       "    </tr>\n",
       "    <tr>\n",
       "      <th>T</th>\n",
       "      <td>1</td>\n",
       "    </tr>\n",
       "  </tbody>\n",
       "</table>\n",
       "</div>"
      ],
      "text/plain": [
       "                  count\n",
       "Color                  \n",
       "D                   256\n",
       "E                   356\n",
       "F                   359\n",
       "Ffancy darkbrown      1\n",
       "Flby                  1\n",
       "G                   387\n",
       "H                   353\n",
       "I                   360\n",
       "J                   303\n",
       "K                   182\n",
       "L                    92\n",
       "M                    29\n",
       "N                     2\n",
       "S-t                   1\n",
       "T                     1"
      ]
     },
     "execution_count": 416,
     "metadata": {},
     "output_type": "execute_result"
    }
   ],
   "source": [
    "df_new_group = df_new.groupby('Color').agg({\n",
    "    'id': 'count',\n",
    "})\n",
    "df_new_group.columns = ['count']\n",
    "df_new_group"
   ]
  },
  {
   "cell_type": "markdown",
   "metadata": {},
   "source": [
    "Here we can notice that there are only 15 color categories in the testing dataset.\n",
    "\n",
    "Many subcategories are missing. We can try concatenate the subcategories into several bigger categories. (Not finished yet)"
   ]
  },
  {
   "cell_type": "markdown",
   "metadata": {},
   "source": [
    "#### Cut"
   ]
  },
  {
   "cell_type": "markdown",
   "metadata": {},
   "source": [
    "First we check all the categories of Cut."
   ]
  },
  {
   "cell_type": "code",
   "execution_count": 417,
   "metadata": {},
   "outputs": [
    {
     "name": "stdout",
     "output_type": "stream",
     "text": [
      "There are 6 categories of Cut.\n",
      "All the categories are ['Very good', 'Fair', 'Good', ' ', 'Ideal', 'Excellent']\n"
     ]
    }
   ],
   "source": [
    "cut = list(set(df['Cut'].to_list()))\n",
    "print(f'There are {len(cut)} categories of Cut.')\n",
    "print(f'All the categories are {cut}')"
   ]
  },
  {
   "cell_type": "markdown",
   "metadata": {},
   "source": [
    "Here we should replace the category ' ' with 'Missing'."
   ]
  },
  {
   "cell_type": "code",
   "execution_count": 418,
   "metadata": {},
   "outputs": [
    {
     "name": "stderr",
     "output_type": "stream",
     "text": [
      "c:\\Users\\fuym20\\anaconda3\\lib\\site-packages\\pandas\\core\\indexing.py:1732: SettingWithCopyWarning: \n",
      "A value is trying to be set on a copy of a slice from a DataFrame\n",
      "\n",
      "See the caveats in the documentation: https://pandas.pydata.org/pandas-docs/stable/user_guide/indexing.html#returning-a-view-versus-a-copy\n",
      "  self._setitem_single_block(indexer, value, name)\n"
     ]
    },
    {
     "name": "stdout",
     "output_type": "stream",
     "text": [
      "There are 6 categories of Cut.\n",
      "All the categories are ['Missing', 'Very good', 'Fair', 'Good', 'Ideal', 'Excellent']\n"
     ]
    }
   ],
   "source": [
    "index = df[df['Cut'] == ' '].index\n",
    "for i in index:\n",
    "    df['Cut'].iloc[i] = 'Missing'\n",
    "cut = list(set(df['Cut'].to_list()))\n",
    "print(f'There are {len(cut)} categories of Cut.')\n",
    "print(f'All the categories are {cut}')"
   ]
  },
  {
   "cell_type": "code",
   "execution_count": 419,
   "metadata": {},
   "outputs": [
    {
     "data": {
      "text/plain": [
       "<BarContainer object of 6 artists>"
      ]
     },
     "execution_count": 419,
     "metadata": {},
     "output_type": "execute_result"
    },
    {
     "data": {
      "image/png": "[encoded data removed]",
      "text/plain": [
       "<Figure size 864x432 with 1 Axes>"
      ]
     },
     "metadata": {
      "needs_background": "light"
     },
     "output_type": "display_data"
    }
   ],
   "source": [
    "df_group = df.groupby('Cut').agg({'id': 'count'})\n",
    "df_group.columns = ['count']\n",
    "df_group = df_group.sort_values(by=['count'], ascending=False)\n",
    "plt.figure(figsize=(12,6))\n",
    "plt.bar(df_group.index, df_group['count'], alpha=0.8)"
   ]
  },
  {
   "cell_type": "markdown",
   "metadata": {},
   "source": [
    "Here we can see that the Cut for many diamonds are missing.\n",
    "\n",
    "Then we check the statistics of each different category."
   ]
  },
  {
   "cell_type": "code",
   "execution_count": 420,
   "metadata": {},
   "outputs": [
    {
     "data": {
      "text/html": [
       "<div>\n",
       "<style scoped>\n",
       "    .dataframe tbody tr th:only-of-type {\n",
       "        vertical-align: middle;\n",
       "    }\n",
       "\n",
       "    .dataframe tbody tr th {\n",
       "        vertical-align: top;\n",
       "    }\n",
       "\n",
       "    .dataframe thead th {\n",
       "        text-align: right;\n",
       "    }\n",
       "</style>\n",
       "<table border=\"1\" class=\"dataframe\">\n",
       "  <thead>\n",
       "    <tr style=\"text-align: right;\">\n",
       "      <th></th>\n",
       "      <th>count</th>\n",
       "      <th>MaxProfit</th>\n",
       "      <th>MinProfit</th>\n",
       "      <th>AvgProfit</th>\n",
       "      <th>StdProfit</th>\n",
       "      <th>MaxRetail</th>\n",
       "      <th>MinRetail</th>\n",
       "      <th>AvgRetail</th>\n",
       "      <th>StdRetail</th>\n",
       "      <th>MaxPrice</th>\n",
       "      <th>MinPrice</th>\n",
       "      <th>AvgPrice</th>\n",
       "      <th>StdPrice</th>\n",
       "    </tr>\n",
       "    <tr>\n",
       "      <th>Cut</th>\n",
       "      <th></th>\n",
       "      <th></th>\n",
       "      <th></th>\n",
       "      <th></th>\n",
       "      <th></th>\n",
       "      <th></th>\n",
       "      <th></th>\n",
       "      <th></th>\n",
       "      <th></th>\n",
       "      <th></th>\n",
       "      <th></th>\n",
       "      <th></th>\n",
       "      <th></th>\n",
       "    </tr>\n",
       "  </thead>\n",
       "  <tbody>\n",
       "    <tr>\n",
       "      <th>Excellent</th>\n",
       "      <td>2811</td>\n",
       "      <td>467855</td>\n",
       "      <td>-137830</td>\n",
       "      <td>9087.207400</td>\n",
       "      <td>21140.240906</td>\n",
       "      <td>1104805</td>\n",
       "      <td>155</td>\n",
       "      <td>30849.548203</td>\n",
       "      <td>59092.948344</td>\n",
       "      <td>830540</td>\n",
       "      <td>635</td>\n",
       "      <td>21762.340804</td>\n",
       "      <td>40297.192686</td>\n",
       "    </tr>\n",
       "    <tr>\n",
       "      <th>Fair</th>\n",
       "      <td>15</td>\n",
       "      <td>176930</td>\n",
       "      <td>-2135</td>\n",
       "      <td>25048.333333</td>\n",
       "      <td>48573.383903</td>\n",
       "      <td>540850</td>\n",
       "      <td>455</td>\n",
       "      <td>76339.333333</td>\n",
       "      <td>147663.128690</td>\n",
       "      <td>363920</td>\n",
       "      <td>405</td>\n",
       "      <td>51291.000000</td>\n",
       "      <td>99122.175463</td>\n",
       "    </tr>\n",
       "    <tr>\n",
       "      <th>Good</th>\n",
       "      <td>178</td>\n",
       "      <td>95320</td>\n",
       "      <td>-18155</td>\n",
       "      <td>3164.044944</td>\n",
       "      <td>8269.148430</td>\n",
       "      <td>272340</td>\n",
       "      <td>420</td>\n",
       "      <td>10583.876404</td>\n",
       "      <td>22249.047656</td>\n",
       "      <td>177020</td>\n",
       "      <td>745</td>\n",
       "      <td>7419.831461</td>\n",
       "      <td>14567.887677</td>\n",
       "    </tr>\n",
       "    <tr>\n",
       "      <th>Ideal</th>\n",
       "      <td>1</td>\n",
       "      <td>48110</td>\n",
       "      <td>48110</td>\n",
       "      <td>48110.000000</td>\n",
       "      <td>NaN</td>\n",
       "      <td>151305</td>\n",
       "      <td>151305</td>\n",
       "      <td>151305.000000</td>\n",
       "      <td>NaN</td>\n",
       "      <td>103195</td>\n",
       "      <td>103195</td>\n",
       "      <td>103195.000000</td>\n",
       "      <td>NaN</td>\n",
       "    </tr>\n",
       "    <tr>\n",
       "      <th>Missing</th>\n",
       "      <td>3922</td>\n",
       "      <td>587405</td>\n",
       "      <td>-673680</td>\n",
       "      <td>5051.972208</td>\n",
       "      <td>21839.056902</td>\n",
       "      <td>1675190</td>\n",
       "      <td>45</td>\n",
       "      <td>16759.295003</td>\n",
       "      <td>49732.496487</td>\n",
       "      <td>1087785</td>\n",
       "      <td>395</td>\n",
       "      <td>11707.322794</td>\n",
       "      <td>35096.723157</td>\n",
       "    </tr>\n",
       "    <tr>\n",
       "      <th>Very good</th>\n",
       "      <td>1123</td>\n",
       "      <td>162865</td>\n",
       "      <td>-18690</td>\n",
       "      <td>4706.883348</td>\n",
       "      <td>10120.083822</td>\n",
       "      <td>465330</td>\n",
       "      <td>150</td>\n",
       "      <td>15498.325913</td>\n",
       "      <td>29191.151703</td>\n",
       "      <td>302465</td>\n",
       "      <td>635</td>\n",
       "      <td>10791.442565</td>\n",
       "      <td>19548.529388</td>\n",
       "    </tr>\n",
       "  </tbody>\n",
       "</table>\n",
       "</div>"
      ],
      "text/plain": [
       "           count  MaxProfit  MinProfit     AvgProfit     StdProfit  MaxRetail  MinRetail      AvgRetail      StdRetail  MaxPrice  MinPrice       AvgPrice      StdPrice\n",
       "Cut                                                                                                                                                                    \n",
       "Excellent   2811     467855    -137830   9087.207400  21140.240906    1104805        155   30849.548203   59092.948344    830540       635   21762.340804  40297.192686\n",
       "Fair          15     176930      -2135  25048.333333  48573.383903     540850        455   76339.333333  147663.128690    363920       405   51291.000000  99122.175463\n",
       "Good         178      95320     -18155   3164.044944   8269.148430     272340        420   10583.876404   22249.047656    177020       745    7419.831461  14567.887677\n",
       "Ideal          1      48110      48110  48110.000000           NaN     151305     151305  151305.000000            NaN    103195    103195  103195.000000           NaN\n",
       "Missing     3922     587405    -673680   5051.972208  21839.056902    1675190         45   16759.295003   49732.496487   1087785       395   11707.322794  35096.723157\n",
       "Very good   1123     162865     -18690   4706.883348  10120.083822     465330        150   15498.325913   29191.151703    302465       635   10791.442565  19548.529388"
      ]
     },
     "execution_count": 420,
     "metadata": {},
     "output_type": "execute_result"
    }
   ],
   "source": [
    "df_group = df.groupby('Cut').agg({\n",
    "    'id': 'count',\n",
    "    'Profit': ['max', 'min', 'mean', 'std'],\n",
    "    'Retail': ['max', 'min', 'mean', 'std'],\n",
    "    'Price': ['max', 'min', 'mean', 'std']\n",
    "})\n",
    "df_group.columns = ['count', 'MaxProfit', 'MinProfit', 'AvgProfit', 'StdProfit', 'MaxRetail', 'MinRetail', 'AvgRetail', 'StdRetail', 'MaxPrice', 'MinPrice', 'AvgPrice', 'StdPrice']\n",
    "df_group"
   ]
  },
  {
   "cell_type": "markdown",
   "metadata": {},
   "source": [
    "From the results, we can see that generally the better Cut value, the higher profit.\n",
    "\n",
    "The 'ideal' Cut diamond only has one sample, which means it is extremely scarce in the market.\n",
    "\n",
    "The standard deviation of profit for 'Missing' Cut diamonds is over 4 times the average profit, suggesting that the profit fluctuates drastically within this caregory. Therefore, just adding a 'Missing' tag may not be efficient enough. (Although there aren't further supports for other options.)\n",
    "\n",
    "The high standard deviation means that Cut is also not decisive of diamonds' profit."
   ]
  },
  {
   "cell_type": "code",
   "execution_count": 421,
   "metadata": {},
   "outputs": [
    {
     "name": "stderr",
     "output_type": "stream",
     "text": [
      "c:\\Users\\fuym20\\anaconda3\\lib\\site-packages\\pandas\\core\\indexing.py:1732: SettingWithCopyWarning: \n",
      "A value is trying to be set on a copy of a slice from a DataFrame\n",
      "\n",
      "See the caveats in the documentation: https://pandas.pydata.org/pandas-docs/stable/user_guide/indexing.html#returning-a-view-versus-a-copy\n",
      "  self._setitem_single_block(indexer, value, name)\n"
     ]
    },
    {
     "data": {
      "text/html": [
       "<div>\n",
       "<style scoped>\n",
       "    .dataframe tbody tr th:only-of-type {\n",
       "        vertical-align: middle;\n",
       "    }\n",
       "\n",
       "    .dataframe tbody tr th {\n",
       "        vertical-align: top;\n",
       "    }\n",
       "\n",
       "    .dataframe thead th {\n",
       "        text-align: right;\n",
       "    }\n",
       "</style>\n",
       "<table border=\"1\" class=\"dataframe\">\n",
       "  <thead>\n",
       "    <tr style=\"text-align: right;\">\n",
       "      <th></th>\n",
       "      <th>count</th>\n",
       "    </tr>\n",
       "    <tr>\n",
       "      <th>Cut</th>\n",
       "      <th></th>\n",
       "    </tr>\n",
       "  </thead>\n",
       "  <tbody>\n",
       "    <tr>\n",
       "      <th>Excellent</th>\n",
       "      <td>953</td>\n",
       "    </tr>\n",
       "    <tr>\n",
       "      <th>Fair</th>\n",
       "      <td>4</td>\n",
       "    </tr>\n",
       "    <tr>\n",
       "      <th>Good</th>\n",
       "      <td>81</td>\n",
       "    </tr>\n",
       "    <tr>\n",
       "      <th>Ideal</th>\n",
       "      <td>1</td>\n",
       "    </tr>\n",
       "    <tr>\n",
       "      <th>Missing</th>\n",
       "      <td>1253</td>\n",
       "    </tr>\n",
       "    <tr>\n",
       "      <th>Very good</th>\n",
       "      <td>391</td>\n",
       "    </tr>\n",
       "  </tbody>\n",
       "</table>\n",
       "</div>"
      ],
      "text/plain": [
       "           count\n",
       "Cut             \n",
       "Excellent    953\n",
       "Fair           4\n",
       "Good          81\n",
       "Ideal          1\n",
       "Missing     1253\n",
       "Very good    391"
      ]
     },
     "execution_count": 421,
     "metadata": {},
     "output_type": "execute_result"
    }
   ],
   "source": [
    "index = df_new[df_new['Cut'] == ' '].index\n",
    "for i in index:\n",
    "    df_new['Cut'].iloc[i] = 'Missing'\n",
    "df_new_group = df_new.groupby('Cut').agg({\n",
    "    'id': 'count',\n",
    "})\n",
    "df_new_group.columns = ['count']\n",
    "df_new_group"
   ]
  },
  {
   "cell_type": "markdown",
   "metadata": {},
   "source": [
    "#### Measurements"
   ]
  },
  {
   "cell_type": "markdown",
   "metadata": {},
   "source": [
    "First we check whether there are missing values (0 or invalid data) in the datasets."
   ]
  },
  {
   "cell_type": "code",
   "execution_count": 422,
   "metadata": {},
   "outputs": [
    {
     "name": "stdout",
     "output_type": "stream",
     "text": [
      "There are 0 invalid Measurements in the training dataset.\n"
     ]
    }
   ],
   "source": [
    "df['Measurements_List'] = df['Measurements'].apply(lambda x: x.split('x'))\n",
    "df['Measurements_Number'] = df['Measurements_List'].apply(lambda x: len(x))\n",
    "index = df[df['Measurements_Number'] != 3].index\n",
    "print(f'There are {len(index)} invalid Measurements in the training dataset.')\n",
    "if len(index) > 0:\n",
    "    print(df.loc[index])"
   ]
  },
  {
   "cell_type": "code",
   "execution_count": 423,
   "metadata": {},
   "outputs": [
    {
     "name": "stdout",
     "output_type": "stream",
     "text": [
      "There are 1 invalid Measurements in the testing dataset.\n",
      "id                                    8877\n",
      "Carats                                1.03\n",
      "Cert                                  AGSL\n",
      "Clarity                                SI1\n",
      "Color                                    I\n",
      "Cut                                Missing\n",
      "Depth                                 62.7\n",
      "Known_Conflict_Diamond               False\n",
      "Measurements                6.42*6.47*4.04\n",
      "Polish                           Excellent\n",
      "Regions                           DR Congo\n",
      "Shape                                Round\n",
      "Symmetry                         Excellent\n",
      "Table                                 57.0\n",
      "Vendor                                   2\n",
      "Measurements_List         [6.42*6.47*4.04]\n",
      "Measurements_Number                      1\n",
      "Name: 826, dtype: object\n"
     ]
    }
   ],
   "source": [
    "df_new['Measurements_List'] = df_new['Measurements'].apply(lambda x: x.split('x'))\n",
    "df_new['Measurements_Number'] = df_new['Measurements_List'].apply(lambda x: len(x))\n",
    "index = df_new[df_new['Measurements_Number'] != 3].index\n",
    "print(f'There are {len(index)} invalid Measurements in the testing dataset.')\n",
    "if len(index) > 0:\n",
    "    for i in index:\n",
    "        print(df_new.loc[i])"
   ]
  },
  {
   "cell_type": "markdown",
   "metadata": {},
   "source": [
    "Notice that in the testing dataset, there is one sample with invalid Measurements format. We need to transfer it."
   ]
  },
  {
   "cell_type": "code",
   "execution_count": 424,
   "metadata": {},
   "outputs": [
    {
     "name": "stderr",
     "output_type": "stream",
     "text": [
      "c:\\Users\\fuym20\\anaconda3\\lib\\site-packages\\pandas\\core\\indexing.py:1732: SettingWithCopyWarning: \n",
      "A value is trying to be set on a copy of a slice from a DataFrame\n",
      "\n",
      "See the caveats in the documentation: https://pandas.pydata.org/pandas-docs/stable/user_guide/indexing.html#returning-a-view-versus-a-copy\n",
      "  self._setitem_single_block(indexer, value, name)\n"
     ]
    }
   ],
   "source": [
    "index = df_new[df_new['Measurements_Number'] != 3].index\n",
    "for i in index:\n",
    "    df_new['Measurements_List'].loc[i] = df_new['Measurements'].loc[i].split('*')\n",
    "    df_new.loc[i]"
   ]
  },
  {
   "cell_type": "code",
   "execution_count": 425,
   "metadata": {},
   "outputs": [],
   "source": [
    "df['Long'] = df['Measurements_List'].apply(lambda x: float(x[0]))\n",
    "df['Wide'] = df['Measurements_List'].apply(lambda x: float(x[1]))\n",
    "df['Deep'] = df['Measurements_List'].apply(lambda x: float(x[2]))\n",
    "df_new['Long'] = df_new['Measurements_List'].apply(lambda x: float(x[0]))\n",
    "df_new['Wide'] = df_new['Measurements_List'].apply(lambda x: float(x[1]))\n",
    "df_new['Deep'] = df_new['Measurements_List'].apply(lambda x: float(x[2]))"
   ]
  },
  {
   "cell_type": "markdown",
   "metadata": {},
   "source": [
    "Then we will check each feature (long/wide/deep) separately."
   ]
  },
  {
   "cell_type": "markdown",
   "metadata": {},
   "source": [
    "##### Long"
   ]
  },
  {
   "cell_type": "markdown",
   "metadata": {},
   "source": [
    "First we check whether there are missing values (0) in the datasets."
   ]
  },
  {
   "cell_type": "code",
   "execution_count": 426,
   "metadata": {},
   "outputs": [
    {
     "name": "stdout",
     "output_type": "stream",
     "text": [
      "There are 0 rows with missing values of column Long. (Training Dataset)\n",
      "There are 0 rows with missing values of column Long. (Testing Dataset)\n"
     ]
    }
   ],
   "source": [
    "name = 'Long'\n",
    "number = len(df[name].loc[df[name].isna()])\n",
    "number += len(df[(df[name]) <= 0])\n",
    "print(f'There are {number} rows with missing values of column {name}. (Training Dataset)')\n",
    "number = len(df_new[name].loc[df_new[name].isna()])\n",
    "number += len(df_new[(df_new[name]) <= 0])\n",
    "print(f'There are {number} rows with missing values of column {name}. (Testing Dataset)')"
   ]
  },
  {
   "cell_type": "markdown",
   "metadata": {},
   "source": [
    "Then we check the distribution of Long for both the training and testing datasets."
   ]
  },
  {
   "cell_type": "code",
   "execution_count": 427,
   "metadata": {},
   "outputs": [
    {
     "data": {
      "text/plain": [
       "([<matplotlib.axis.XTick at 0x1e79ae9ca60>,\n",
       "  <matplotlib.axis.XTick at 0x1e799a03520>],\n",
       " [Text(0, 0, 'Training'), Text(1, 0, 'Testing')])"
      ]
     },
     "execution_count": 427,
     "metadata": {},
     "output_type": "execute_result"
    },
    {
     "data": {
      "image/png": "[encoded data removed]",
      "text/plain": [
       "<Figure size 576x432 with 1 Axes>"
      ]
     },
     "metadata": {
      "needs_background": "light"
     },
     "output_type": "display_data"
    }
   ],
   "source": [
    "plt.figure(figsize=(8, 6))\n",
    "sns.violinplot(data=[df['Long'], df_new['Long']])\n",
    "plt.xlabel('Dataset')\n",
    "plt.ylabel('Long')\n",
    "plt.xticks(ticks=[0, 1], labels=['Training', 'Testing'])"
   ]
  },
  {
   "cell_type": "markdown",
   "metadata": {},
   "source": [
    "From the above violin plots, we can see that the distribution of Long is similar for the training and testing datasets.\n",
    "\n",
    "Most Long values range from 6-8, and the majority of Long values range from 4-10.\n",
    "\n",
    "There are few outliers with bigger Long values than others."
   ]
  },
  {
   "cell_type": "markdown",
   "metadata": {},
   "source": [
    "Then we analyze the correlation of Long between retail/price/profit."
   ]
  },
  {
   "cell_type": "code",
   "execution_count": 428,
   "metadata": {},
   "outputs": [
    {
     "name": "stdout",
     "output_type": "stream",
     "text": [
      "The correlation between Long and Retail is 0.6068.\n",
      "The correlation between Long and Price is 0.6255.\n",
      "The correlation between Long and Profit is 0.4396.\n"
     ]
    }
   ],
   "source": [
    "for item in ['Retail', 'Price', 'Profit']:\n",
    "    corr = np.corrcoef(df['Long'], df[item])[0, 1]\n",
    "    x = '%.4f' % corr\n",
    "    print(f'The correlation between Long and {item} is {x}.')"
   ]
  },
  {
   "cell_type": "markdown",
   "metadata": {},
   "source": [
    "We can see that the Long feature is highly and positively correlated to the profit."
   ]
  },
  {
   "cell_type": "markdown",
   "metadata": {},
   "source": [
    "##### Wide"
   ]
  },
  {
   "cell_type": "markdown",
   "metadata": {},
   "source": [
    "First we check whether there are missing values (0) in the datasets."
   ]
  },
  {
   "cell_type": "code",
   "execution_count": 429,
   "metadata": {},
   "outputs": [
    {
     "name": "stdout",
     "output_type": "stream",
     "text": [
      "There are 0 rows with missing values of column Wide. (Training Dataset)\n",
      "There are 0 rows with missing values of column Wide. (Testing Dataset)\n"
     ]
    }
   ],
   "source": [
    "name = 'Wide'\n",
    "number = len(df[name].loc[df[name].isna()])\n",
    "number += len(df[(df[name]) <= 0])\n",
    "print(f'There are {number} rows with missing values of column {name}. (Training Dataset)')\n",
    "number = len(df_new[name].loc[df_new[name].isna()])\n",
    "number += len(df_new[(df_new[name]) <= 0])\n",
    "print(f'There are {number} rows with missing values of column {name}. (Testing Dataset)')"
   ]
  },
  {
   "cell_type": "markdown",
   "metadata": {},
   "source": [
    "Then we check the distribution of Wide for both the training and testing datasets."
   ]
  },
  {
   "cell_type": "code",
   "execution_count": 430,
   "metadata": {},
   "outputs": [
    {
     "data": {
      "text/plain": [
       "([<matplotlib.axis.XTick at 0x1e7aa9510a0>,\n",
       "  <matplotlib.axis.XTick at 0x1e7aa94ce50>],\n",
       " [Text(0, 0, 'Training'), Text(1, 0, 'Testing')])"
      ]
     },
     "execution_count": 430,
     "metadata": {},
     "output_type": "execute_result"
    },
    {
     "data": {
      "image/png": "[encoded data removed]",
      "text/plain": [
       "<Figure size 576x432 with 1 Axes>"
      ]
     },
     "metadata": {
      "needs_background": "light"
     },
     "output_type": "display_data"
    }
   ],
   "source": [
    "plt.figure(figsize=(8, 6))\n",
    "sns.violinplot(data=[df['Wide'], df_new['Wide']])\n",
    "plt.xlabel('Dataset')\n",
    "plt.ylabel('Wide')\n",
    "plt.xticks(ticks=[0, 1], labels=['Training', 'Testing'])"
   ]
  },
  {
   "cell_type": "markdown",
   "metadata": {},
   "source": [
    "From the above violin plots, we can see that the distribution of Wide is similar for the training and testing datasets.\n",
    "\n",
    "Most Wide values range from 6-8, and the majority of Wide values range from 4-10.\n",
    "\n",
    "There are few outliers with bigger Wide values than others."
   ]
  },
  {
   "cell_type": "markdown",
   "metadata": {},
   "source": [
    "Then we analyze the correlation of Wide between retail/price/profit."
   ]
  },
  {
   "cell_type": "code",
   "execution_count": 431,
   "metadata": {},
   "outputs": [
    {
     "name": "stdout",
     "output_type": "stream",
     "text": [
      "The correlation between Wide and Retail is 0.6063.\n",
      "The correlation between Wide and Price is 0.6248.\n",
      "The correlation between Wide and Profit is 0.4394.\n"
     ]
    }
   ],
   "source": [
    "for item in ['Retail', 'Price', 'Profit']:\n",
    "    corr = np.corrcoef(df['Wide'], df[item])[0, 1]\n",
    "    x = '%.4f' % corr\n",
    "    print(f'The correlation between Wide and {item} is {x}.')"
   ]
  },
  {
   "cell_type": "markdown",
   "metadata": {},
   "source": [
    "We can see that the Wide feature is highly and positively correlated to the profit."
   ]
  },
  {
   "cell_type": "markdown",
   "metadata": {},
   "source": [
    "Actually, the result of Long and Wide are so similar that we can imagine a high correlation between them."
   ]
  },
  {
   "cell_type": "code",
   "execution_count": 432,
   "metadata": {},
   "outputs": [
    {
     "name": "stdout",
     "output_type": "stream",
     "text": [
      "The correlation between Long and Wide is 0.9993.\n"
     ]
    }
   ],
   "source": [
    "corr = np.corrcoef(df['Long'], df['Wide'])[0, 1]\n",
    "x = '%.4f' % corr\n",
    "print(f'The correlation between Long and Wide is {x}.')"
   ]
  },
  {
   "cell_type": "markdown",
   "metadata": {},
   "source": [
    "Here we can see that Long and Wide are actually identical. This may be intrepred by the fact that most diamonds have a rotational symmetric shape."
   ]
  },
  {
   "cell_type": "markdown",
   "metadata": {},
   "source": [
    "##### Deep"
   ]
  },
  {
   "cell_type": "markdown",
   "metadata": {},
   "source": [
    "First we check whether there are missing values (0) in the datasets."
   ]
  },
  {
   "cell_type": "code",
   "execution_count": 433,
   "metadata": {},
   "outputs": [
    {
     "name": "stdout",
     "output_type": "stream",
     "text": [
      "There are 0 rows with missing values of column Deep. (Training Dataset)\n",
      "There are 0 rows with missing values of column Deep. (Testing Dataset)\n"
     ]
    }
   ],
   "source": [
    "name = 'Deep'\n",
    "number = len(df[name].loc[df[name].isna()])\n",
    "number += len(df[(df[name]) <= 0])\n",
    "print(f'There are {number} rows with missing values of column {name}. (Training Dataset)')\n",
    "number = len(df_new[name].loc[df_new[name].isna()])\n",
    "number += len(df_new[(df_new[name]) <= 0])\n",
    "print(f'There are {number} rows with missing values of column {name}. (Testing Dataset)')"
   ]
  },
  {
   "cell_type": "markdown",
   "metadata": {},
   "source": [
    "Then we check the distribution of Deep for both the training and testing datasets."
   ]
  },
  {
   "cell_type": "code",
   "execution_count": 434,
   "metadata": {},
   "outputs": [
    {
     "data": {
      "text/plain": [
       "([<matplotlib.axis.XTick at 0x1e7ab98d1f0>,\n",
       "  <matplotlib.axis.XTick at 0x1e7ab98d1c0>],\n",
       " [Text(0, 0, 'Training'), Text(1, 0, 'Testing')])"
      ]
     },
     "execution_count": 434,
     "metadata": {},
     "output_type": "execute_result"
    },
    {
     "data": {
      "image/png": "[encoded data removed]",
      "text/plain": [
       "<Figure size 576x432 with 1 Axes>"
      ]
     },
     "metadata": {
      "needs_background": "light"
     },
     "output_type": "display_data"
    }
   ],
   "source": [
    "plt.figure(figsize=(8, 6))\n",
    "sns.violinplot(data=[df['Deep'], df_new['Deep']])\n",
    "plt.xlabel('Dataset')\n",
    "plt.ylabel('Deep')\n",
    "plt.xticks(ticks=[0, 1], labels=['Training', 'Testing'])"
   ]
  },
  {
   "cell_type": "markdown",
   "metadata": {},
   "source": [
    "We notice here are some extreme values for the testing datsets."
   ]
  },
  {
   "cell_type": "code",
   "execution_count": 435,
   "metadata": {},
   "outputs": [
    {
     "data": {
      "text/plain": [
       "[60.9, 8.81, 8.58, 8.58, 8.58, 8.28, 7.8, 7.62, 7.62, 7.55]"
      ]
     },
     "execution_count": 435,
     "metadata": {},
     "output_type": "execute_result"
    }
   ],
   "source": [
    "deep = df_new['Deep'].to_list()\n",
    "deep.sort()\n",
    "deep.reverse()\n",
    "deep[:10]"
   ]
  },
  {
   "cell_type": "code",
   "execution_count": 436,
   "metadata": {},
   "outputs": [
    {
     "data": {
      "text/html": [
       "<div>\n",
       "<style scoped>\n",
       "    .dataframe tbody tr th:only-of-type {\n",
       "        vertical-align: middle;\n",
       "    }\n",
       "\n",
       "    .dataframe tbody tr th {\n",
       "        vertical-align: top;\n",
       "    }\n",
       "\n",
       "    .dataframe thead th {\n",
       "        text-align: right;\n",
       "    }\n",
       "</style>\n",
       "<table border=\"1\" class=\"dataframe\">\n",
       "  <thead>\n",
       "    <tr style=\"text-align: right;\">\n",
       "      <th></th>\n",
       "      <th>id</th>\n",
       "      <th>Carats</th>\n",
       "      <th>Cert</th>\n",
       "      <th>Clarity</th>\n",
       "      <th>Color</th>\n",
       "      <th>Cut</th>\n",
       "      <th>Depth</th>\n",
       "      <th>Known_Conflict_Diamond</th>\n",
       "      <th>Measurements</th>\n",
       "      <th>Polish</th>\n",
       "      <th>Regions</th>\n",
       "      <th>Shape</th>\n",
       "      <th>Symmetry</th>\n",
       "      <th>Table</th>\n",
       "      <th>Vendor</th>\n",
       "      <th>Measurements_List</th>\n",
       "      <th>Measurements_Number</th>\n",
       "      <th>Long</th>\n",
       "      <th>Wide</th>\n",
       "      <th>Deep</th>\n",
       "    </tr>\n",
       "  </thead>\n",
       "  <tbody>\n",
       "    <tr>\n",
       "      <th>2173</th>\n",
       "      <td>10224</td>\n",
       "      <td>2.01</td>\n",
       "      <td>AGSL</td>\n",
       "      <td>SI2</td>\n",
       "      <td>H</td>\n",
       "      <td>Excellent</td>\n",
       "      <td>60.9</td>\n",
       "      <td>False</td>\n",
       "      <td>8.2x8.14x60.9</td>\n",
       "      <td>Excellent</td>\n",
       "      <td>Russia</td>\n",
       "      <td>Round</td>\n",
       "      <td>Excellent</td>\n",
       "      <td>59.0</td>\n",
       "      <td>2</td>\n",
       "      <td>[8.2, 8.14, 60.9]</td>\n",
       "      <td>3</td>\n",
       "      <td>8.2</td>\n",
       "      <td>8.14</td>\n",
       "      <td>60.9</td>\n",
       "    </tr>\n",
       "  </tbody>\n",
       "</table>\n",
       "</div>"
      ],
      "text/plain": [
       "         id  Carats  Cert Clarity Color        Cut  Depth  Known_Conflict_Diamond   Measurements     Polish Regions  Shape   Symmetry  Table  Vendor  Measurements_List  Measurements_Number  Long  Wide  Deep\n",
       "2173  10224    2.01  AGSL     SI2     H  Excellent   60.9                   False  8.2x8.14x60.9  Excellent  Russia  Round  Excellent   59.0       2  [8.2, 8.14, 60.9]                    3   8.2  8.14  60.9"
      ]
     },
     "execution_count": 436,
     "metadata": {},
     "output_type": "execute_result"
    }
   ],
   "source": [
    "df_new[df_new['Deep'] == 60.9]"
   ]
  },
  {
   "cell_type": "markdown",
   "metadata": {},
   "source": [
    "Here we can find an outlier with extreme large Deep value. We may drop this sample temporarily for better visualization. (Or it maybe 6.09 instead, since it is so large.)"
   ]
  },
  {
   "cell_type": "code",
   "execution_count": 437,
   "metadata": {},
   "outputs": [
    {
     "data": {
      "text/plain": [
       "([<matplotlib.axis.XTick at 0x1e7ab964190>,\n",
       "  <matplotlib.axis.XTick at 0x1e7986e14f0>],\n",
       " [Text(0, 0, 'Training'), Text(1, 0, 'Testing')])"
      ]
     },
     "execution_count": 437,
     "metadata": {},
     "output_type": "execute_result"
    },
    {
     "data": {
      "image/png": "[encoded data removed]",
      "text/plain": [
       "<Figure size 576x432 with 1 Axes>"
      ]
     },
     "metadata": {
      "needs_background": "light"
     },
     "output_type": "display_data"
    }
   ],
   "source": [
    "temp_df = df_new[df_new['Deep'] < 10]\n",
    "plt.figure(figsize=(8, 6))\n",
    "sns.violinplot(data=[df['Deep'], temp_df['Deep']])\n",
    "plt.xlabel('Dataset')\n",
    "plt.ylabel('Deep')\n",
    "plt.xticks(ticks=[0, 1], labels=['Training', 'Testing'])"
   ]
  },
  {
   "cell_type": "markdown",
   "metadata": {},
   "source": [
    "From the above violin plots, we can see that the distribution of Deep is similar for the training and testing datasets.\n",
    "\n",
    "Most Wide values range from 4-5, and the majority of Deep values range from 3-7.\n",
    "\n",
    "There are few outliers with bigger Deep values than others."
   ]
  },
  {
   "cell_type": "markdown",
   "metadata": {},
   "source": [
    "Then we analyze the correlation of Deep between retail/price/profit."
   ]
  },
  {
   "cell_type": "code",
   "execution_count": 438,
   "metadata": {},
   "outputs": [
    {
     "name": "stdout",
     "output_type": "stream",
     "text": [
      "The correlation between Deep and Retail is 0.6009.\n",
      "The correlation between Deep and Price is 0.6195.\n",
      "The correlation between Deep and Profit is 0.4352.\n"
     ]
    }
   ],
   "source": [
    "for item in ['Retail', 'Price', 'Profit']:\n",
    "    corr = np.corrcoef(df['Deep'], df[item])[0, 1]\n",
    "    x = '%.4f' % corr\n",
    "    print(f'The correlation between Deep and {item} is {x}.')"
   ]
  },
  {
   "cell_type": "markdown",
   "metadata": {},
   "source": [
    "We can see that the Deep feature is highly and positively correlated to the profit."
   ]
  },
  {
   "cell_type": "markdown",
   "metadata": {},
   "source": [
    "#### Polish"
   ]
  },
  {
   "cell_type": "markdown",
   "metadata": {},
   "source": [
    "First we check all the categories of Polish. Here we also need to add a 'Missing' tag."
   ]
  },
  {
   "cell_type": "code",
   "execution_count": 439,
   "metadata": {},
   "outputs": [
    {
     "name": "stderr",
     "output_type": "stream",
     "text": [
      "c:\\Users\\fuym20\\anaconda3\\lib\\site-packages\\pandas\\core\\indexing.py:1732: SettingWithCopyWarning: \n",
      "A value is trying to be set on a copy of a slice from a DataFrame\n",
      "\n",
      "See the caveats in the documentation: https://pandas.pydata.org/pandas-docs/stable/user_guide/indexing.html#returning-a-view-versus-a-copy\n",
      "  self._setitem_single_block(indexer, value, name)\n"
     ]
    },
    {
     "name": "stdout",
     "output_type": "stream",
     "text": [
      "There are 4 categories of Polish.\n",
      "All the categories are ['Good', 'Missing', 'Very good', 'Excellent']\n"
     ]
    },
    {
     "data": {
      "text/plain": [
       "<BarContainer object of 4 artists>"
      ]
     },
     "execution_count": 439,
     "metadata": {},
     "output_type": "execute_result"
    },
    {
     "data": {
      "image/png": "[encoded data removed]",
      "text/plain": [
       "<Figure size 432x288 with 1 Axes>"
      ]
     },
     "metadata": {
      "needs_background": "light"
     },
     "output_type": "display_data"
    }
   ],
   "source": [
    "index = df[df['Polish'] == ' '].index\n",
    "for i in index:\n",
    "    df['Polish'].iloc[i] = 'Missing'\n",
    "polish = list(set(df['Polish'].to_list()))\n",
    "print(f'There are {len(polish)} categories of Polish.')\n",
    "print(f'All the categories are {polish}')\n",
    "df_group = df.groupby('Polish').agg({'id': 'count'})\n",
    "df_group.columns = ['count']\n",
    "df_group = df_group.sort_values(by=['count'], ascending=False)\n",
    "plt.bar(df_group.index, df_group['count'], alpha=0.8)"
   ]
  },
  {
   "cell_type": "markdown",
   "metadata": {},
   "source": [
    "Here we can see only a few diamonds have missing Polish.\n",
    "\n",
    "Then we check the statistics of each different category."
   ]
  },
  {
   "cell_type": "code",
   "execution_count": 440,
   "metadata": {},
   "outputs": [
    {
     "data": {
      "text/html": [
       "<div>\n",
       "<style scoped>\n",
       "    .dataframe tbody tr th:only-of-type {\n",
       "        vertical-align: middle;\n",
       "    }\n",
       "\n",
       "    .dataframe tbody tr th {\n",
       "        vertical-align: top;\n",
       "    }\n",
       "\n",
       "    .dataframe thead th {\n",
       "        text-align: right;\n",
       "    }\n",
       "</style>\n",
       "<table border=\"1\" class=\"dataframe\">\n",
       "  <thead>\n",
       "    <tr style=\"text-align: right;\">\n",
       "      <th></th>\n",
       "      <th>count</th>\n",
       "      <th>MaxProfit</th>\n",
       "      <th>MinProfit</th>\n",
       "      <th>AvgProfit</th>\n",
       "      <th>StdProfit</th>\n",
       "      <th>MaxRetail</th>\n",
       "      <th>MinRetail</th>\n",
       "      <th>AvgRetail</th>\n",
       "      <th>StdRetail</th>\n",
       "      <th>MaxPrice</th>\n",
       "      <th>MinPrice</th>\n",
       "      <th>AvgPrice</th>\n",
       "      <th>StdPrice</th>\n",
       "    </tr>\n",
       "    <tr>\n",
       "      <th>Polish</th>\n",
       "      <th></th>\n",
       "      <th></th>\n",
       "      <th></th>\n",
       "      <th></th>\n",
       "      <th></th>\n",
       "      <th></th>\n",
       "      <th></th>\n",
       "      <th></th>\n",
       "      <th></th>\n",
       "      <th></th>\n",
       "      <th></th>\n",
       "      <th></th>\n",
       "      <th></th>\n",
       "    </tr>\n",
       "  </thead>\n",
       "  <tbody>\n",
       "    <tr>\n",
       "      <th>Excellent</th>\n",
       "      <td>5383</td>\n",
       "      <td>587405</td>\n",
       "      <td>-673680</td>\n",
       "      <td>7713.704254</td>\n",
       "      <td>24022.793440</td>\n",
       "      <td>1675190</td>\n",
       "      <td>45</td>\n",
       "      <td>26070.014862</td>\n",
       "      <td>59939.927089</td>\n",
       "      <td>1087785</td>\n",
       "      <td>395</td>\n",
       "      <td>18356.310607</td>\n",
       "      <td>41560.222089</td>\n",
       "    </tr>\n",
       "    <tr>\n",
       "      <th>Good</th>\n",
       "      <td>179</td>\n",
       "      <td>66200</td>\n",
       "      <td>-26825</td>\n",
       "      <td>3155.083799</td>\n",
       "      <td>7080.018538</td>\n",
       "      <td>199065</td>\n",
       "      <td>330</td>\n",
       "      <td>10584.301676</td>\n",
       "      <td>19496.256200</td>\n",
       "      <td>132865</td>\n",
       "      <td>635</td>\n",
       "      <td>7429.217877</td>\n",
       "      <td>13524.286818</td>\n",
       "    </tr>\n",
       "    <tr>\n",
       "      <th>Missing</th>\n",
       "      <td>899</td>\n",
       "      <td>184405</td>\n",
       "      <td>-17275</td>\n",
       "      <td>4341.562848</td>\n",
       "      <td>9301.837030</td>\n",
       "      <td>531035</td>\n",
       "      <td>120</td>\n",
       "      <td>13785.289210</td>\n",
       "      <td>26715.760089</td>\n",
       "      <td>346630</td>\n",
       "      <td>455</td>\n",
       "      <td>9443.726363</td>\n",
       "      <td>17873.694595</td>\n",
       "    </tr>\n",
       "    <tr>\n",
       "      <th>Very good</th>\n",
       "      <td>1589</td>\n",
       "      <td>117155</td>\n",
       "      <td>-20990</td>\n",
       "      <td>3549.493392</td>\n",
       "      <td>8130.920715</td>\n",
       "      <td>334725</td>\n",
       "      <td>75</td>\n",
       "      <td>11586.233480</td>\n",
       "      <td>24178.624477</td>\n",
       "      <td>238365</td>\n",
       "      <td>405</td>\n",
       "      <td>8036.740088</td>\n",
       "      <td>16536.704737</td>\n",
       "    </tr>\n",
       "  </tbody>\n",
       "</table>\n",
       "</div>"
      ],
      "text/plain": [
       "           count  MaxProfit  MinProfit    AvgProfit     StdProfit  MaxRetail  MinRetail     AvgRetail     StdRetail  MaxPrice  MinPrice      AvgPrice      StdPrice\n",
       "Polish                                                                                                                                                             \n",
       "Excellent   5383     587405    -673680  7713.704254  24022.793440    1675190         45  26070.014862  59939.927089   1087785       395  18356.310607  41560.222089\n",
       "Good         179      66200     -26825  3155.083799   7080.018538     199065        330  10584.301676  19496.256200    132865       635   7429.217877  13524.286818\n",
       "Missing      899     184405     -17275  4341.562848   9301.837030     531035        120  13785.289210  26715.760089    346630       455   9443.726363  17873.694595\n",
       "Very good   1589     117155     -20990  3549.493392   8130.920715     334725         75  11586.233480  24178.624477    238365       405   8036.740088  16536.704737"
      ]
     },
     "execution_count": 440,
     "metadata": {},
     "output_type": "execute_result"
    }
   ],
   "source": [
    "df_group = df.groupby('Polish').agg({\n",
    "    'id': 'count',\n",
    "    'Profit': ['max', 'min', 'mean', 'std'],\n",
    "    'Retail': ['max', 'min', 'mean', 'std'],\n",
    "    'Price': ['max', 'min', 'mean', 'std']\n",
    "})\n",
    "df_group.columns = ['count', 'MaxProfit', 'MinProfit', 'AvgProfit', 'StdProfit', 'MaxRetail', 'MinRetail', 'AvgRetail', 'StdRetail', 'MaxPrice', 'MinPrice', 'AvgPrice', 'StdPrice']\n",
    "df_group"
   ]
  },
  {
   "cell_type": "markdown",
   "metadata": {},
   "source": [
    "Here we can see that diamonds with better Polish tend to have higher profit.\n",
    "\n",
    "Most diamonds are with 'Excellent' Polish, which means that Polish may be a necessary condition for high profit.\n",
    "\n",
    "But the standard deviation of profit is so high (more than 2 times the average profit), it is definitely not so decisive."
   ]
  },
  {
   "cell_type": "code",
   "execution_count": 441,
   "metadata": {},
   "outputs": [
    {
     "name": "stderr",
     "output_type": "stream",
     "text": [
      "c:\\Users\\fuym20\\anaconda3\\lib\\site-packages\\pandas\\core\\indexing.py:1732: SettingWithCopyWarning: \n",
      "A value is trying to be set on a copy of a slice from a DataFrame\n",
      "\n",
      "See the caveats in the documentation: https://pandas.pydata.org/pandas-docs/stable/user_guide/indexing.html#returning-a-view-versus-a-copy\n",
      "  self._setitem_single_block(indexer, value, name)\n"
     ]
    },
    {
     "data": {
      "text/html": [
       "<div>\n",
       "<style scoped>\n",
       "    .dataframe tbody tr th:only-of-type {\n",
       "        vertical-align: middle;\n",
       "    }\n",
       "\n",
       "    .dataframe tbody tr th {\n",
       "        vertical-align: top;\n",
       "    }\n",
       "\n",
       "    .dataframe thead th {\n",
       "        text-align: right;\n",
       "    }\n",
       "</style>\n",
       "<table border=\"1\" class=\"dataframe\">\n",
       "  <thead>\n",
       "    <tr style=\"text-align: right;\">\n",
       "      <th></th>\n",
       "      <th>count</th>\n",
       "    </tr>\n",
       "    <tr>\n",
       "      <th>Polish</th>\n",
       "      <th></th>\n",
       "    </tr>\n",
       "  </thead>\n",
       "  <tbody>\n",
       "    <tr>\n",
       "      <th>Excellent</th>\n",
       "      <td>1781</td>\n",
       "    </tr>\n",
       "    <tr>\n",
       "      <th>Fair</th>\n",
       "      <td>2</td>\n",
       "    </tr>\n",
       "    <tr>\n",
       "      <th>Good</th>\n",
       "      <td>70</td>\n",
       "    </tr>\n",
       "    <tr>\n",
       "      <th>Missing</th>\n",
       "      <td>291</td>\n",
       "    </tr>\n",
       "    <tr>\n",
       "      <th>Very good</th>\n",
       "      <td>539</td>\n",
       "    </tr>\n",
       "  </tbody>\n",
       "</table>\n",
       "</div>"
      ],
      "text/plain": [
       "           count\n",
       "Polish          \n",
       "Excellent   1781\n",
       "Fair           2\n",
       "Good          70\n",
       "Missing      291\n",
       "Very good    539"
      ]
     },
     "execution_count": 441,
     "metadata": {},
     "output_type": "execute_result"
    }
   ],
   "source": [
    "index = df_new[df_new['Polish'] == ' '].index\n",
    "for i in index:\n",
    "    df_new['Polish'].iloc[i] = 'Missing'\n",
    "df_new_group = df_new.groupby('Polish').agg({\n",
    "    'id': 'count',\n",
    "})\n",
    "df_new_group.columns = ['count']\n",
    "df_new_group"
   ]
  },
  {
   "cell_type": "markdown",
   "metadata": {},
   "source": [
    "Here in the testing dataset, there is a new value 'Fair'.\n",
    "\n",
    "Since there is no such value in the training dataset, we may as well replace it with 'Good', because they are similar in meanings."
   ]
  },
  {
   "cell_type": "code",
   "execution_count": 442,
   "metadata": {},
   "outputs": [
    {
     "name": "stderr",
     "output_type": "stream",
     "text": [
      "c:\\Users\\fuym20\\anaconda3\\lib\\site-packages\\pandas\\core\\indexing.py:1732: SettingWithCopyWarning: \n",
      "A value is trying to be set on a copy of a slice from a DataFrame\n",
      "\n",
      "See the caveats in the documentation: https://pandas.pydata.org/pandas-docs/stable/user_guide/indexing.html#returning-a-view-versus-a-copy\n",
      "  self._setitem_single_block(indexer, value, name)\n"
     ]
    },
    {
     "data": {
      "text/html": [
       "<div>\n",
       "<style scoped>\n",
       "    .dataframe tbody tr th:only-of-type {\n",
       "        vertical-align: middle;\n",
       "    }\n",
       "\n",
       "    .dataframe tbody tr th {\n",
       "        vertical-align: top;\n",
       "    }\n",
       "\n",
       "    .dataframe thead th {\n",
       "        text-align: right;\n",
       "    }\n",
       "</style>\n",
       "<table border=\"1\" class=\"dataframe\">\n",
       "  <thead>\n",
       "    <tr style=\"text-align: right;\">\n",
       "      <th></th>\n",
       "      <th>count</th>\n",
       "    </tr>\n",
       "    <tr>\n",
       "      <th>Polish</th>\n",
       "      <th></th>\n",
       "    </tr>\n",
       "  </thead>\n",
       "  <tbody>\n",
       "    <tr>\n",
       "      <th>Excellent</th>\n",
       "      <td>1781</td>\n",
       "    </tr>\n",
       "    <tr>\n",
       "      <th>Good</th>\n",
       "      <td>72</td>\n",
       "    </tr>\n",
       "    <tr>\n",
       "      <th>Missing</th>\n",
       "      <td>291</td>\n",
       "    </tr>\n",
       "    <tr>\n",
       "      <th>Very good</th>\n",
       "      <td>539</td>\n",
       "    </tr>\n",
       "  </tbody>\n",
       "</table>\n",
       "</div>"
      ],
      "text/plain": [
       "           count\n",
       "Polish          \n",
       "Excellent   1781\n",
       "Good          72\n",
       "Missing      291\n",
       "Very good    539"
      ]
     },
     "execution_count": 442,
     "metadata": {},
     "output_type": "execute_result"
    }
   ],
   "source": [
    "index = df_new[df_new['Polish'] == 'Fair'].index\n",
    "for i in index:\n",
    "    df_new['Polish'].iloc[i] = 'Good'\n",
    "df_new_group = df_new.groupby('Polish').agg({\n",
    "    'id': 'count',\n",
    "})\n",
    "df_new_group.columns = ['count']\n",
    "df_new_group"
   ]
  },
  {
   "cell_type": "markdown",
   "metadata": {},
   "source": [
    "#### Regions"
   ]
  },
  {
   "cell_type": "markdown",
   "metadata": {},
   "source": [
    "First we check all the categories of Regions."
   ]
  },
  {
   "cell_type": "code",
   "execution_count": 443,
   "metadata": {},
   "outputs": [
    {
     "name": "stdout",
     "output_type": "stream",
     "text": [
      "There are 9 categories of Regions.\n",
      "All the categories are ['Australia', 'Canada', 'Other/Unknown', 'Zimbabwe', 'Russia', 'Botswana', 'Angola', 'South Africa', 'DR Congo']\n"
     ]
    },
    {
     "data": {
      "text/plain": [
       "<BarContainer object of 9 artists>"
      ]
     },
     "execution_count": 443,
     "metadata": {},
     "output_type": "execute_result"
    },
    {
     "data": {
      "image/png": "[encoded data removed]",
      "text/plain": [
       "<Figure size 864x432 with 1 Axes>"
      ]
     },
     "metadata": {
      "needs_background": "light"
     },
     "output_type": "display_data"
    }
   ],
   "source": [
    "regions = list(set(df['Regions'].to_list()))\n",
    "print(f'There are {len(regions)} categories of Regions.')\n",
    "print(f'All the categories are {regions}')\n",
    "df_group = df.groupby('Regions').agg({'id': 'count'})\n",
    "df_group.columns = ['count']\n",
    "df_group = df_group.sort_values(by=['count'], ascending=False)\n",
    "plt.figure(figsize=(12,6))\n",
    "plt.bar(df_group.index, df_group['count'], alpha=0.8)"
   ]
  },
  {
   "cell_type": "markdown",
   "metadata": {},
   "source": [
    "Then we check the statistics of each different category."
   ]
  },
  {
   "cell_type": "code",
   "execution_count": 444,
   "metadata": {},
   "outputs": [
    {
     "data": {
      "text/html": [
       "<div>\n",
       "<style scoped>\n",
       "    .dataframe tbody tr th:only-of-type {\n",
       "        vertical-align: middle;\n",
       "    }\n",
       "\n",
       "    .dataframe tbody tr th {\n",
       "        vertical-align: top;\n",
       "    }\n",
       "\n",
       "    .dataframe thead th {\n",
       "        text-align: right;\n",
       "    }\n",
       "</style>\n",
       "<table border=\"1\" class=\"dataframe\">\n",
       "  <thead>\n",
       "    <tr style=\"text-align: right;\">\n",
       "      <th></th>\n",
       "      <th>count</th>\n",
       "      <th>MaxProfit</th>\n",
       "      <th>MinProfit</th>\n",
       "      <th>AvgProfit</th>\n",
       "      <th>StdProfit</th>\n",
       "      <th>MaxRetail</th>\n",
       "      <th>MinRetail</th>\n",
       "      <th>AvgRetail</th>\n",
       "      <th>StdRetail</th>\n",
       "      <th>MaxPrice</th>\n",
       "      <th>MinPrice</th>\n",
       "      <th>AvgPrice</th>\n",
       "      <th>StdPrice</th>\n",
       "    </tr>\n",
       "    <tr>\n",
       "      <th>Regions</th>\n",
       "      <th></th>\n",
       "      <th></th>\n",
       "      <th></th>\n",
       "      <th></th>\n",
       "      <th></th>\n",
       "      <th></th>\n",
       "      <th></th>\n",
       "      <th></th>\n",
       "      <th></th>\n",
       "      <th></th>\n",
       "      <th></th>\n",
       "      <th></th>\n",
       "      <th></th>\n",
       "    </tr>\n",
       "  </thead>\n",
       "  <tbody>\n",
       "    <tr>\n",
       "      <th>Angola</th>\n",
       "      <td>586</td>\n",
       "      <td>206305</td>\n",
       "      <td>-97425</td>\n",
       "      <td>4065.085324</td>\n",
       "      <td>17673.694669</td>\n",
       "      <td>574100</td>\n",
       "      <td>45</td>\n",
       "      <td>19160.767918</td>\n",
       "      <td>43443.083479</td>\n",
       "      <td>367795</td>\n",
       "      <td>500</td>\n",
       "      <td>15095.682594</td>\n",
       "      <td>29708.249672</td>\n",
       "    </tr>\n",
       "    <tr>\n",
       "      <th>Australia</th>\n",
       "      <td>887</td>\n",
       "      <td>188965</td>\n",
       "      <td>-16935</td>\n",
       "      <td>6949.374295</td>\n",
       "      <td>12819.940583</td>\n",
       "      <td>538905</td>\n",
       "      <td>625</td>\n",
       "      <td>20339.808343</td>\n",
       "      <td>36302.506611</td>\n",
       "      <td>349940</td>\n",
       "      <td>545</td>\n",
       "      <td>13390.434047</td>\n",
       "      <td>24025.012309</td>\n",
       "    </tr>\n",
       "    <tr>\n",
       "      <th>Botswana</th>\n",
       "      <td>1438</td>\n",
       "      <td>286990</td>\n",
       "      <td>-19330</td>\n",
       "      <td>6324.700974</td>\n",
       "      <td>17079.176414</td>\n",
       "      <td>1104805</td>\n",
       "      <td>455</td>\n",
       "      <td>21210.462448</td>\n",
       "      <td>55855.319795</td>\n",
       "      <td>830540</td>\n",
       "      <td>405</td>\n",
       "      <td>14885.761474</td>\n",
       "      <td>39388.375177</td>\n",
       "    </tr>\n",
       "    <tr>\n",
       "      <th>Canada</th>\n",
       "      <td>745</td>\n",
       "      <td>587405</td>\n",
       "      <td>-3220</td>\n",
       "      <td>8835.067114</td>\n",
       "      <td>32180.603671</td>\n",
       "      <td>1675190</td>\n",
       "      <td>645</td>\n",
       "      <td>25142.114094</td>\n",
       "      <td>84461.807045</td>\n",
       "      <td>1087785</td>\n",
       "      <td>570</td>\n",
       "      <td>16307.046980</td>\n",
       "      <td>53068.485082</td>\n",
       "    </tr>\n",
       "    <tr>\n",
       "      <th>DR Congo</th>\n",
       "      <td>796</td>\n",
       "      <td>322685</td>\n",
       "      <td>-673680</td>\n",
       "      <td>1723.831658</td>\n",
       "      <td>31824.097506</td>\n",
       "      <td>745880</td>\n",
       "      <td>90</td>\n",
       "      <td>17887.305276</td>\n",
       "      <td>42411.601857</td>\n",
       "      <td>783180</td>\n",
       "      <td>595</td>\n",
       "      <td>16163.473618</td>\n",
       "      <td>41397.599568</td>\n",
       "    </tr>\n",
       "    <tr>\n",
       "      <th>Other/Unknown</th>\n",
       "      <td>303</td>\n",
       "      <td>403145</td>\n",
       "      <td>-645</td>\n",
       "      <td>8829.620462</td>\n",
       "      <td>26325.743735</td>\n",
       "      <td>875780</td>\n",
       "      <td>850</td>\n",
       "      <td>25473.234323</td>\n",
       "      <td>61914.839669</td>\n",
       "      <td>472635</td>\n",
       "      <td>430</td>\n",
       "      <td>16643.613861</td>\n",
       "      <td>36219.073097</td>\n",
       "    </tr>\n",
       "    <tr>\n",
       "      <th>Russia</th>\n",
       "      <td>2599</td>\n",
       "      <td>230500</td>\n",
       "      <td>-19780</td>\n",
       "      <td>7712.568295</td>\n",
       "      <td>15449.105439</td>\n",
       "      <td>658580</td>\n",
       "      <td>380</td>\n",
       "      <td>22927.751058</td>\n",
       "      <td>45137.289740</td>\n",
       "      <td>428080</td>\n",
       "      <td>395</td>\n",
       "      <td>15215.182763</td>\n",
       "      <td>30019.263553</td>\n",
       "    </tr>\n",
       "    <tr>\n",
       "      <th>South Africa</th>\n",
       "      <td>556</td>\n",
       "      <td>255940</td>\n",
       "      <td>-5435</td>\n",
       "      <td>5760.386691</td>\n",
       "      <td>13304.369325</td>\n",
       "      <td>842730</td>\n",
       "      <td>575</td>\n",
       "      <td>20079.640288</td>\n",
       "      <td>47568.543384</td>\n",
       "      <td>586790</td>\n",
       "      <td>560</td>\n",
       "      <td>14319.253597</td>\n",
       "      <td>35753.270447</td>\n",
       "    </tr>\n",
       "    <tr>\n",
       "      <th>Zimbabwe</th>\n",
       "      <td>140</td>\n",
       "      <td>89460</td>\n",
       "      <td>-145630</td>\n",
       "      <td>801.964286</td>\n",
       "      <td>16639.419756</td>\n",
       "      <td>210520</td>\n",
       "      <td>210</td>\n",
       "      <td>13011.785714</td>\n",
       "      <td>22703.461198</td>\n",
       "      <td>178980</td>\n",
       "      <td>600</td>\n",
       "      <td>12209.821429</td>\n",
       "      <td>20215.606545</td>\n",
       "    </tr>\n",
       "  </tbody>\n",
       "</table>\n",
       "</div>"
      ],
      "text/plain": [
       "               count  MaxProfit  MinProfit    AvgProfit     StdProfit  MaxRetail  MinRetail     AvgRetail     StdRetail  MaxPrice  MinPrice      AvgPrice      StdPrice\n",
       "Regions                                                                                                                                                                \n",
       "Angola           586     206305     -97425  4065.085324  17673.694669     574100         45  19160.767918  43443.083479    367795       500  15095.682594  29708.249672\n",
       "Australia        887     188965     -16935  6949.374295  12819.940583     538905        625  20339.808343  36302.506611    349940       545  13390.434047  24025.012309\n",
       "Botswana        1438     286990     -19330  6324.700974  17079.176414    1104805        455  21210.462448  55855.319795    830540       405  14885.761474  39388.375177\n",
       "Canada           745     587405      -3220  8835.067114  32180.603671    1675190        645  25142.114094  84461.807045   1087785       570  16307.046980  53068.485082\n",
       "DR Congo         796     322685    -673680  1723.831658  31824.097506     745880         90  17887.305276  42411.601857    783180       595  16163.473618  41397.599568\n",
       "Other/Unknown    303     403145       -645  8829.620462  26325.743735     875780        850  25473.234323  61914.839669    472635       430  16643.613861  36219.073097\n",
       "Russia          2599     230500     -19780  7712.568295  15449.105439     658580        380  22927.751058  45137.289740    428080       395  15215.182763  30019.263553\n",
       "South Africa     556     255940      -5435  5760.386691  13304.369325     842730        575  20079.640288  47568.543384    586790       560  14319.253597  35753.270447\n",
       "Zimbabwe         140      89460    -145630   801.964286  16639.419756     210520        210  13011.785714  22703.461198    178980       600  12209.821429  20215.606545"
      ]
     },
     "execution_count": 444,
     "metadata": {},
     "output_type": "execute_result"
    }
   ],
   "source": [
    "df_group = df.groupby('Regions').agg({\n",
    "    'id': 'count',\n",
    "    'Profit': ['max', 'min', 'mean', 'std'],\n",
    "    'Retail': ['max', 'min', 'mean', 'std'],\n",
    "    'Price': ['max', 'min', 'mean', 'std']\n",
    "})\n",
    "df_group.columns = ['count', 'MaxProfit', 'MinProfit', 'AvgProfit', 'StdProfit', 'MaxRetail', 'MinRetail', 'AvgRetail', 'StdRetail', 'MaxPrice', 'MinPrice', 'AvgPrice', 'StdPrice']\n",
    "df_group"
   ]
  },
  {
   "cell_type": "markdown",
   "metadata": {},
   "source": [
    "Here we can see that there exists some regional difference in terms of diamond profit.\n",
    "\n",
    "More developed country may have higher profits, maybe owing to the diamond processing techniques/market & customers and so on.\n",
    "\n",
    "Other/Unknown Regions have a really high profit, which may be a little surprising.\n",
    "\n",
    "The standard deviation is also high here, signifying that Regions is not a decisive factor."
   ]
  },
  {
   "cell_type": "code",
   "execution_count": 445,
   "metadata": {},
   "outputs": [
    {
     "data": {
      "text/html": [
       "<div>\n",
       "<style scoped>\n",
       "    .dataframe tbody tr th:only-of-type {\n",
       "        vertical-align: middle;\n",
       "    }\n",
       "\n",
       "    .dataframe tbody tr th {\n",
       "        vertical-align: top;\n",
       "    }\n",
       "\n",
       "    .dataframe thead th {\n",
       "        text-align: right;\n",
       "    }\n",
       "</style>\n",
       "<table border=\"1\" class=\"dataframe\">\n",
       "  <thead>\n",
       "    <tr style=\"text-align: right;\">\n",
       "      <th></th>\n",
       "      <th>count</th>\n",
       "    </tr>\n",
       "    <tr>\n",
       "      <th>Regions</th>\n",
       "      <th></th>\n",
       "    </tr>\n",
       "  </thead>\n",
       "  <tbody>\n",
       "    <tr>\n",
       "      <th>Angola</th>\n",
       "      <td>182</td>\n",
       "    </tr>\n",
       "    <tr>\n",
       "      <th>Australia</th>\n",
       "      <td>297</td>\n",
       "    </tr>\n",
       "    <tr>\n",
       "      <th>Botswana</th>\n",
       "      <td>445</td>\n",
       "    </tr>\n",
       "    <tr>\n",
       "      <th>Canada</th>\n",
       "      <td>261</td>\n",
       "    </tr>\n",
       "    <tr>\n",
       "      <th>DR Congo</th>\n",
       "      <td>283</td>\n",
       "    </tr>\n",
       "    <tr>\n",
       "      <th>Other/Unknown</th>\n",
       "      <td>91</td>\n",
       "    </tr>\n",
       "    <tr>\n",
       "      <th>Russia</th>\n",
       "      <td>896</td>\n",
       "    </tr>\n",
       "    <tr>\n",
       "      <th>South Africa</th>\n",
       "      <td>174</td>\n",
       "    </tr>\n",
       "    <tr>\n",
       "      <th>Zimbabwe</th>\n",
       "      <td>54</td>\n",
       "    </tr>\n",
       "  </tbody>\n",
       "</table>\n",
       "</div>"
      ],
      "text/plain": [
       "               count\n",
       "Regions             \n",
       "Angola           182\n",
       "Australia        297\n",
       "Botswana         445\n",
       "Canada           261\n",
       "DR Congo         283\n",
       "Other/Unknown     91\n",
       "Russia           896\n",
       "South Africa     174\n",
       "Zimbabwe          54"
      ]
     },
     "execution_count": 445,
     "metadata": {},
     "output_type": "execute_result"
    }
   ],
   "source": [
    "df_new_group = df_new.groupby('Regions').agg({\n",
    "    'id': 'count',\n",
    "})\n",
    "df_new_group.columns = ['count']\n",
    "df_new_group"
   ]
  },
  {
   "cell_type": "markdown",
   "metadata": {},
   "source": [
    "#### Shape"
   ]
  },
  {
   "cell_type": "markdown",
   "metadata": {},
   "source": [
    "First we check all the categories of Shape."
   ]
  },
  {
   "cell_type": "code",
   "execution_count": 446,
   "metadata": {},
   "outputs": [
    {
     "name": "stdout",
     "output_type": "stream",
     "text": [
      "There are 13 categories of Shape.\n",
      "All the categories are ['ROUND', 'Radiant', 'Cushion', 'Pear', 'Asscher', 'Princess', 'Marquise', 'Oval', 'Uncut', 'Round', 'Emerald', 'Oval ', 'Marquis']\n"
     ]
    }
   ],
   "source": [
    "shape = list(set(df['Shape'].to_list()))\n",
    "print(f'There are {len(shape)} categories of Shape.')\n",
    "print(f'All the categories are {shape}')"
   ]
  },
  {
   "cell_type": "markdown",
   "metadata": {},
   "source": [
    "Here the Shape 'Oval' is repeated with a space at the end."
   ]
  },
  {
   "cell_type": "code",
   "execution_count": 447,
   "metadata": {},
   "outputs": [
    {
     "name": "stderr",
     "output_type": "stream",
     "text": [
      "c:\\Users\\fuym20\\anaconda3\\lib\\site-packages\\pandas\\core\\indexing.py:1732: SettingWithCopyWarning: \n",
      "A value is trying to be set on a copy of a slice from a DataFrame\n",
      "\n",
      "See the caveats in the documentation: https://pandas.pydata.org/pandas-docs/stable/user_guide/indexing.html#returning-a-view-versus-a-copy\n",
      "  self._setitem_single_block(indexer, value, name)\n"
     ]
    },
    {
     "name": "stdout",
     "output_type": "stream",
     "text": [
      "There are 12 categories of Shape.\n",
      "All the categories are ['ROUND', 'Radiant', 'Cushion', 'Pear', 'Asscher', 'Princess', 'Marquise', 'Oval', 'Uncut', 'Round', 'Emerald', 'Marquis']\n"
     ]
    }
   ],
   "source": [
    "index = df[df['Shape'] == 'Oval '].index\n",
    "for i in index:\n",
    "    df['Shape'].iloc[i] = 'Oval'\n",
    "shape = list(set(df['Shape'].to_list()))\n",
    "print(f'There are {len(shape)} categories of Shape.')\n",
    "print(f'All the categories are {shape}')"
   ]
  },
  {
   "cell_type": "code",
   "execution_count": 448,
   "metadata": {},
   "outputs": [
    {
     "data": {
      "text/plain": [
       "<BarContainer object of 12 artists>"
      ]
     },
     "execution_count": 448,
     "metadata": {},
     "output_type": "execute_result"
    },
    {
     "data": {
      "image/png": "[encoded data removed]",
      "text/plain": [
       "<Figure size 864x432 with 1 Axes>"
      ]
     },
     "metadata": {
      "needs_background": "light"
     },
     "output_type": "display_data"
    }
   ],
   "source": [
    "df_group = df.groupby('Shape').agg({'id': 'count'})\n",
    "df_group.columns = ['count']\n",
    "df_group = df_group.sort_values(by=['count'], ascending=False)\n",
    "plt.figure(figsize=(12,6))\n",
    "plt.bar(df_group.index, df_group['count'], alpha=0.8)"
   ]
  },
  {
   "cell_type": "markdown",
   "metadata": {},
   "source": [
    "Then we check the statistics of each different category."
   ]
  },
  {
   "cell_type": "code",
   "execution_count": 449,
   "metadata": {},
   "outputs": [
    {
     "data": {
      "text/html": [
       "<div>\n",
       "<style scoped>\n",
       "    .dataframe tbody tr th:only-of-type {\n",
       "        vertical-align: middle;\n",
       "    }\n",
       "\n",
       "    .dataframe tbody tr th {\n",
       "        vertical-align: top;\n",
       "    }\n",
       "\n",
       "    .dataframe thead th {\n",
       "        text-align: right;\n",
       "    }\n",
       "</style>\n",
       "<table border=\"1\" class=\"dataframe\">\n",
       "  <thead>\n",
       "    <tr style=\"text-align: right;\">\n",
       "      <th></th>\n",
       "      <th>count</th>\n",
       "      <th>MaxProfit</th>\n",
       "      <th>MinProfit</th>\n",
       "      <th>AvgProfit</th>\n",
       "      <th>StdProfit</th>\n",
       "      <th>MaxRetail</th>\n",
       "      <th>MinRetail</th>\n",
       "      <th>AvgRetail</th>\n",
       "      <th>StdRetail</th>\n",
       "      <th>MaxPrice</th>\n",
       "      <th>MinPrice</th>\n",
       "      <th>AvgPrice</th>\n",
       "      <th>StdPrice</th>\n",
       "    </tr>\n",
       "    <tr>\n",
       "      <th>Shape</th>\n",
       "      <th></th>\n",
       "      <th></th>\n",
       "      <th></th>\n",
       "      <th></th>\n",
       "      <th></th>\n",
       "      <th></th>\n",
       "      <th></th>\n",
       "      <th></th>\n",
       "      <th></th>\n",
       "      <th></th>\n",
       "      <th></th>\n",
       "      <th></th>\n",
       "      <th></th>\n",
       "    </tr>\n",
       "  </thead>\n",
       "  <tbody>\n",
       "    <tr>\n",
       "      <th>Asscher</th>\n",
       "      <td>194</td>\n",
       "      <td>69180</td>\n",
       "      <td>-673680</td>\n",
       "      <td>2476.572165</td>\n",
       "      <td>49996.021497</td>\n",
       "      <td>448270</td>\n",
       "      <td>290</td>\n",
       "      <td>22019.484536</td>\n",
       "      <td>43033.698962</td>\n",
       "      <td>783180</td>\n",
       "      <td>655</td>\n",
       "      <td>19542.912371</td>\n",
       "      <td>65057.617523</td>\n",
       "    </tr>\n",
       "    <tr>\n",
       "      <th>Cushion</th>\n",
       "      <td>87</td>\n",
       "      <td>35815</td>\n",
       "      <td>-145630</td>\n",
       "      <td>2053.448276</td>\n",
       "      <td>18160.474640</td>\n",
       "      <td>102325</td>\n",
       "      <td>440</td>\n",
       "      <td>15322.471264</td>\n",
       "      <td>16773.483969</td>\n",
       "      <td>178980</td>\n",
       "      <td>715</td>\n",
       "      <td>13269.022989</td>\n",
       "      <td>21912.679998</td>\n",
       "    </tr>\n",
       "    <tr>\n",
       "      <th>Emerald</th>\n",
       "      <td>554</td>\n",
       "      <td>366760</td>\n",
       "      <td>-51325</td>\n",
       "      <td>6841.254513</td>\n",
       "      <td>21285.711514</td>\n",
       "      <td>1047880</td>\n",
       "      <td>215</td>\n",
       "      <td>22324.945848</td>\n",
       "      <td>60057.577473</td>\n",
       "      <td>681120</td>\n",
       "      <td>615</td>\n",
       "      <td>15483.691336</td>\n",
       "      <td>39323.610681</td>\n",
       "    </tr>\n",
       "    <tr>\n",
       "      <th>Marquis</th>\n",
       "      <td>28</td>\n",
       "      <td>74000</td>\n",
       "      <td>-16380</td>\n",
       "      <td>10286.964286</td>\n",
       "      <td>16320.432680</td>\n",
       "      <td>254160</td>\n",
       "      <td>1710</td>\n",
       "      <td>26768.750000</td>\n",
       "      <td>48830.853779</td>\n",
       "      <td>180160</td>\n",
       "      <td>890</td>\n",
       "      <td>16481.785714</td>\n",
       "      <td>33840.852482</td>\n",
       "    </tr>\n",
       "    <tr>\n",
       "      <th>Marquise</th>\n",
       "      <td>285</td>\n",
       "      <td>178805</td>\n",
       "      <td>-76020</td>\n",
       "      <td>7471.052632</td>\n",
       "      <td>19807.942903</td>\n",
       "      <td>540850</td>\n",
       "      <td>270</td>\n",
       "      <td>23681.947368</td>\n",
       "      <td>54388.479856</td>\n",
       "      <td>363920</td>\n",
       "      <td>515</td>\n",
       "      <td>16210.894737</td>\n",
       "      <td>36225.980874</td>\n",
       "    </tr>\n",
       "    <tr>\n",
       "      <th>Oval</th>\n",
       "      <td>665</td>\n",
       "      <td>467855</td>\n",
       "      <td>-57555</td>\n",
       "      <td>8012.609023</td>\n",
       "      <td>25442.230327</td>\n",
       "      <td>889985</td>\n",
       "      <td>130</td>\n",
       "      <td>23422.616541</td>\n",
       "      <td>58045.612784</td>\n",
       "      <td>423195</td>\n",
       "      <td>595</td>\n",
       "      <td>15410.007519</td>\n",
       "      <td>34049.320515</td>\n",
       "    </tr>\n",
       "    <tr>\n",
       "      <th>Pear</th>\n",
       "      <td>336</td>\n",
       "      <td>230500</td>\n",
       "      <td>-28775</td>\n",
       "      <td>7649.181548</td>\n",
       "      <td>18826.561353</td>\n",
       "      <td>658580</td>\n",
       "      <td>360</td>\n",
       "      <td>25010.357143</td>\n",
       "      <td>53160.592354</td>\n",
       "      <td>428080</td>\n",
       "      <td>615</td>\n",
       "      <td>17361.175595</td>\n",
       "      <td>35102.811920</td>\n",
       "    </tr>\n",
       "    <tr>\n",
       "      <th>Princess</th>\n",
       "      <td>754</td>\n",
       "      <td>162865</td>\n",
       "      <td>-39960</td>\n",
       "      <td>5773.242706</td>\n",
       "      <td>12307.576074</td>\n",
       "      <td>465330</td>\n",
       "      <td>135</td>\n",
       "      <td>19777.294430</td>\n",
       "      <td>35286.883715</td>\n",
       "      <td>302465</td>\n",
       "      <td>430</td>\n",
       "      <td>14004.051724</td>\n",
       "      <td>24256.662846</td>\n",
       "    </tr>\n",
       "    <tr>\n",
       "      <th>ROUND</th>\n",
       "      <td>123</td>\n",
       "      <td>117155</td>\n",
       "      <td>-137830</td>\n",
       "      <td>4422.926829</td>\n",
       "      <td>18634.277334</td>\n",
       "      <td>334725</td>\n",
       "      <td>1050</td>\n",
       "      <td>19706.422764</td>\n",
       "      <td>35205.460628</td>\n",
       "      <td>217570</td>\n",
       "      <td>730</td>\n",
       "      <td>15283.495935</td>\n",
       "      <td>27296.722683</td>\n",
       "    </tr>\n",
       "    <tr>\n",
       "      <th>Radiant</th>\n",
       "      <td>481</td>\n",
       "      <td>106825</td>\n",
       "      <td>-32430</td>\n",
       "      <td>5749.532225</td>\n",
       "      <td>11448.838680</td>\n",
       "      <td>306970</td>\n",
       "      <td>155</td>\n",
       "      <td>19318.232848</td>\n",
       "      <td>33551.375704</td>\n",
       "      <td>233785</td>\n",
       "      <td>570</td>\n",
       "      <td>13568.700624</td>\n",
       "      <td>23695.324515</td>\n",
       "    </tr>\n",
       "    <tr>\n",
       "      <th>Round</th>\n",
       "      <td>4505</td>\n",
       "      <td>587405</td>\n",
       "      <td>-296215</td>\n",
       "      <td>6483.216426</td>\n",
       "      <td>19239.625335</td>\n",
       "      <td>1675190</td>\n",
       "      <td>75</td>\n",
       "      <td>21464.206437</td>\n",
       "      <td>54123.003909</td>\n",
       "      <td>1087785</td>\n",
       "      <td>405</td>\n",
       "      <td>14980.990011</td>\n",
       "      <td>36824.586779</td>\n",
       "    </tr>\n",
       "    <tr>\n",
       "      <th>Uncut</th>\n",
       "      <td>38</td>\n",
       "      <td>615</td>\n",
       "      <td>-1200</td>\n",
       "      <td>-94.078947</td>\n",
       "      <td>324.896772</td>\n",
       "      <td>49365</td>\n",
       "      <td>45</td>\n",
       "      <td>6774.605263</td>\n",
       "      <td>10097.614943</td>\n",
       "      <td>49365</td>\n",
       "      <td>395</td>\n",
       "      <td>6868.684211</td>\n",
       "      <td>10030.016349</td>\n",
       "    </tr>\n",
       "  </tbody>\n",
       "</table>\n",
       "</div>"
      ],
      "text/plain": [
       "          count  MaxProfit  MinProfit     AvgProfit     StdProfit  MaxRetail  MinRetail     AvgRetail     StdRetail  MaxPrice  MinPrice      AvgPrice      StdPrice\n",
       "Shape                                                                                                                                                              \n",
       "Asscher     194      69180    -673680   2476.572165  49996.021497     448270        290  22019.484536  43033.698962    783180       655  19542.912371  65057.617523\n",
       "Cushion      87      35815    -145630   2053.448276  18160.474640     102325        440  15322.471264  16773.483969    178980       715  13269.022989  21912.679998\n",
       "Emerald     554     366760     -51325   6841.254513  21285.711514    1047880        215  22324.945848  60057.577473    681120       615  15483.691336  39323.610681\n",
       "Marquis      28      74000     -16380  10286.964286  16320.432680     254160       1710  26768.750000  48830.853779    180160       890  16481.785714  33840.852482\n",
       "Marquise    285     178805     -76020   7471.052632  19807.942903     540850        270  23681.947368  54388.479856    363920       515  16210.894737  36225.980874\n",
       "Oval        665     467855     -57555   8012.609023  25442.230327     889985        130  23422.616541  58045.612784    423195       595  15410.007519  34049.320515\n",
       "Pear        336     230500     -28775   7649.181548  18826.561353     658580        360  25010.357143  53160.592354    428080       615  17361.175595  35102.811920\n",
       "Princess    754     162865     -39960   5773.242706  12307.576074     465330        135  19777.294430  35286.883715    302465       430  14004.051724  24256.662846\n",
       "ROUND       123     117155    -137830   4422.926829  18634.277334     334725       1050  19706.422764  35205.460628    217570       730  15283.495935  27296.722683\n",
       "Radiant     481     106825     -32430   5749.532225  11448.838680     306970        155  19318.232848  33551.375704    233785       570  13568.700624  23695.324515\n",
       "Round      4505     587405    -296215   6483.216426  19239.625335    1675190         75  21464.206437  54123.003909   1087785       405  14980.990011  36824.586779\n",
       "Uncut        38        615      -1200    -94.078947    324.896772      49365         45   6774.605263  10097.614943     49365       395   6868.684211  10030.016349"
      ]
     },
     "execution_count": 449,
     "metadata": {},
     "output_type": "execute_result"
    }
   ],
   "source": [
    "df_group = df.groupby('Shape').agg({\n",
    "    'id': 'count',\n",
    "    'Profit': ['max', 'min', 'mean', 'std'],\n",
    "    'Retail': ['max', 'min', 'mean', 'std'],\n",
    "    'Price': ['max', 'min', 'mean', 'std']\n",
    "})\n",
    "df_group.columns = ['count', 'MaxProfit', 'MinProfit', 'AvgProfit', 'StdProfit', 'MaxRetail', 'MinRetail', 'AvgRetail', 'StdRetail', 'MaxPrice', 'MinPrice', 'AvgPrice', 'StdPrice']\n",
    "df_group"
   ]
  },
  {
   "cell_type": "markdown",
   "metadata": {},
   "source": [
    "Here we can see most diamonds are round shaped, having a medium profit.\n",
    "\n",
    "The average profit may vary drastically among different Shapes.\n",
    "\n",
    "Uncut shaped diamonds have negative average profit, which is unique."
   ]
  },
  {
   "cell_type": "code",
   "execution_count": 450,
   "metadata": {},
   "outputs": [
    {
     "data": {
      "text/html": [
       "<div>\n",
       "<style scoped>\n",
       "    .dataframe tbody tr th:only-of-type {\n",
       "        vertical-align: middle;\n",
       "    }\n",
       "\n",
       "    .dataframe tbody tr th {\n",
       "        vertical-align: top;\n",
       "    }\n",
       "\n",
       "    .dataframe thead th {\n",
       "        text-align: right;\n",
       "    }\n",
       "</style>\n",
       "<table border=\"1\" class=\"dataframe\">\n",
       "  <thead>\n",
       "    <tr style=\"text-align: right;\">\n",
       "      <th></th>\n",
       "      <th>count</th>\n",
       "    </tr>\n",
       "    <tr>\n",
       "      <th>Shape</th>\n",
       "      <th></th>\n",
       "    </tr>\n",
       "  </thead>\n",
       "  <tbody>\n",
       "    <tr>\n",
       "      <th>Asscher</th>\n",
       "      <td>76</td>\n",
       "    </tr>\n",
       "    <tr>\n",
       "      <th>Cushion</th>\n",
       "      <td>26</td>\n",
       "    </tr>\n",
       "    <tr>\n",
       "      <th>Emerald</th>\n",
       "      <td>196</td>\n",
       "    </tr>\n",
       "    <tr>\n",
       "      <th>Marquis</th>\n",
       "      <td>9</td>\n",
       "    </tr>\n",
       "    <tr>\n",
       "      <th>Marquise</th>\n",
       "      <td>97</td>\n",
       "    </tr>\n",
       "    <tr>\n",
       "      <th>Oval</th>\n",
       "      <td>183</td>\n",
       "    </tr>\n",
       "    <tr>\n",
       "      <th>Oval</th>\n",
       "      <td>50</td>\n",
       "    </tr>\n",
       "    <tr>\n",
       "      <th>Pear</th>\n",
       "      <td>92</td>\n",
       "    </tr>\n",
       "    <tr>\n",
       "      <th>Princess</th>\n",
       "      <td>252</td>\n",
       "    </tr>\n",
       "    <tr>\n",
       "      <th>ROUND</th>\n",
       "      <td>31</td>\n",
       "    </tr>\n",
       "    <tr>\n",
       "      <th>Radiant</th>\n",
       "      <td>170</td>\n",
       "    </tr>\n",
       "    <tr>\n",
       "      <th>Round</th>\n",
       "      <td>1489</td>\n",
       "    </tr>\n",
       "    <tr>\n",
       "      <th>Uncut</th>\n",
       "      <td>12</td>\n",
       "    </tr>\n",
       "  </tbody>\n",
       "</table>\n",
       "</div>"
      ],
      "text/plain": [
       "          count\n",
       "Shape          \n",
       "Asscher      76\n",
       "Cushion      26\n",
       "Emerald     196\n",
       "Marquis       9\n",
       "Marquise     97\n",
       "Oval        183\n",
       "Oval         50\n",
       "Pear         92\n",
       "Princess    252\n",
       "ROUND        31\n",
       "Radiant     170\n",
       "Round      1489\n",
       "Uncut        12"
      ]
     },
     "execution_count": 450,
     "metadata": {},
     "output_type": "execute_result"
    }
   ],
   "source": [
    "df_new_group = df_new.groupby('Shape').agg({\n",
    "    'id': 'count',\n",
    "})\n",
    "df_new_group.columns = ['count']\n",
    "df_new_group"
   ]
  },
  {
   "cell_type": "markdown",
   "metadata": {},
   "source": [
    "#### Symmetry"
   ]
  },
  {
   "cell_type": "markdown",
   "metadata": {},
   "source": [
    "First we check all the categories of Symmetry."
   ]
  },
  {
   "cell_type": "code",
   "execution_count": 451,
   "metadata": {},
   "outputs": [
    {
     "name": "stdout",
     "output_type": "stream",
     "text": [
      "There are 7 categories of Symmetry.\n",
      "All the categories are ['Very good', 'Faint', 'Fair', 'Good', 'Execllent', ' ', 'Excellent']\n"
     ]
    }
   ],
   "source": [
    "symmetry = list(set(df['Symmetry'].to_list()))\n",
    "print(f'There are {len(symmetry)} categories of Symmetry.')\n",
    "print(f'All the categories are {symmetry}')"
   ]
  },
  {
   "cell_type": "markdown",
   "metadata": {},
   "source": [
    "Here we should replace the category ' ' with 'Missing'.\n",
    "\n",
    "There is also a typo in 'Execllent'."
   ]
  },
  {
   "cell_type": "code",
   "execution_count": 452,
   "metadata": {},
   "outputs": [
    {
     "name": "stderr",
     "output_type": "stream",
     "text": [
      "c:\\Users\\fuym20\\anaconda3\\lib\\site-packages\\pandas\\core\\indexing.py:1732: SettingWithCopyWarning: \n",
      "A value is trying to be set on a copy of a slice from a DataFrame\n",
      "\n",
      "See the caveats in the documentation: https://pandas.pydata.org/pandas-docs/stable/user_guide/indexing.html#returning-a-view-versus-a-copy\n",
      "  self._setitem_single_block(indexer, value, name)\n"
     ]
    },
    {
     "name": "stdout",
     "output_type": "stream",
     "text": [
      "There are 6 categories of Symmetry.\n",
      "All the categories are ['Missing', 'Very good', 'Faint', 'Fair', 'Good', 'Excellent']\n"
     ]
    }
   ],
   "source": [
    "index = df[df['Symmetry'] == ' '].index\n",
    "for i in index:\n",
    "    df['Symmetry'].iloc[i] = 'Missing'\n",
    "index = df[df['Symmetry'] == 'Execllent'].index\n",
    "for i in index:\n",
    "    df['Symmetry'].iloc[i] = 'Excellent'\n",
    "symmetry = list(set(df['Symmetry'].to_list()))\n",
    "print(f'There are {len(symmetry)} categories of Symmetry.')\n",
    "print(f'All the categories are {symmetry}')"
   ]
  },
  {
   "cell_type": "code",
   "execution_count": 453,
   "metadata": {},
   "outputs": [
    {
     "data": {
      "text/plain": [
       "<BarContainer object of 6 artists>"
      ]
     },
     "execution_count": 453,
     "metadata": {},
     "output_type": "execute_result"
    },
    {
     "data": {
      "image/png": "[encoded data removed]",
      "text/plain": [
       "<Figure size 864x432 with 1 Axes>"
      ]
     },
     "metadata": {
      "needs_background": "light"
     },
     "output_type": "display_data"
    }
   ],
   "source": [
    "df_group = df.groupby('Symmetry').agg({'id': 'count'})\n",
    "df_group.columns = ['count']\n",
    "df_group = df_group.sort_values(by=['count'], ascending=False)\n",
    "plt.figure(figsize=(12,6))\n",
    "plt.bar(df_group.index, df_group['count'], alpha=0.8)"
   ]
  },
  {
   "cell_type": "markdown",
   "metadata": {},
   "source": [
    "Here we can see only a few diamonds have missing Symmetry.\n",
    "\n",
    "Then we check the statistics of each different category."
   ]
  },
  {
   "cell_type": "code",
   "execution_count": 454,
   "metadata": {},
   "outputs": [
    {
     "data": {
      "text/html": [
       "<div>\n",
       "<style scoped>\n",
       "    .dataframe tbody tr th:only-of-type {\n",
       "        vertical-align: middle;\n",
       "    }\n",
       "\n",
       "    .dataframe tbody tr th {\n",
       "        vertical-align: top;\n",
       "    }\n",
       "\n",
       "    .dataframe thead th {\n",
       "        text-align: right;\n",
       "    }\n",
       "</style>\n",
       "<table border=\"1\" class=\"dataframe\">\n",
       "  <thead>\n",
       "    <tr style=\"text-align: right;\">\n",
       "      <th></th>\n",
       "      <th>count</th>\n",
       "      <th>MaxProfit</th>\n",
       "      <th>MinProfit</th>\n",
       "      <th>AvgProfit</th>\n",
       "      <th>StdProfit</th>\n",
       "      <th>MaxRetail</th>\n",
       "      <th>MinRetail</th>\n",
       "      <th>AvgRetail</th>\n",
       "      <th>StdRetail</th>\n",
       "      <th>MaxPrice</th>\n",
       "      <th>MinPrice</th>\n",
       "      <th>AvgPrice</th>\n",
       "      <th>StdPrice</th>\n",
       "    </tr>\n",
       "    <tr>\n",
       "      <th>Symmetry</th>\n",
       "      <th></th>\n",
       "      <th></th>\n",
       "      <th></th>\n",
       "      <th></th>\n",
       "      <th></th>\n",
       "      <th></th>\n",
       "      <th></th>\n",
       "      <th></th>\n",
       "      <th></th>\n",
       "      <th></th>\n",
       "      <th></th>\n",
       "      <th></th>\n",
       "      <th></th>\n",
       "    </tr>\n",
       "  </thead>\n",
       "  <tbody>\n",
       "    <tr>\n",
       "      <th>Excellent</th>\n",
       "      <td>4760</td>\n",
       "      <td>587405</td>\n",
       "      <td>-673680</td>\n",
       "      <td>8118.991597</td>\n",
       "      <td>25015.283971</td>\n",
       "      <td>1675190</td>\n",
       "      <td>45</td>\n",
       "      <td>27562.922269</td>\n",
       "      <td>61963.077217</td>\n",
       "      <td>1087785</td>\n",
       "      <td>500</td>\n",
       "      <td>19443.930672</td>\n",
       "      <td>43072.658066</td>\n",
       "    </tr>\n",
       "    <tr>\n",
       "      <th>Faint</th>\n",
       "      <td>3</td>\n",
       "      <td>1225</td>\n",
       "      <td>310</td>\n",
       "      <td>720.000000</td>\n",
       "      <td>464.838682</td>\n",
       "      <td>3100</td>\n",
       "      <td>1110</td>\n",
       "      <td>1941.666667</td>\n",
       "      <td>1034.436239</td>\n",
       "      <td>1875</td>\n",
       "      <td>800</td>\n",
       "      <td>1221.666667</td>\n",
       "      <td>573.723220</td>\n",
       "    </tr>\n",
       "    <tr>\n",
       "      <th>Fair</th>\n",
       "      <td>16</td>\n",
       "      <td>19330</td>\n",
       "      <td>-6615</td>\n",
       "      <td>2894.062500</td>\n",
       "      <td>5158.648472</td>\n",
       "      <td>49300</td>\n",
       "      <td>660</td>\n",
       "      <td>8768.437500</td>\n",
       "      <td>11704.932966</td>\n",
       "      <td>29970</td>\n",
       "      <td>405</td>\n",
       "      <td>5874.375000</td>\n",
       "      <td>7066.859952</td>\n",
       "    </tr>\n",
       "    <tr>\n",
       "      <th>Good</th>\n",
       "      <td>392</td>\n",
       "      <td>134580</td>\n",
       "      <td>-26825</td>\n",
       "      <td>3688.150510</td>\n",
       "      <td>10257.303933</td>\n",
       "      <td>398555</td>\n",
       "      <td>225</td>\n",
       "      <td>12217.206633</td>\n",
       "      <td>29766.288308</td>\n",
       "      <td>263975</td>\n",
       "      <td>430</td>\n",
       "      <td>8529.056122</td>\n",
       "      <td>20150.558023</td>\n",
       "    </tr>\n",
       "    <tr>\n",
       "      <th>Missing</th>\n",
       "      <td>899</td>\n",
       "      <td>184405</td>\n",
       "      <td>-17275</td>\n",
       "      <td>4341.562848</td>\n",
       "      <td>9301.837030</td>\n",
       "      <td>531035</td>\n",
       "      <td>120</td>\n",
       "      <td>13785.289210</td>\n",
       "      <td>26715.760089</td>\n",
       "      <td>346630</td>\n",
       "      <td>455</td>\n",
       "      <td>9443.726363</td>\n",
       "      <td>17873.694595</td>\n",
       "    </tr>\n",
       "    <tr>\n",
       "      <th>Very good</th>\n",
       "      <td>1980</td>\n",
       "      <td>206305</td>\n",
       "      <td>-25350</td>\n",
       "      <td>3831.896465</td>\n",
       "      <td>9902.678609</td>\n",
       "      <td>574100</td>\n",
       "      <td>95</td>\n",
       "      <td>12376.378788</td>\n",
       "      <td>28652.929904</td>\n",
       "      <td>367795</td>\n",
       "      <td>395</td>\n",
       "      <td>8544.482323</td>\n",
       "      <td>19170.927730</td>\n",
       "    </tr>\n",
       "  </tbody>\n",
       "</table>\n",
       "</div>"
      ],
      "text/plain": [
       "           count  MaxProfit  MinProfit    AvgProfit     StdProfit  MaxRetail  MinRetail     AvgRetail     StdRetail  MaxPrice  MinPrice      AvgPrice      StdPrice\n",
       "Symmetry                                                                                                                                                           \n",
       "Excellent   4760     587405    -673680  8118.991597  25015.283971    1675190         45  27562.922269  61963.077217   1087785       500  19443.930672  43072.658066\n",
       "Faint          3       1225        310   720.000000    464.838682       3100       1110   1941.666667   1034.436239      1875       800   1221.666667    573.723220\n",
       "Fair          16      19330      -6615  2894.062500   5158.648472      49300        660   8768.437500  11704.932966     29970       405   5874.375000   7066.859952\n",
       "Good         392     134580     -26825  3688.150510  10257.303933     398555        225  12217.206633  29766.288308    263975       430   8529.056122  20150.558023\n",
       "Missing      899     184405     -17275  4341.562848   9301.837030     531035        120  13785.289210  26715.760089    346630       455   9443.726363  17873.694595\n",
       "Very good   1980     206305     -25350  3831.896465   9902.678609     574100         95  12376.378788  28652.929904    367795       395   8544.482323  19170.927730"
      ]
     },
     "execution_count": 454,
     "metadata": {},
     "output_type": "execute_result"
    }
   ],
   "source": [
    "df_group = df.groupby('Symmetry').agg({\n",
    "    'id': 'count',\n",
    "    'Profit': ['max', 'min', 'mean', 'std'],\n",
    "    'Retail': ['max', 'min', 'mean', 'std'],\n",
    "    'Price': ['max', 'min', 'mean', 'std']\n",
    "})\n",
    "df_group.columns = ['count', 'MaxProfit', 'MinProfit', 'AvgProfit', 'StdProfit', 'MaxRetail', 'MinRetail', 'AvgRetail', 'StdRetail', 'MaxPrice', 'MinPrice', 'AvgPrice', 'StdPrice']\n",
    "df_group"
   ]
  },
  {
   "cell_type": "markdown",
   "metadata": {},
   "source": [
    "Here we can see most diamonds have high level of Symmetry (Excellent/Very good), leading to rather higher profit.\n",
    "\n",
    "Few diamonds with low Symmetry tend to have low profit.\n",
    "\n",
    "Diamonds with missing Symmetry tend to have rather high profit."
   ]
  },
  {
   "cell_type": "code",
   "execution_count": 455,
   "metadata": {},
   "outputs": [
    {
     "name": "stderr",
     "output_type": "stream",
     "text": [
      "c:\\Users\\fuym20\\anaconda3\\lib\\site-packages\\pandas\\core\\indexing.py:1732: SettingWithCopyWarning: \n",
      "A value is trying to be set on a copy of a slice from a DataFrame\n",
      "\n",
      "See the caveats in the documentation: https://pandas.pydata.org/pandas-docs/stable/user_guide/indexing.html#returning-a-view-versus-a-copy\n",
      "  self._setitem_single_block(indexer, value, name)\n"
     ]
    },
    {
     "data": {
      "text/html": [
       "<div>\n",
       "<style scoped>\n",
       "    .dataframe tbody tr th:only-of-type {\n",
       "        vertical-align: middle;\n",
       "    }\n",
       "\n",
       "    .dataframe tbody tr th {\n",
       "        vertical-align: top;\n",
       "    }\n",
       "\n",
       "    .dataframe thead th {\n",
       "        text-align: right;\n",
       "    }\n",
       "</style>\n",
       "<table border=\"1\" class=\"dataframe\">\n",
       "  <thead>\n",
       "    <tr style=\"text-align: right;\">\n",
       "      <th></th>\n",
       "      <th>count</th>\n",
       "    </tr>\n",
       "    <tr>\n",
       "      <th>Symmetry</th>\n",
       "      <th></th>\n",
       "    </tr>\n",
       "  </thead>\n",
       "  <tbody>\n",
       "    <tr>\n",
       "      <th>Excellent</th>\n",
       "      <td>1542</td>\n",
       "    </tr>\n",
       "    <tr>\n",
       "      <th>Faint</th>\n",
       "      <td>1</td>\n",
       "    </tr>\n",
       "    <tr>\n",
       "      <th>Fair</th>\n",
       "      <td>6</td>\n",
       "    </tr>\n",
       "    <tr>\n",
       "      <th>Good</th>\n",
       "      <td>166</td>\n",
       "    </tr>\n",
       "    <tr>\n",
       "      <th>Missing</th>\n",
       "      <td>291</td>\n",
       "    </tr>\n",
       "    <tr>\n",
       "      <th>Very good</th>\n",
       "      <td>677</td>\n",
       "    </tr>\n",
       "  </tbody>\n",
       "</table>\n",
       "</div>"
      ],
      "text/plain": [
       "           count\n",
       "Symmetry        \n",
       "Excellent   1542\n",
       "Faint          1\n",
       "Fair           6\n",
       "Good         166\n",
       "Missing      291\n",
       "Very good    677"
      ]
     },
     "execution_count": 455,
     "metadata": {},
     "output_type": "execute_result"
    }
   ],
   "source": [
    "index = df_new[df_new['Symmetry'] == ' '].index\n",
    "for i in index:\n",
    "    df_new['Symmetry'].iloc[i] = 'Missing'\n",
    "df_new_group = df_new.groupby('Symmetry').agg({\n",
    "    'id': 'count',\n",
    "})\n",
    "df_new_group.columns = ['count']\n",
    "df_new_group"
   ]
  },
  {
   "cell_type": "markdown",
   "metadata": {},
   "source": [
    "#### Vendor"
   ]
  },
  {
   "cell_type": "markdown",
   "metadata": {},
   "source": [
    "First we check all the categories of Vendor."
   ]
  },
  {
   "cell_type": "code",
   "execution_count": 456,
   "metadata": {},
   "outputs": [
    {
     "name": "stdout",
     "output_type": "stream",
     "text": [
      "There are 4 categories of Vendor.\n",
      "All the categories are ['4', '1', '2', '3']\n"
     ]
    },
    {
     "data": {
      "text/plain": [
       "<BarContainer object of 4 artists>"
      ]
     },
     "execution_count": 456,
     "metadata": {},
     "output_type": "execute_result"
    },
    {
     "data": {
      "image/png": "[encoded data removed]",
      "text/plain": [
       "<Figure size 864x432 with 1 Axes>"
      ]
     },
     "metadata": {
      "needs_background": "light"
     },
     "output_type": "display_data"
    }
   ],
   "source": [
    "df['Vendor'] = df['Vendor'].apply(lambda x: str(x))\n",
    "vendor = list(set(df['Vendor'].to_list()))\n",
    "print(f'There are {len(vendor)} categories of Vendor.')\n",
    "print(f'All the categories are {vendor}')\n",
    "df_group = df.groupby('Vendor').agg({'id': 'count'})\n",
    "df_group.columns = ['count']\n",
    "df_group = df_group.sort_values(by=['count'], ascending=False)\n",
    "df_group.index = [str(i) for i in df_group.index]\n",
    "plt.figure(figsize=(12,6))\n",
    "plt.bar(df_group.index, df_group['count'], alpha=0.8)"
   ]
  },
  {
   "cell_type": "markdown",
   "metadata": {},
   "source": [
    "Then we check the statistics of each different category."
   ]
  },
  {
   "cell_type": "code",
   "execution_count": 457,
   "metadata": {},
   "outputs": [
    {
     "data": {
      "text/html": [
       "<div>\n",
       "<style scoped>\n",
       "    .dataframe tbody tr th:only-of-type {\n",
       "        vertical-align: middle;\n",
       "    }\n",
       "\n",
       "    .dataframe tbody tr th {\n",
       "        vertical-align: top;\n",
       "    }\n",
       "\n",
       "    .dataframe thead th {\n",
       "        text-align: right;\n",
       "    }\n",
       "</style>\n",
       "<table border=\"1\" class=\"dataframe\">\n",
       "  <thead>\n",
       "    <tr style=\"text-align: right;\">\n",
       "      <th></th>\n",
       "      <th>count</th>\n",
       "      <th>MaxProfit</th>\n",
       "      <th>MinProfit</th>\n",
       "      <th>AvgProfit</th>\n",
       "      <th>StdProfit</th>\n",
       "      <th>MaxRetail</th>\n",
       "      <th>MinRetail</th>\n",
       "      <th>AvgRetail</th>\n",
       "      <th>StdRetail</th>\n",
       "      <th>MaxPrice</th>\n",
       "      <th>MinPrice</th>\n",
       "      <th>AvgPrice</th>\n",
       "      <th>StdPrice</th>\n",
       "    </tr>\n",
       "    <tr>\n",
       "      <th>Vendor</th>\n",
       "      <th></th>\n",
       "      <th></th>\n",
       "      <th></th>\n",
       "      <th></th>\n",
       "      <th></th>\n",
       "      <th></th>\n",
       "      <th></th>\n",
       "      <th></th>\n",
       "      <th></th>\n",
       "      <th></th>\n",
       "      <th></th>\n",
       "      <th></th>\n",
       "      <th></th>\n",
       "    </tr>\n",
       "  </thead>\n",
       "  <tbody>\n",
       "    <tr>\n",
       "      <th>1</th>\n",
       "      <td>2702</td>\n",
       "      <td>7695</td>\n",
       "      <td>-5800</td>\n",
       "      <td>1240.529238</td>\n",
       "      <td>1335.389502</td>\n",
       "      <td>15805</td>\n",
       "      <td>45</td>\n",
       "      <td>3604.009993</td>\n",
       "      <td>2792.686575</td>\n",
       "      <td>9480</td>\n",
       "      <td>395</td>\n",
       "      <td>2363.480755</td>\n",
       "      <td>1694.092359</td>\n",
       "    </tr>\n",
       "    <tr>\n",
       "      <th>2</th>\n",
       "      <td>3241</td>\n",
       "      <td>587405</td>\n",
       "      <td>-673680</td>\n",
       "      <td>12001.488738</td>\n",
       "      <td>30894.499324</td>\n",
       "      <td>1675190</td>\n",
       "      <td>370</td>\n",
       "      <td>39124.959889</td>\n",
       "      <td>76957.682430</td>\n",
       "      <td>1087785</td>\n",
       "      <td>600</td>\n",
       "      <td>27123.471151</td>\n",
       "      <td>53241.546237</td>\n",
       "    </tr>\n",
       "    <tr>\n",
       "      <th>3</th>\n",
       "      <td>1106</td>\n",
       "      <td>18600</td>\n",
       "      <td>-23545</td>\n",
       "      <td>5014.303797</td>\n",
       "      <td>4409.811158</td>\n",
       "      <td>46310</td>\n",
       "      <td>340</td>\n",
       "      <td>15292.400542</td>\n",
       "      <td>8123.491228</td>\n",
       "      <td>28360</td>\n",
       "      <td>2560</td>\n",
       "      <td>10278.096745</td>\n",
       "      <td>5173.388049</td>\n",
       "    </tr>\n",
       "    <tr>\n",
       "      <th>4</th>\n",
       "      <td>1001</td>\n",
       "      <td>22935</td>\n",
       "      <td>-39960</td>\n",
       "      <td>3832.452547</td>\n",
       "      <td>4929.034257</td>\n",
       "      <td>54730</td>\n",
       "      <td>720</td>\n",
       "      <td>19557.997003</td>\n",
       "      <td>10743.500722</td>\n",
       "      <td>44890</td>\n",
       "      <td>3775</td>\n",
       "      <td>15725.544456</td>\n",
       "      <td>8416.191382</td>\n",
       "    </tr>\n",
       "  </tbody>\n",
       "</table>\n",
       "</div>"
      ],
      "text/plain": [
       "        count  MaxProfit  MinProfit     AvgProfit     StdProfit  MaxRetail  MinRetail     AvgRetail     StdRetail  MaxPrice  MinPrice      AvgPrice      StdPrice\n",
       "Vendor                                                                                                                                                           \n",
       "1        2702       7695      -5800   1240.529238   1335.389502      15805         45   3604.009993   2792.686575      9480       395   2363.480755   1694.092359\n",
       "2        3241     587405    -673680  12001.488738  30894.499324    1675190        370  39124.959889  76957.682430   1087785       600  27123.471151  53241.546237\n",
       "3        1106      18600     -23545   5014.303797   4409.811158      46310        340  15292.400542   8123.491228     28360      2560  10278.096745   5173.388049\n",
       "4        1001      22935     -39960   3832.452547   4929.034257      54730        720  19557.997003  10743.500722     44890      3775  15725.544456   8416.191382"
      ]
     },
     "execution_count": 457,
     "metadata": {},
     "output_type": "execute_result"
    }
   ],
   "source": [
    "df_group = df.groupby('Vendor').agg({\n",
    "    'id': 'count',\n",
    "    'Profit': ['max', 'min', 'mean', 'std'],\n",
    "    'Retail': ['max', 'min', 'mean', 'std'],\n",
    "    'Price': ['max', 'min', 'mean', 'std']\n",
    "})\n",
    "df_group.columns = ['count', 'MaxProfit', 'MinProfit', 'AvgProfit', 'StdProfit', 'MaxRetail', 'MinRetail', 'AvgRetail', 'StdRetail', 'MaxPrice', 'MinPrice', 'AvgPrice', 'StdPrice']\n",
    "df_group"
   ]
  },
  {
   "cell_type": "markdown",
   "metadata": {},
   "source": [
    "Here we can see that Vendor 2 has the highest average profit as well as the standard deviation, which means he/she targets as high-price deals with high profit and high risk, while the deals quanitity are also very large.\n",
    "\n",
    "The profit situation is rather stable for the other three vendors, especially for Vendor 3.\n",
    "\n",
    "Vendor 1 has the lowest average profit, which means he/she targets at small deals with big volume."
   ]
  },
  {
   "cell_type": "code",
   "execution_count": 458,
   "metadata": {},
   "outputs": [
    {
     "data": {
      "text/html": [
       "<div>\n",
       "<style scoped>\n",
       "    .dataframe tbody tr th:only-of-type {\n",
       "        vertical-align: middle;\n",
       "    }\n",
       "\n",
       "    .dataframe tbody tr th {\n",
       "        vertical-align: top;\n",
       "    }\n",
       "\n",
       "    .dataframe thead th {\n",
       "        text-align: right;\n",
       "    }\n",
       "</style>\n",
       "<table border=\"1\" class=\"dataframe\">\n",
       "  <thead>\n",
       "    <tr style=\"text-align: right;\">\n",
       "      <th></th>\n",
       "      <th>count</th>\n",
       "    </tr>\n",
       "    <tr>\n",
       "      <th>Vendor</th>\n",
       "      <th></th>\n",
       "    </tr>\n",
       "  </thead>\n",
       "  <tbody>\n",
       "    <tr>\n",
       "      <th>1</th>\n",
       "      <td>911</td>\n",
       "    </tr>\n",
       "    <tr>\n",
       "      <th>2</th>\n",
       "      <td>1072</td>\n",
       "    </tr>\n",
       "    <tr>\n",
       "      <th>3</th>\n",
       "      <td>368</td>\n",
       "    </tr>\n",
       "    <tr>\n",
       "      <th>4</th>\n",
       "      <td>332</td>\n",
       "    </tr>\n",
       "  </tbody>\n",
       "</table>\n",
       "</div>"
      ],
      "text/plain": [
       "        count\n",
       "Vendor       \n",
       "1         911\n",
       "2        1072\n",
       "3         368\n",
       "4         332"
      ]
     },
     "execution_count": 458,
     "metadata": {},
     "output_type": "execute_result"
    }
   ],
   "source": [
    "df_new_group = df_new.groupby('Vendor').agg({\n",
    "    'id': 'count',\n",
    "})\n",
    "df_new_group.columns = ['count']\n",
    "df_new_group"
   ]
  },
  {
   "cell_type": "markdown",
   "metadata": {},
   "source": [
    "### Process Categorical Variables"
   ]
  },
  {
   "cell_type": "markdown",
   "metadata": {},
   "source": [
    "Here we use the get_dummies() function to generate dummy variables for the categorical variables."
   ]
  },
  {
   "cell_type": "code",
   "execution_count": 459,
   "metadata": {},
   "outputs": [
    {
     "name": "stdout",
     "output_type": "stream",
     "text": [
      "All the variables are: id, Carats, Depth, Known_Conflict_Diamond, Table, Price, Retail, LogPrice, LogRetail, Profit, Long, Wide, Deep, Cert_AGSL, Cert_GemEx, Cert_Unknown, Clarity_FL, Clarity_I1, Clarity_I2, Clarity_I3, Clarity_IF, Clarity_N, Clarity_None, Clarity_SI1, Clarity_SI2, Clarity_VS1, Clarity_VS2, Clarity_VVS1, Clarity_VVS2, Color_D, Color_E, Color_F, Color_Fdpink, Color_Fdy, Color_Ffcdbrown, Color_Ffcg, Color_Ffcly, Color_Ffcy, Color_Ffg, Color_Fiy, Color_Fiyellow, Color_Fly, Color_Flyellow, Color_Fvyellow, Color_Fyellow, Color_G, Color_Gy, Color_H, Color_I, Color_J, Color_K, Color_L, Color_Lb, Color_M, Color_N, Color_O-p, Color_P, Color_Q-r, Color_S, Color_U, Color_W, Cut_Excellent, Cut_Fair, Cut_Good, Cut_Ideal, Cut_Missing, Cut_Very good, Polish_Excellent, Polish_Good, Polish_Missing, Polish_Very good, Regions_Angola, Regions_Australia, Regions_Botswana, Regions_Canada, Regions_DR Congo, Regions_Other/Unknown, Regions_Russia, Regions_South Africa, Regions_Zimbabwe, Shape_Asscher, Shape_Cushion, Shape_Emerald, Shape_Marquis, Shape_Marquise, Shape_Oval, Shape_Pear, Shape_Princess, Shape_ROUND, Shape_Radiant, Shape_Round, Shape_Uncut, Symmetry_Excellent, Symmetry_Faint, Symmetry_Fair, Symmetry_Good, Symmetry_Missing, Symmetry_Very good, Vendor_1, Vendor_2, Vendor_3, Vendor_4, \n",
      "There are 101 variables altogether. (Without id)\n"
     ]
    }
   ],
   "source": [
    "df_temp = df.copy()\n",
    "try:\n",
    "    del df_temp['Measurements_List']\n",
    "except:\n",
    "    pass\n",
    "try:\n",
    "    del df_temp['Measurements']\n",
    "except:\n",
    "    pass\n",
    "try:\n",
    "    del df_temp['Measurements_Number']\n",
    "except:\n",
    "    pass\n",
    "df_dummies = pd.get_dummies(df_temp)\n",
    "print('All the variables are', end=': ')\n",
    "for column in df_dummies.columns:\n",
    "    print(column, end=', ')\n",
    "print(f'\\nThere are {len(df_dummies.columns) - 1} variables altogether. (Without id)')"
   ]
  },
  {
   "cell_type": "code",
   "execution_count": 460,
   "metadata": {},
   "outputs": [
    {
     "name": "stdout",
     "output_type": "stream",
     "text": [
      "All the variables are: id, Carats, Depth, Known_Conflict_Diamond, Table, Vendor, Long, Wide, Deep, Cert_AGSL, Cert_GemEx, Cert_Unknown, Clarity_I1, Clarity_I2, Clarity_I3, Clarity_IF, Clarity_SI1, Clarity_SI2, Clarity_VS1, Clarity_VS2, Clarity_VVS1, Clarity_VVS2, Color_D, Color_E, Color_F, Color_Ffancy darkbrown, Color_Flby, Color_G, Color_H, Color_I, Color_J, Color_K, Color_L, Color_M, Color_N, Color_S-t, Color_T, Cut_Excellent, Cut_Fair, Cut_Good, Cut_Ideal, Cut_Missing, Cut_Very good, Polish_Excellent, Polish_Good, Polish_Missing, Polish_Very good, Regions_Angola, Regions_Australia, Regions_Botswana, Regions_Canada, Regions_DR Congo, Regions_Other/Unknown, Regions_Russia, Regions_South Africa, Regions_Zimbabwe, Shape_Asscher, Shape_Cushion, Shape_Emerald, Shape_Marquis, Shape_Marquise, Shape_Oval, Shape_Oval , Shape_Pear, Shape_Princess, Shape_ROUND, Shape_Radiant, Shape_Round, Shape_Uncut, Symmetry_Excellent, Symmetry_Faint, Symmetry_Fair, Symmetry_Good, Symmetry_Missing, Symmetry_Very good, \n",
      "There are 74 variables altogether. (Without id)\n"
     ]
    }
   ],
   "source": [
    "df_temp = df_new.copy()\n",
    "try:\n",
    "    del df_temp['Measurements_List']\n",
    "except:\n",
    "    pass\n",
    "try:\n",
    "    del df_temp['Measurements']\n",
    "except:\n",
    "    pass\n",
    "try:\n",
    "    del df_temp['Measurements_Number']\n",
    "except:\n",
    "    pass\n",
    "df_new_dummies = pd.get_dummies(df_temp)\n",
    "print('All the variables are', end=': ')\n",
    "for column in df_new_dummies.columns:\n",
    "    print(column, end=', ')\n",
    "print(f'\\nThere are {len(df_new_dummies.columns) - 1} variables altogether. (Without id)')"
   ]
  },
  {
   "cell_type": "markdown",
   "metadata": {},
   "source": [
    "Notice that the training and testing datasets have different numbers of variables, even without considering all the monetary ones.\n",
    "\n",
    "So we need to adjust the testing dataset to the training dataset."
   ]
  },
  {
   "cell_type": "code",
   "execution_count": 461,
   "metadata": {},
   "outputs": [
    {
     "name": "stdout",
     "output_type": "stream",
     "text": [
      "Shape of the training dataset: (8050, 102)\n",
      "Shape of the testing dataset: (2683, 102)\n"
     ]
    }
   ],
   "source": [
    "df_new_dummies = df_new_dummies.reindex(columns=df_dummies.columns, fill_value=0)\n",
    "print(f'Shape of the training dataset: {df_dummies.shape}')\n",
    "print(f'Shape of the testing dataset: {df_new_dummies.shape}')"
   ]
  },
  {
   "cell_type": "markdown",
   "metadata": {},
   "source": [
    "### Standardization"
   ]
  },
  {
   "cell_type": "markdown",
   "metadata": {},
   "source": [
    "First we renew the continuous variables here."
   ]
  },
  {
   "cell_type": "code",
   "execution_count": 462,
   "metadata": {},
   "outputs": [
    {
     "name": "stdout",
     "output_type": "stream",
     "text": [
      "The continuous variables are ['Carats', 'Depth', 'Table', 'Long', 'Wide', 'Deep'].\n",
      "The number of continuous variables is 6.\n"
     ]
    }
   ],
   "source": [
    "continuous_vars = df.select_dtypes(include=[np.number]).columns.to_list()\n",
    "exclude = ['id', 'Vendor', 'Price', 'Retail', 'LogPrice', 'LogRetail', 'Profit']\n",
    "for var in exclude:\n",
    "    try:\n",
    "        continuous_vars.remove(var)\n",
    "    except:\n",
    "        pass\n",
    "try:\n",
    "    continuous_vars.remove('Measurements_Number')\n",
    "except:\n",
    "    pass\n",
    "print(f'The continuous variables are {continuous_vars}.')\n",
    "print(f'The number of continuous variables is {len(continuous_vars)}.')"
   ]
  },
  {
   "cell_type": "markdown",
   "metadata": {},
   "source": [
    "Then we use the scaler to standardize data."
   ]
  },
  {
   "cell_type": "code",
   "execution_count": 463,
   "metadata": {},
   "outputs": [
    {
     "data": {
      "text/html": [
       "<div>\n",
       "<style scoped>\n",
       "    .dataframe tbody tr th:only-of-type {\n",
       "        vertical-align: middle;\n",
       "    }\n",
       "\n",
       "    .dataframe tbody tr th {\n",
       "        vertical-align: top;\n",
       "    }\n",
       "\n",
       "    .dataframe thead th {\n",
       "        text-align: right;\n",
       "    }\n",
       "</style>\n",
       "<table border=\"1\" class=\"dataframe\">\n",
       "  <thead>\n",
       "    <tr style=\"text-align: right;\">\n",
       "      <th></th>\n",
       "      <th>Carats</th>\n",
       "      <th>Depth</th>\n",
       "      <th>Table</th>\n",
       "      <th>Long</th>\n",
       "      <th>Wide</th>\n",
       "      <th>Deep</th>\n",
       "    </tr>\n",
       "  </thead>\n",
       "  <tbody>\n",
       "    <tr>\n",
       "      <th>0</th>\n",
       "      <td>-0.956724</td>\n",
       "      <td>2.803381</td>\n",
       "      <td>-1.188409</td>\n",
       "      <td>-1.479575</td>\n",
       "      <td>-1.497445</td>\n",
       "      <td>-1.305272</td>\n",
       "    </tr>\n",
       "    <tr>\n",
       "      <th>1</th>\n",
       "      <td>-0.945545</td>\n",
       "      <td>-0.066969</td>\n",
       "      <td>-0.129014</td>\n",
       "      <td>-1.331469</td>\n",
       "      <td>-1.372832</td>\n",
       "      <td>-1.365727</td>\n",
       "    </tr>\n",
       "    <tr>\n",
       "      <th>2</th>\n",
       "      <td>-0.967903</td>\n",
       "      <td>1.717302</td>\n",
       "      <td>-0.599856</td>\n",
       "      <td>-1.472170</td>\n",
       "      <td>-1.490115</td>\n",
       "      <td>-1.377818</td>\n",
       "    </tr>\n",
       "    <tr>\n",
       "      <th>3</th>\n",
       "      <td>-0.956724</td>\n",
       "      <td>0.708801</td>\n",
       "      <td>-0.011303</td>\n",
       "      <td>-1.435143</td>\n",
       "      <td>-1.446134</td>\n",
       "      <td>-1.402000</td>\n",
       "    </tr>\n",
       "    <tr>\n",
       "      <th>4</th>\n",
       "      <td>-0.967903</td>\n",
       "      <td>0.941532</td>\n",
       "      <td>-0.011303</td>\n",
       "      <td>-1.435143</td>\n",
       "      <td>-1.453464</td>\n",
       "      <td>-1.389909</td>\n",
       "    </tr>\n",
       "  </tbody>\n",
       "</table>\n",
       "</div>"
      ],
      "text/plain": [
       "     Carats     Depth     Table      Long      Wide      Deep\n",
       "0 -0.956724  2.803381 -1.188409 -1.479575 -1.497445 -1.305272\n",
       "1 -0.945545 -0.066969 -0.129014 -1.331469 -1.372832 -1.365727\n",
       "2 -0.967903  1.717302 -0.599856 -1.472170 -1.490115 -1.377818\n",
       "3 -0.956724  0.708801 -0.011303 -1.435143 -1.446134 -1.402000\n",
       "4 -0.967903  0.941532 -0.011303 -1.435143 -1.453464 -1.389909"
      ]
     },
     "execution_count": 463,
     "metadata": {},
     "output_type": "execute_result"
    }
   ],
   "source": [
    "scaler = StandardScaler()\n",
    "df_scaled = scaler.fit_transform(df[continuous_vars])\n",
    "df_scaled = pd.DataFrame(df_scaled, columns=continuous_vars, index=df.index)\n",
    "df_scaled.head(5)"
   ]
  },
  {
   "cell_type": "markdown",
   "metadata": {},
   "source": [
    "Here we use the training dataset to fit the scaler, and to standardize the testing dataset."
   ]
  },
  {
   "cell_type": "code",
   "execution_count": 464,
   "metadata": {},
   "outputs": [
    {
     "data": {
      "text/html": [
       "<div>\n",
       "<style scoped>\n",
       "    .dataframe tbody tr th:only-of-type {\n",
       "        vertical-align: middle;\n",
       "    }\n",
       "\n",
       "    .dataframe tbody tr th {\n",
       "        vertical-align: top;\n",
       "    }\n",
       "\n",
       "    .dataframe thead th {\n",
       "        text-align: right;\n",
       "    }\n",
       "</style>\n",
       "<table border=\"1\" class=\"dataframe\">\n",
       "  <thead>\n",
       "    <tr style=\"text-align: right;\">\n",
       "      <th></th>\n",
       "      <th>Carats</th>\n",
       "      <th>Depth</th>\n",
       "      <th>Table</th>\n",
       "      <th>Long</th>\n",
       "      <th>Wide</th>\n",
       "      <th>Deep</th>\n",
       "    </tr>\n",
       "  </thead>\n",
       "  <tbody>\n",
       "    <tr>\n",
       "      <th>0</th>\n",
       "      <td>-0.945545</td>\n",
       "      <td>0.708801</td>\n",
       "      <td>-0.599856</td>\n",
       "      <td>-1.361090</td>\n",
       "      <td>-1.380162</td>\n",
       "      <td>-1.329454</td>\n",
       "    </tr>\n",
       "    <tr>\n",
       "      <th>1</th>\n",
       "      <td>-0.967903</td>\n",
       "      <td>1.562148</td>\n",
       "      <td>0.577250</td>\n",
       "      <td>-1.486980</td>\n",
       "      <td>-1.504775</td>\n",
       "      <td>-1.402000</td>\n",
       "    </tr>\n",
       "    <tr>\n",
       "      <th>2</th>\n",
       "      <td>-0.956724</td>\n",
       "      <td>0.320916</td>\n",
       "      <td>-0.011303</td>\n",
       "      <td>-1.398117</td>\n",
       "      <td>-1.409483</td>\n",
       "      <td>-1.402000</td>\n",
       "    </tr>\n",
       "    <tr>\n",
       "      <th>3</th>\n",
       "      <td>-0.967903</td>\n",
       "      <td>1.872456</td>\n",
       "      <td>-0.011303</td>\n",
       "      <td>-1.494385</td>\n",
       "      <td>-1.519436</td>\n",
       "      <td>-1.389909</td>\n",
       "    </tr>\n",
       "    <tr>\n",
       "      <th>4</th>\n",
       "      <td>-0.967903</td>\n",
       "      <td>1.950033</td>\n",
       "      <td>0.459539</td>\n",
       "      <td>-1.464764</td>\n",
       "      <td>-1.497445</td>\n",
       "      <td>-1.353636</td>\n",
       "    </tr>\n",
       "  </tbody>\n",
       "</table>\n",
       "</div>"
      ],
      "text/plain": [
       "     Carats     Depth     Table      Long      Wide      Deep\n",
       "0 -0.945545  0.708801 -0.599856 -1.361090 -1.380162 -1.329454\n",
       "1 -0.967903  1.562148  0.577250 -1.486980 -1.504775 -1.402000\n",
       "2 -0.956724  0.320916 -0.011303 -1.398117 -1.409483 -1.402000\n",
       "3 -0.967903  1.872456 -0.011303 -1.494385 -1.519436 -1.389909\n",
       "4 -0.967903  1.950033  0.459539 -1.464764 -1.497445 -1.353636"
      ]
     },
     "execution_count": 464,
     "metadata": {},
     "output_type": "execute_result"
    }
   ],
   "source": [
    "df_new_scaled = scaler.transform(df_new[continuous_vars])\n",
    "df_new_scaled = pd.DataFrame(df_new_scaled, columns=continuous_vars, index=df_new.index)\n",
    "df_new_scaled.head(5)"
   ]
  },
  {
   "cell_type": "markdown",
   "metadata": {},
   "source": [
    "Finally we need to merge the standardized continous data with the categorical variables together."
   ]
  },
  {
   "cell_type": "code",
   "execution_count": 465,
   "metadata": {},
   "outputs": [
    {
     "data": {
      "text/html": [
       "<div>\n",
       "<style scoped>\n",
       "    .dataframe tbody tr th:only-of-type {\n",
       "        vertical-align: middle;\n",
       "    }\n",
       "\n",
       "    .dataframe tbody tr th {\n",
       "        vertical-align: top;\n",
       "    }\n",
       "\n",
       "    .dataframe thead th {\n",
       "        text-align: right;\n",
       "    }\n",
       "</style>\n",
       "<table border=\"1\" class=\"dataframe\">\n",
       "  <thead>\n",
       "    <tr style=\"text-align: right;\">\n",
       "      <th></th>\n",
       "      <th>id</th>\n",
       "      <th>Carats</th>\n",
       "      <th>Depth</th>\n",
       "      <th>Known_Conflict_Diamond</th>\n",
       "      <th>Table</th>\n",
       "      <th>Price</th>\n",
       "      <th>Retail</th>\n",
       "      <th>LogPrice</th>\n",
       "      <th>LogRetail</th>\n",
       "      <th>Profit</th>\n",
       "      <th>...</th>\n",
       "      <th>Symmetry_Excellent</th>\n",
       "      <th>Symmetry_Faint</th>\n",
       "      <th>Symmetry_Fair</th>\n",
       "      <th>Symmetry_Good</th>\n",
       "      <th>Symmetry_Missing</th>\n",
       "      <th>Symmetry_Very good</th>\n",
       "      <th>Vendor_1</th>\n",
       "      <th>Vendor_2</th>\n",
       "      <th>Vendor_3</th>\n",
       "      <th>Vendor_4</th>\n",
       "    </tr>\n",
       "  </thead>\n",
       "  <tbody>\n",
       "    <tr>\n",
       "      <th>0</th>\n",
       "      <td>1</td>\n",
       "      <td>-0.956724</td>\n",
       "      <td>2.803381</td>\n",
       "      <td>False</td>\n",
       "      <td>-1.188409</td>\n",
       "      <td>430</td>\n",
       "      <td>850</td>\n",
       "      <td>6.063785</td>\n",
       "      <td>6.745236</td>\n",
       "      <td>420</td>\n",
       "      <td>...</td>\n",
       "      <td>0</td>\n",
       "      <td>0</td>\n",
       "      <td>0</td>\n",
       "      <td>1</td>\n",
       "      <td>0</td>\n",
       "      <td>0</td>\n",
       "      <td>1</td>\n",
       "      <td>0</td>\n",
       "      <td>0</td>\n",
       "      <td>0</td>\n",
       "    </tr>\n",
       "    <tr>\n",
       "      <th>1</th>\n",
       "      <td>2</td>\n",
       "      <td>-0.945545</td>\n",
       "      <td>-0.066969</td>\n",
       "      <td>False</td>\n",
       "      <td>-0.129014</td>\n",
       "      <td>560</td>\n",
       "      <td>920</td>\n",
       "      <td>6.327937</td>\n",
       "      <td>6.824374</td>\n",
       "      <td>360</td>\n",
       "      <td>...</td>\n",
       "      <td>0</td>\n",
       "      <td>0</td>\n",
       "      <td>0</td>\n",
       "      <td>0</td>\n",
       "      <td>0</td>\n",
       "      <td>1</td>\n",
       "      <td>1</td>\n",
       "      <td>0</td>\n",
       "      <td>0</td>\n",
       "      <td>0</td>\n",
       "    </tr>\n",
       "    <tr>\n",
       "      <th>2</th>\n",
       "      <td>3</td>\n",
       "      <td>-0.967903</td>\n",
       "      <td>1.717302</td>\n",
       "      <td>False</td>\n",
       "      <td>-0.599856</td>\n",
       "      <td>560</td>\n",
       "      <td>575</td>\n",
       "      <td>6.327937</td>\n",
       "      <td>6.354370</td>\n",
       "      <td>15</td>\n",
       "      <td>...</td>\n",
       "      <td>1</td>\n",
       "      <td>0</td>\n",
       "      <td>0</td>\n",
       "      <td>0</td>\n",
       "      <td>0</td>\n",
       "      <td>0</td>\n",
       "      <td>1</td>\n",
       "      <td>0</td>\n",
       "      <td>0</td>\n",
       "      <td>0</td>\n",
       "    </tr>\n",
       "    <tr>\n",
       "      <th>3</th>\n",
       "      <td>4</td>\n",
       "      <td>-0.956724</td>\n",
       "      <td>0.708801</td>\n",
       "      <td>False</td>\n",
       "      <td>-0.011303</td>\n",
       "      <td>560</td>\n",
       "      <td>825</td>\n",
       "      <td>6.327937</td>\n",
       "      <td>6.715383</td>\n",
       "      <td>265</td>\n",
       "      <td>...</td>\n",
       "      <td>0</td>\n",
       "      <td>0</td>\n",
       "      <td>0</td>\n",
       "      <td>0</td>\n",
       "      <td>0</td>\n",
       "      <td>1</td>\n",
       "      <td>1</td>\n",
       "      <td>0</td>\n",
       "      <td>0</td>\n",
       "      <td>0</td>\n",
       "    </tr>\n",
       "    <tr>\n",
       "      <th>4</th>\n",
       "      <td>5</td>\n",
       "      <td>-0.967903</td>\n",
       "      <td>0.941532</td>\n",
       "      <td>False</td>\n",
       "      <td>-0.011303</td>\n",
       "      <td>580</td>\n",
       "      <td>890</td>\n",
       "      <td>6.363028</td>\n",
       "      <td>6.791221</td>\n",
       "      <td>310</td>\n",
       "      <td>...</td>\n",
       "      <td>0</td>\n",
       "      <td>0</td>\n",
       "      <td>0</td>\n",
       "      <td>0</td>\n",
       "      <td>0</td>\n",
       "      <td>1</td>\n",
       "      <td>1</td>\n",
       "      <td>0</td>\n",
       "      <td>0</td>\n",
       "      <td>0</td>\n",
       "    </tr>\n",
       "  </tbody>\n",
       "</table>\n",
       "<p>5 rows × 102 columns</p>\n",
       "</div>"
      ],
      "text/plain": [
       "   id    Carats     Depth  Known_Conflict_Diamond     Table  Price  Retail  LogPrice  LogRetail  Profit  ...  Symmetry_Excellent  Symmetry_Faint  Symmetry_Fair  Symmetry_Good  Symmetry_Missing  Symmetry_Very good  Vendor_1  Vendor_2  Vendor_3  Vendor_4\n",
       "0   1 -0.956724  2.803381                   False -1.188409    430     850  6.063785   6.745236     420  ...                   0               0              0              1                 0                   0         1         0         0         0\n",
       "1   2 -0.945545 -0.066969                   False -0.129014    560     920  6.327937   6.824374     360  ...                   0               0              0              0                 0                   1         1         0         0         0\n",
       "2   3 -0.967903  1.717302                   False -0.599856    560     575  6.327937   6.354370      15  ...                   1               0              0              0                 0                   0         1         0         0         0\n",
       "3   4 -0.956724  0.708801                   False -0.011303    560     825  6.327937   6.715383     265  ...                   0               0              0              0                 0                   1         1         0         0         0\n",
       "4   5 -0.967903  0.941532                   False -0.011303    580     890  6.363028   6.791221     310  ...                   0               0              0              0                 0                   1         1         0         0         0\n",
       "\n",
       "[5 rows x 102 columns]"
      ]
     },
     "execution_count": 465,
     "metadata": {},
     "output_type": "execute_result"
    }
   ],
   "source": [
    "df_final = df_dummies.copy()\n",
    "for var in continuous_vars:\n",
    "    df_final[var] = df_scaled[var]\n",
    "df_final.head(5)"
   ]
  },
  {
   "cell_type": "code",
   "execution_count": 466,
   "metadata": {},
   "outputs": [
    {
     "data": {
      "text/html": [
       "<div>\n",
       "<style scoped>\n",
       "    .dataframe tbody tr th:only-of-type {\n",
       "        vertical-align: middle;\n",
       "    }\n",
       "\n",
       "    .dataframe tbody tr th {\n",
       "        vertical-align: top;\n",
       "    }\n",
       "\n",
       "    .dataframe thead th {\n",
       "        text-align: right;\n",
       "    }\n",
       "</style>\n",
       "<table border=\"1\" class=\"dataframe\">\n",
       "  <thead>\n",
       "    <tr style=\"text-align: right;\">\n",
       "      <th></th>\n",
       "      <th>id</th>\n",
       "      <th>Carats</th>\n",
       "      <th>Depth</th>\n",
       "      <th>Known_Conflict_Diamond</th>\n",
       "      <th>Table</th>\n",
       "      <th>Price</th>\n",
       "      <th>Retail</th>\n",
       "      <th>LogPrice</th>\n",
       "      <th>LogRetail</th>\n",
       "      <th>Profit</th>\n",
       "      <th>...</th>\n",
       "      <th>Symmetry_Excellent</th>\n",
       "      <th>Symmetry_Faint</th>\n",
       "      <th>Symmetry_Fair</th>\n",
       "      <th>Symmetry_Good</th>\n",
       "      <th>Symmetry_Missing</th>\n",
       "      <th>Symmetry_Very good</th>\n",
       "      <th>Vendor_1</th>\n",
       "      <th>Vendor_2</th>\n",
       "      <th>Vendor_3</th>\n",
       "      <th>Vendor_4</th>\n",
       "    </tr>\n",
       "  </thead>\n",
       "  <tbody>\n",
       "    <tr>\n",
       "      <th>0</th>\n",
       "      <td>8051</td>\n",
       "      <td>-0.945545</td>\n",
       "      <td>0.708801</td>\n",
       "      <td>False</td>\n",
       "      <td>-0.599856</td>\n",
       "      <td>0</td>\n",
       "      <td>0</td>\n",
       "      <td>0</td>\n",
       "      <td>0</td>\n",
       "      <td>0</td>\n",
       "      <td>...</td>\n",
       "      <td>1</td>\n",
       "      <td>0</td>\n",
       "      <td>0</td>\n",
       "      <td>0</td>\n",
       "      <td>0</td>\n",
       "      <td>0</td>\n",
       "      <td>0</td>\n",
       "      <td>0</td>\n",
       "      <td>0</td>\n",
       "      <td>0</td>\n",
       "    </tr>\n",
       "    <tr>\n",
       "      <th>1</th>\n",
       "      <td>8052</td>\n",
       "      <td>-0.967903</td>\n",
       "      <td>1.562148</td>\n",
       "      <td>False</td>\n",
       "      <td>0.577250</td>\n",
       "      <td>0</td>\n",
       "      <td>0</td>\n",
       "      <td>0</td>\n",
       "      <td>0</td>\n",
       "      <td>0</td>\n",
       "      <td>...</td>\n",
       "      <td>1</td>\n",
       "      <td>0</td>\n",
       "      <td>0</td>\n",
       "      <td>0</td>\n",
       "      <td>0</td>\n",
       "      <td>0</td>\n",
       "      <td>0</td>\n",
       "      <td>0</td>\n",
       "      <td>0</td>\n",
       "      <td>0</td>\n",
       "    </tr>\n",
       "    <tr>\n",
       "      <th>2</th>\n",
       "      <td>8053</td>\n",
       "      <td>-0.956724</td>\n",
       "      <td>0.320916</td>\n",
       "      <td>True</td>\n",
       "      <td>-0.011303</td>\n",
       "      <td>0</td>\n",
       "      <td>0</td>\n",
       "      <td>0</td>\n",
       "      <td>0</td>\n",
       "      <td>0</td>\n",
       "      <td>...</td>\n",
       "      <td>0</td>\n",
       "      <td>0</td>\n",
       "      <td>0</td>\n",
       "      <td>0</td>\n",
       "      <td>0</td>\n",
       "      <td>1</td>\n",
       "      <td>0</td>\n",
       "      <td>0</td>\n",
       "      <td>0</td>\n",
       "      <td>0</td>\n",
       "    </tr>\n",
       "    <tr>\n",
       "      <th>3</th>\n",
       "      <td>8054</td>\n",
       "      <td>-0.967903</td>\n",
       "      <td>1.872456</td>\n",
       "      <td>False</td>\n",
       "      <td>-0.011303</td>\n",
       "      <td>0</td>\n",
       "      <td>0</td>\n",
       "      <td>0</td>\n",
       "      <td>0</td>\n",
       "      <td>0</td>\n",
       "      <td>...</td>\n",
       "      <td>0</td>\n",
       "      <td>0</td>\n",
       "      <td>0</td>\n",
       "      <td>0</td>\n",
       "      <td>0</td>\n",
       "      <td>1</td>\n",
       "      <td>0</td>\n",
       "      <td>0</td>\n",
       "      <td>0</td>\n",
       "      <td>0</td>\n",
       "    </tr>\n",
       "    <tr>\n",
       "      <th>4</th>\n",
       "      <td>8055</td>\n",
       "      <td>-0.967903</td>\n",
       "      <td>1.950033</td>\n",
       "      <td>False</td>\n",
       "      <td>0.459539</td>\n",
       "      <td>0</td>\n",
       "      <td>0</td>\n",
       "      <td>0</td>\n",
       "      <td>0</td>\n",
       "      <td>0</td>\n",
       "      <td>...</td>\n",
       "      <td>0</td>\n",
       "      <td>0</td>\n",
       "      <td>0</td>\n",
       "      <td>0</td>\n",
       "      <td>0</td>\n",
       "      <td>1</td>\n",
       "      <td>0</td>\n",
       "      <td>0</td>\n",
       "      <td>0</td>\n",
       "      <td>0</td>\n",
       "    </tr>\n",
       "  </tbody>\n",
       "</table>\n",
       "<p>5 rows × 102 columns</p>\n",
       "</div>"
      ],
      "text/plain": [
       "     id    Carats     Depth  Known_Conflict_Diamond     Table  Price  Retail  LogPrice  LogRetail  Profit  ...  Symmetry_Excellent  Symmetry_Faint  Symmetry_Fair  Symmetry_Good  Symmetry_Missing  Symmetry_Very good  Vendor_1  Vendor_2  Vendor_3  Vendor_4\n",
       "0  8051 -0.945545  0.708801                   False -0.599856      0       0         0          0       0  ...                   1               0              0              0                 0                   0         0         0         0         0\n",
       "1  8052 -0.967903  1.562148                   False  0.577250      0       0         0          0       0  ...                   1               0              0              0                 0                   0         0         0         0         0\n",
       "2  8053 -0.956724  0.320916                    True -0.011303      0       0         0          0       0  ...                   0               0              0              0                 0                   1         0         0         0         0\n",
       "3  8054 -0.967903  1.872456                   False -0.011303      0       0         0          0       0  ...                   0               0              0              0                 0                   1         0         0         0         0\n",
       "4  8055 -0.967903  1.950033                   False  0.459539      0       0         0          0       0  ...                   0               0              0              0                 0                   1         0         0         0         0\n",
       "\n",
       "[5 rows x 102 columns]"
      ]
     },
     "execution_count": 466,
     "metadata": {},
     "output_type": "execute_result"
    }
   ],
   "source": [
    "df_new_final = df_new_dummies.copy()\n",
    "for var in continuous_vars:\n",
    "    df_new_final[var] = df_new_scaled[var]\n",
    "df_new_final.head(5)"
   ]
  },
  {
   "cell_type": "markdown",
   "metadata": {},
   "source": [
    "### Multicolinearity Checking"
   ]
  },
  {
   "cell_type": "code",
   "execution_count": 467,
   "metadata": {},
   "outputs": [
    {
     "name": "stdout",
     "output_type": "stream",
     "text": [
      "\n",
      "Variance Inflation Factors:\n"
     ]
    },
    {
     "data": {
      "text/html": [
       "<div>\n",
       "<style scoped>\n",
       "    .dataframe tbody tr th:only-of-type {\n",
       "        vertical-align: middle;\n",
       "    }\n",
       "\n",
       "    .dataframe tbody tr th {\n",
       "        vertical-align: top;\n",
       "    }\n",
       "\n",
       "    .dataframe thead th {\n",
       "        text-align: right;\n",
       "    }\n",
       "</style>\n",
       "<table border=\"1\" class=\"dataframe\">\n",
       "  <thead>\n",
       "    <tr style=\"text-align: right;\">\n",
       "      <th></th>\n",
       "      <th>Variable</th>\n",
       "      <th>VIF</th>\n",
       "    </tr>\n",
       "  </thead>\n",
       "  <tbody>\n",
       "    <tr>\n",
       "      <th>0</th>\n",
       "      <td>Carats</td>\n",
       "      <td>10.386401</td>\n",
       "    </tr>\n",
       "    <tr>\n",
       "      <th>1</th>\n",
       "      <td>Depth</td>\n",
       "      <td>3.290395</td>\n",
       "    </tr>\n",
       "    <tr>\n",
       "      <th>2</th>\n",
       "      <td>Table</td>\n",
       "      <td>1.274150</td>\n",
       "    </tr>\n",
       "    <tr>\n",
       "      <th>3</th>\n",
       "      <td>Long</td>\n",
       "      <td>824.804071</td>\n",
       "    </tr>\n",
       "    <tr>\n",
       "      <th>4</th>\n",
       "      <td>Wide</td>\n",
       "      <td>741.863687</td>\n",
       "    </tr>\n",
       "    <tr>\n",
       "      <th>5</th>\n",
       "      <td>Deep</td>\n",
       "      <td>213.962034</td>\n",
       "    </tr>\n",
       "  </tbody>\n",
       "</table>\n",
       "</div>"
      ],
      "text/plain": [
       "  Variable         VIF\n",
       "0   Carats   10.386401\n",
       "1    Depth    3.290395\n",
       "2    Table    1.274150\n",
       "3     Long  824.804071\n",
       "4     Wide  741.863687\n",
       "5     Deep  213.962034"
      ]
     },
     "metadata": {},
     "output_type": "display_data"
    }
   ],
   "source": [
    "# Calculate correlation matrix\n",
    "correlation_matrix = df_final[continuous_vars].corr()\n",
    "\n",
    "# Calculate VIF for each variable\n",
    "vif_data = pd.DataFrame()\n",
    "vif_data[\"Variable\"] = continuous_vars\n",
    "vif_data[\"VIF\"] = [variance_inflation_factor(df_final[continuous_vars].values, i) for i in range(len(continuous_vars))]\n",
    "\n",
    "print(\"\\nVariance Inflation Factors:\")\n",
    "display(vif_data)"
   ]
  },
  {
   "cell_type": "code",
   "execution_count": 468,
   "metadata": {},
   "outputs": [
    {
     "name": "stdout",
     "output_type": "stream",
     "text": [
      "\n",
      "Iteration 0: Removed variable 'Long' with VIF 824.8040712471254\n"
     ]
    },
    {
     "data": {
      "text/html": [
       "<div>\n",
       "<style scoped>\n",
       "    .dataframe tbody tr th:only-of-type {\n",
       "        vertical-align: middle;\n",
       "    }\n",
       "\n",
       "    .dataframe tbody tr th {\n",
       "        vertical-align: top;\n",
       "    }\n",
       "\n",
       "    .dataframe thead th {\n",
       "        text-align: right;\n",
       "    }\n",
       "</style>\n",
       "<table border=\"1\" class=\"dataframe\">\n",
       "  <thead>\n",
       "    <tr style=\"text-align: right;\">\n",
       "      <th></th>\n",
       "      <th>Variable</th>\n",
       "      <th>VIF</th>\n",
       "    </tr>\n",
       "  </thead>\n",
       "  <tbody>\n",
       "    <tr>\n",
       "      <th>0</th>\n",
       "      <td>Carats</td>\n",
       "      <td>9.982518</td>\n",
       "    </tr>\n",
       "    <tr>\n",
       "      <th>1</th>\n",
       "      <td>Depth</td>\n",
       "      <td>3.064859</td>\n",
       "    </tr>\n",
       "    <tr>\n",
       "      <th>2</th>\n",
       "      <td>Table</td>\n",
       "      <td>1.274106</td>\n",
       "    </tr>\n",
       "    <tr>\n",
       "      <th>3</th>\n",
       "      <td>Wide</td>\n",
       "      <td>205.486503</td>\n",
       "    </tr>\n",
       "    <tr>\n",
       "      <th>4</th>\n",
       "      <td>Deep</td>\n",
       "      <td>190.018022</td>\n",
       "    </tr>\n",
       "  </tbody>\n",
       "</table>\n",
       "</div>"
      ],
      "text/plain": [
       "  Variable         VIF\n",
       "0   Carats    9.982518\n",
       "1    Depth    3.064859\n",
       "2    Table    1.274106\n",
       "3     Wide  205.486503\n",
       "4     Deep  190.018022"
      ]
     },
     "metadata": {},
     "output_type": "display_data"
    },
    {
     "name": "stdout",
     "output_type": "stream",
     "text": [
      "\n",
      "Iteration 1: Removed variable 'Wide' with VIF 205.48650271204357\n"
     ]
    },
    {
     "data": {
      "text/html": [
       "<div>\n",
       "<style scoped>\n",
       "    .dataframe tbody tr th:only-of-type {\n",
       "        vertical-align: middle;\n",
       "    }\n",
       "\n",
       "    .dataframe tbody tr th {\n",
       "        vertical-align: top;\n",
       "    }\n",
       "\n",
       "    .dataframe thead th {\n",
       "        text-align: right;\n",
       "    }\n",
       "</style>\n",
       "<table border=\"1\" class=\"dataframe\">\n",
       "  <thead>\n",
       "    <tr style=\"text-align: right;\">\n",
       "      <th></th>\n",
       "      <th>Variable</th>\n",
       "      <th>VIF</th>\n",
       "    </tr>\n",
       "  </thead>\n",
       "  <tbody>\n",
       "    <tr>\n",
       "      <th>0</th>\n",
       "      <td>Carats</td>\n",
       "      <td>9.443324</td>\n",
       "    </tr>\n",
       "    <tr>\n",
       "      <th>1</th>\n",
       "      <td>Depth</td>\n",
       "      <td>1.295332</td>\n",
       "    </tr>\n",
       "    <tr>\n",
       "      <th>2</th>\n",
       "      <td>Table</td>\n",
       "      <td>1.256349</td>\n",
       "    </tr>\n",
       "    <tr>\n",
       "      <th>3</th>\n",
       "      <td>Deep</td>\n",
       "      <td>9.336242</td>\n",
       "    </tr>\n",
       "  </tbody>\n",
       "</table>\n",
       "</div>"
      ],
      "text/plain": [
       "  Variable       VIF\n",
       "0   Carats  9.443324\n",
       "1    Depth  1.295332\n",
       "2    Table  1.256349\n",
       "3     Deep  9.336242"
      ]
     },
     "metadata": {},
     "output_type": "display_data"
    }
   ],
   "source": [
    "dict_removed_var = {}\n",
    "def cal_VIF(df, exclude_vars=[]):\n",
    "    numeric_df = df.select_dtypes(include=[np.float64])\n",
    "    include_vars = [var for var in continuous_vars if var not in exclude_vars]\n",
    "    vif_data = pd.DataFrame()\n",
    "    vif_data[\"Variable\"] = include_vars\n",
    "    vif_data[\"VIF\"] = [variance_inflation_factor(numeric_df[include_vars].values, i) for i in range(len(include_vars))]\n",
    "    return vif_data\n",
    "\n",
    "excluded_vars = []\n",
    "iteration = 0\n",
    "vif_data = cal_VIF(df_final, excluded_vars)\n",
    "\n",
    "while vif_data['VIF'].max() > 10:\n",
    "    max_vif_var = vif_data.sort_values('VIF', ascending=False).iloc[0]['Variable']\n",
    "    max_vif_value = vif_data.sort_values('VIF', ascending=False).iloc[0]['VIF']\n",
    "    print(f\"\\nIteration {iteration}: Removed variable '{max_vif_var}' with VIF {max_vif_value}\")\n",
    "    excluded_vars.append(max_vif_var)\n",
    "    vif_data = cal_VIF(df_final, excluded_vars)\n",
    "    dict_removed_var[max_vif_var] = vif_data\n",
    "    display(vif_data)\n",
    "    iteration += 1"
   ]
  },
  {
   "cell_type": "markdown",
   "metadata": {},
   "source": [
    "Then we should drop the excluded variables."
   ]
  },
  {
   "cell_type": "code",
   "execution_count": 469,
   "metadata": {},
   "outputs": [
    {
     "name": "stdout",
     "output_type": "stream",
     "text": [
      "Shape of the training dataset: (8050, 100)\n",
      "Shape of the testing dataset: (2683, 100)\n"
     ]
    }
   ],
   "source": [
    "try:\n",
    "    df_final = df_final.drop(columns=excluded_vars)\n",
    "except:\n",
    "    pass\n",
    "try:\n",
    "    df_new_final = df_new_final.drop(columns=excluded_vars)\n",
    "except:\n",
    "    pass\n",
    "print(f'Shape of the training dataset: {df_final.shape}')\n",
    "print(f'Shape of the testing dataset: {df_new_final.shape}')"
   ]
  },
  {
   "cell_type": "code",
   "execution_count": 470,
   "metadata": {},
   "outputs": [
    {
     "data": {
      "text/plain": [
       "Index(['id', 'Carats', 'Depth', 'Known_Conflict_Diamond', 'Table', 'Price', 'Retail', 'LogPrice', 'LogRetail', 'Profit', 'Deep', 'Cert_AGSL', 'Cert_GemEx', 'Cert_Unknown', 'Clarity_FL', 'Clarity_I1', 'Clarity_I2', 'Clarity_I3', 'Clarity_IF', 'Clarity_N', 'Clarity_None', 'Clarity_SI1', 'Clarity_SI2', 'Clarity_VS1', 'Clarity_VS2', 'Clarity_VVS1', 'Clarity_VVS2', 'Color_D', 'Color_E', 'Color_F', 'Color_Fdpink', 'Color_Fdy', 'Color_Ffcdbrown', 'Color_Ffcg', 'Color_Ffcly', 'Color_Ffcy', 'Color_Ffg', 'Color_Fiy', 'Color_Fiyellow', 'Color_Fly', 'Color_Flyellow', 'Color_Fvyellow', 'Color_Fyellow', 'Color_G', 'Color_Gy', 'Color_H', 'Color_I', 'Color_J', 'Color_K', 'Color_L', 'Color_Lb', 'Color_M', 'Color_N', 'Color_O-p', 'Color_P', 'Color_Q-r', 'Color_S', 'Color_U', 'Color_W', 'Cut_Excellent', 'Cut_Fair', 'Cut_Good', 'Cut_Ideal', 'Cut_Missing', 'Cut_Very good', 'Polish_Excellent', 'Polish_Good', 'Polish_Missing', 'Polish_Very good', 'Regions_Angola', 'Regions_Australia', 'Regions_Botswana',\n",
       "       'Regions_Canada', 'Regions_DR Congo', 'Regions_Other/Unknown', 'Regions_Russia', 'Regions_South Africa', 'Regions_Zimbabwe', 'Shape_Asscher', 'Shape_Cushion', 'Shape_Emerald', 'Shape_Marquis', 'Shape_Marquise', 'Shape_Oval', 'Shape_Pear', 'Shape_Princess', 'Shape_ROUND', 'Shape_Radiant', 'Shape_Round', 'Shape_Uncut', 'Symmetry_Excellent', 'Symmetry_Faint', 'Symmetry_Fair', 'Symmetry_Good', 'Symmetry_Missing', 'Symmetry_Very good', 'Vendor_1', 'Vendor_2', 'Vendor_3', 'Vendor_4'],\n",
       "      dtype='object')"
      ]
     },
     "execution_count": 470,
     "metadata": {},
     "output_type": "execute_result"
    }
   ],
   "source": [
    "df_final.columns"
   ]
  },
  {
   "cell_type": "markdown",
   "metadata": {},
   "source": [
    "## Model Prediction"
   ]
  },
  {
   "cell_type": "markdown",
   "metadata": {},
   "source": [
    "Here we consider three machine learning models.\n",
    "1. KNN Regressor\n",
    "2. Random Forest\n",
    "3. XGBoost"
   ]
  },
  {
   "cell_type": "markdown",
   "metadata": {},
   "source": [
    "### Model Evaluation"
   ]
  },
  {
   "cell_type": "code",
   "execution_count": 472,
   "metadata": {},
   "outputs": [],
   "source": [
    "def model_eval(model, x, y):\n",
    "    pred = model.predict(x)\n",
    "    r2 = r2_score(y, pred)\n",
    "    mae = mean_absolute_error(y, pred)\n",
    "    mse = mean_squared_error(y, pred)\n",
    "    return {'r2': r2, 'mae': mae, 'mse': mse}"
   ]
  },
  {
   "cell_type": "markdown",
   "metadata": {},
   "source": [
    "### Retail Prediction Model"
   ]
  },
  {
   "cell_type": "markdown",
   "metadata": {},
   "source": [
    "Here we use the logRetail for prediction."
   ]
  },
  {
   "cell_type": "markdown",
   "metadata": {},
   "source": [
    "#### Data Preparation"
   ]
  },
  {
   "cell_type": "markdown",
   "metadata": {},
   "source": [
    "First we generate the X(features) and Y(label) data for train and test."
   ]
  },
  {
   "cell_type": "code",
   "execution_count": 494,
   "metadata": {},
   "outputs": [
    {
     "name": "stdout",
     "output_type": "stream",
     "text": [
      "The shape of X_Train is (6440, 94).\n",
      "The shape of X_Test is (1610, 94).\n",
      "The shape of Y_Train is (6440,).\n",
      "The shape of Y_Test is (1610,).\n"
     ]
    }
   ],
   "source": [
    "x_log_retail = df_final.drop(columns=['id', 'Price', 'Retail', 'LogPrice', 'LogRetail', 'Profit'])\n",
    "y_log_retail = df_final['LogRetail']\n",
    "\n",
    "x_train_log_retail, x_test_log_retail, y_train_log_retail, y_test_log_retail = train_test_split(x_log_retail, y_log_retail, test_size=ratio, random_state=100)\n",
    "\n",
    "print(f'The shape of X_Train is {x_train_log_retail.shape}.')\n",
    "print(f'The shape of X_Test is {x_test_log_retail.shape}.')\n",
    "print(f'The shape of Y_Train is {y_train_log_retail.shape}.')\n",
    "print(f'The shape of Y_Test is {y_test_log_retail.shape}.')"
   ]
  },
  {
   "cell_type": "markdown",
   "metadata": {},
   "source": [
    "#### Run Models"
   ]
  },
  {
   "cell_type": "markdown",
   "metadata": {},
   "source": [
    "Here we fit each model separately, and then examine their result.\n",
    "\n",
    "Note here in the plots, 'Training Examples' mean the number of samples used for training. It reflects the impact of training sample size, and doesn't mean the training process."
   ]
  },
  {
   "cell_type": "code",
   "execution_count": 490,
   "metadata": {},
   "outputs": [
    {
     "name": "stdout",
     "output_type": "stream",
     "text": [
      "Currently Running Model KNN Regressor.\n",
      "Model KNN Regressor Finished!\n",
      "\n",
      "Currently Running Model Random Forest.\n",
      "Model Random Forest Finished!\n",
      "\n",
      "Currently Running Model XGBoost.\n",
      "Model XGBoost Finished!\n",
      "\n"
     ]
    },
    {
     "data": {
      "text/html": [
       "<div>\n",
       "<style scoped>\n",
       "    .dataframe tbody tr th:only-of-type {\n",
       "        vertical-align: middle;\n",
       "    }\n",
       "\n",
       "    .dataframe tbody tr th {\n",
       "        vertical-align: top;\n",
       "    }\n",
       "\n",
       "    .dataframe thead th {\n",
       "        text-align: right;\n",
       "    }\n",
       "</style>\n",
       "<table border=\"1\" class=\"dataframe\">\n",
       "  <thead>\n",
       "    <tr style=\"text-align: right;\">\n",
       "      <th></th>\n",
       "      <th>r2</th>\n",
       "      <th>mae</th>\n",
       "      <th>mse</th>\n",
       "    </tr>\n",
       "  </thead>\n",
       "  <tbody>\n",
       "    <tr>\n",
       "      <th>KNN Regressor</th>\n",
       "      <td>0.825332</td>\n",
       "      <td>0.365391</td>\n",
       "      <td>0.284272</td>\n",
       "    </tr>\n",
       "    <tr>\n",
       "      <th>Random Forest</th>\n",
       "      <td>0.973144</td>\n",
       "      <td>0.141679</td>\n",
       "      <td>0.043708</td>\n",
       "    </tr>\n",
       "    <tr>\n",
       "      <th>XGBoost</th>\n",
       "      <td>0.981000</td>\n",
       "      <td>0.122569</td>\n",
       "      <td>0.030922</td>\n",
       "    </tr>\n",
       "  </tbody>\n",
       "</table>\n",
       "</div>"
      ],
      "text/plain": [
       "                     r2       mae       mse\n",
       "KNN Regressor  0.825332  0.365391  0.284272\n",
       "Random Forest  0.973144  0.141679  0.043708\n",
       "XGBoost        0.981000  0.122569  0.030922"
      ]
     },
     "execution_count": 490,
     "metadata": {},
     "output_type": "execute_result"
    },
    {
     "data": {
      "image/png": "[encoded data removed]",
      "text/plain": [
       "<Figure size 432x288 with 1 Axes>"
      ]
     },
     "metadata": {
      "needs_background": "light"
     },
     "output_type": "display_data"
    },
    {
     "data": {
      "image/png": "[encoded data removed]",
      "text/plain": [
       "<Figure size 432x288 with 1 Axes>"
      ]
     },
     "metadata": {
      "needs_background": "light"
     },
     "output_type": "display_data"
    },
    {
     "data": {
      "image/png": "[encoded data removed]",
      "text/plain": [
       "<Figure size 432x288 with 1 Axes>"
      ]
     },
     "metadata": {
      "needs_background": "light"
     },
     "output_type": "display_data"
    }
   ],
   "source": [
    "models_retail = {\n",
    "    'KNN Regressor': KNeighborsRegressor(),\n",
    "    'Random Forest': RandomForestRegressor(),\n",
    "    'XGBoost': XGBRegressor()\n",
    "}\n",
    "result_log_retail = None\n",
    "result_log_retail_dicts = []\n",
    "for name, model in models_retail.items():\n",
    "    print(f'Currently Running Model {name}.')\n",
    "    model.fit(x_train_log_retail, y_train_log_retail)\n",
    "    result_log_retail_dicts.append(model_eval(model, x_test_log_retail, y_test_log_retail))\n",
    "    print(f'Model {name} Finished!\\n')\n",
    "    skplt.estimators.plot_learning_curve(model, x_train_log_retail, y_train_log_retail, cv=10, shuffle=True, scoring='r2', n_jobs=-1, title=f'Learning Curve for {name}')\n",
    "    models_retail[name] = model\n",
    "for result, name in zip(result_log_retail_dicts, models_retail.keys()):\n",
    "    result_log_retail = pd.concat([result_log_retail, pd.DataFrame(result, index=[name])], axis=0)\n",
    "result_log_retail"
   ]
  },
  {
   "cell_type": "markdown",
   "metadata": {},
   "source": [
    "From the above results, we can reach to some conclusions:\n",
    "1. Model Performance: XGBoost>Random Forest>>KNN Regressor, in terms of r2 score(accuracy) and error(mse/mae). It can also be reflected in the width of CI.\n",
    "2. Cross Validation: Here we take 10-fold Cross Validation for each model. The validation r2 score is approaching the training r2 score, which means there isn't much overfitting in the models. The CI of training is always narrower than that of validation, which is appropriate since the training result is more accurate.\n",
    "3. For the KNN Regressor, the CI of training is rather wide, because here the accuracy isn't high enough. For the Random Forest model and XGBoost model, they both can make highly accurate prediction, so the CI of training can be narrowed down.\n",
    "4. For the KNN Regressor and Random Forest, increasing the sample size can elevate training prediction accuracy, because the models aren't strong enough, so more data can help models better capture the relationship within the data. For the XGBoost model, increasing the sample size may slightly reduce training prediction accuracy, because the model is strong enough to achieve perfection for small-size data, but more data may bring some noise to the patterns it has already learned, thus interfering with the training prediction. For all the models, increasing the sample size can elevate validation prediction accuracy, because it can strengthen models' generalization ability."
   ]
  },
  {
   "cell_type": "markdown",
   "metadata": {},
   "source": [
    "#### Parameter Tuning"
   ]
  },
  {
   "cell_type": "markdown",
   "metadata": {},
   "source": [
    "Since XGBoost is the model with best performance, we want to further improve its accuracy by parameter tuning."
   ]
  },
  {
   "cell_type": "code",
   "execution_count": 492,
   "metadata": {},
   "outputs": [
    {
     "name": "stdout",
     "output_type": "stream",
     "text": [
      "Best hyperparameters for XGBoost Regressor (LogRetail): {'colsample_bytree': 0.8, 'max_depth': 5, 'min_child_weight': 1, 'n_estimators': 100, 'subsample': 1.0}\n",
      "Grid Search LogRetail Model Evaluation: {'r2': 0.9814051605232817, 'mae': 0.12195509867027832, 'mse': 0.030263117153746254}\n"
     ]
    }
   ],
   "source": [
    "param_grid = {\n",
    "    'max_depth': [5, 10, 15, 20, 25],\n",
    "    'min_child_weight': [1, 3, 5, 7],\n",
    "    'subsample': [0.6, 0.8, 1.0],\n",
    "    'colsample_bytree': [0.6, 0.8, 1.0],\n",
    "    'n_estimators': [100, 200, 300]\n",
    "}\n",
    "xgb_regressor_retail = XGBRegressor(random_state=42)\n",
    "grid_search_logretail = GridSearchCV(estimator=xgb_regressor_retail, param_grid=param_grid, cv=3, n_jobs=-1, verbose=0)\n",
    "grid_search_logretail.fit(x_train_log_retail, y_train_log_retail)\n",
    "best_params_logretail = grid_search_logretail.best_params_\n",
    "\n",
    "# Display the best hyperparameters\n",
    "print(\"Best hyperparameters for XGBoost Regressor (LogRetail):\", best_params_logretail)\n",
    "\n",
    "# Build the final model with the best hyperparameters and evaluate its performance\n",
    "best_grid_logretail = grid_search_logretail.best_estimator_\n",
    "grid_accuracy_logretail = model_eval(best_grid_logretail, x_test_log_retail, y_test_log_retail)\n",
    "\n",
    "# Print the evaluation metrics\n",
    "print(\"Grid Search LogRetail Model Evaluation:\", grid_accuracy_logretail)\n"
   ]
  },
  {
   "cell_type": "markdown",
   "metadata": {},
   "source": [
    "#### Best Model Performance"
   ]
  },
  {
   "cell_type": "code",
   "execution_count": 495,
   "metadata": {},
   "outputs": [
    {
     "name": "stdout",
     "output_type": "stream",
     "text": [
      "Final XGBoost Regressor training R2-score = 0.99\n",
      "Final XGBoost Regressor validation R2-score = 0.981\n"
     ]
    }
   ],
   "source": [
    "# Fit final model with best hyperparameters for LogRetail\n",
    "xgb_final_logretail = XGBRegressor(**grid_search_logretail.best_params_, random_state=42)\n",
    "xgb_final_logretail.fit(x_train_log_retail, y_train_log_retail)\n",
    "\n",
    "# Predict results on training and test data\n",
    "xgb_predict_result_final_train_logretail = xgb_final_logretail.predict(x_train_log_retail)\n",
    "xgb_predict_result_final_test_logretail = xgb_final_logretail.predict(x_test_log_retail)\n",
    "\n",
    "# Calculate R2 scores\n",
    "r2_train_logretail = r2_score(y_train_log_retail, xgb_predict_result_final_train_logretail)\n",
    "r2_test_logretail = r2_score(y_test_log_retail, xgb_predict_result_final_test_logretail)\n",
    "\n",
    "# Print R2 scores\n",
    "print(\"Final XGBoost Regressor training R2-score =\", round(r2_train_logretail, 3))\n",
    "print(\"Final XGBoost Regressor validation R2-score =\", round(r2_test_logretail, 3))\n"
   ]
  },
  {
   "cell_type": "markdown",
   "metadata": {},
   "source": [
    "### Price Prediction Model"
   ]
  },
  {
   "cell_type": "markdown",
   "metadata": {},
   "source": [
    "Here we use the logPrice for prediction."
   ]
  },
  {
   "cell_type": "markdown",
   "metadata": {},
   "source": [
    "#### Data Preparation"
   ]
  },
  {
   "cell_type": "markdown",
   "metadata": {},
   "source": [
    "First we generate the X(features) and Y(label) data for train and test."
   ]
  },
  {
   "cell_type": "code",
   "execution_count": 496,
   "metadata": {},
   "outputs": [
    {
     "name": "stdout",
     "output_type": "stream",
     "text": [
      "The shape of X_Train is (6440, 94).\n",
      "The shape of X_Test is (1610, 94).\n",
      "The shape of Y_Train is (6440,).\n",
      "The shape of Y_Test is (1610,).\n"
     ]
    }
   ],
   "source": [
    "x_log_price = df_final.drop(columns=['id', 'Price', 'Retail', 'LogPrice', 'LogRetail', 'Profit'])\n",
    "y_log_price = df_final['LogPrice']\n",
    "\n",
    "x_train_log_price, x_test_log_price, y_train_log_price, y_test_log_price = train_test_split(x_log_price, y_log_price, test_size=ratio, random_state=100)\n",
    "\n",
    "print(f'The shape of X_Train is {x_train_log_price.shape}.')\n",
    "print(f'The shape of X_Test is {x_test_log_price.shape}.')\n",
    "print(f'The shape of Y_Train is {y_train_log_price.shape}.')\n",
    "print(f'The shape of Y_Test is {y_test_log_price.shape}.')"
   ]
  },
  {
   "cell_type": "markdown",
   "metadata": {},
   "source": [
    "#### Run Models"
   ]
  },
  {
   "cell_type": "markdown",
   "metadata": {},
   "source": [
    "Here we fit each model separately, and then examine their result.\n",
    "\n",
    "Note here in the plots, 'Training Examples' mean the number of samples used for training. It reflects the impact of training sample size, and doesn't mean the training process."
   ]
  },
  {
   "cell_type": "code",
   "execution_count": 497,
   "metadata": {},
   "outputs": [
    {
     "name": "stdout",
     "output_type": "stream",
     "text": [
      "Currently Running Model KNN Regressor.\n",
      "Model KNN Regressor Finished!\n",
      "\n",
      "Currently Running Model Random Forest.\n",
      "Model Random Forest Finished!\n",
      "\n",
      "Currently Running Model XGBoost.\n",
      "Model XGBoost Finished!\n",
      "\n"
     ]
    },
    {
     "data": {
      "text/html": [
       "<div>\n",
       "<style scoped>\n",
       "    .dataframe tbody tr th:only-of-type {\n",
       "        vertical-align: middle;\n",
       "    }\n",
       "\n",
       "    .dataframe tbody tr th {\n",
       "        vertical-align: top;\n",
       "    }\n",
       "\n",
       "    .dataframe thead th {\n",
       "        text-align: right;\n",
       "    }\n",
       "</style>\n",
       "<table border=\"1\" class=\"dataframe\">\n",
       "  <thead>\n",
       "    <tr style=\"text-align: right;\">\n",
       "      <th></th>\n",
       "      <th>r2</th>\n",
       "      <th>mae</th>\n",
       "      <th>mse</th>\n",
       "    </tr>\n",
       "  </thead>\n",
       "  <tbody>\n",
       "    <tr>\n",
       "      <th>KNN Regressor</th>\n",
       "      <td>0.905193</td>\n",
       "      <td>0.289829</td>\n",
       "      <td>0.140883</td>\n",
       "    </tr>\n",
       "    <tr>\n",
       "      <th>Random Forest</th>\n",
       "      <td>0.983541</td>\n",
       "      <td>0.106075</td>\n",
       "      <td>0.024458</td>\n",
       "    </tr>\n",
       "    <tr>\n",
       "      <th>XGBoost</th>\n",
       "      <td>0.990485</td>\n",
       "      <td>0.088350</td>\n",
       "      <td>0.014140</td>\n",
       "    </tr>\n",
       "  </tbody>\n",
       "</table>\n",
       "</div>"
      ],
      "text/plain": [
       "                     r2       mae       mse\n",
       "KNN Regressor  0.905193  0.289829  0.140883\n",
       "Random Forest  0.983541  0.106075  0.024458\n",
       "XGBoost        0.990485  0.088350  0.014140"
      ]
     },
     "execution_count": 497,
     "metadata": {},
     "output_type": "execute_result"
    },
    {
     "data": {
      "image/png": "[encoded data removed]",
      "text/plain": [
       "<Figure size 432x288 with 1 Axes>"
      ]
     },
     "metadata": {
      "needs_background": "light"
     },
     "output_type": "display_data"
    },
    {
     "data": {
      "image/png": "[encoded data removed]",
      "text/plain": [
       "<Figure size 432x288 with 1 Axes>"
      ]
     },
     "metadata": {
      "needs_background": "light"
     },
     "output_type": "display_data"
    },
    {
     "data": {
      "image/png": "[encoded data removed]",
      "text/plain": [
       "<Figure size 432x288 with 1 Axes>"
      ]
     },
     "metadata": {
      "needs_background": "light"
     },
     "output_type": "display_data"
    }
   ],
   "source": [
    "models_price = {\n",
    "    'KNN Regressor': KNeighborsRegressor(),\n",
    "    'Random Forest': RandomForestRegressor(),\n",
    "    'XGBoost': XGBRegressor()\n",
    "}\n",
    "result_log_price = None\n",
    "result_log_price_dicts = []\n",
    "for name, model in models_price.items():\n",
    "    print(f'Currently Running Model {name}.')\n",
    "    model.fit(x_train_log_price, y_train_log_price)\n",
    "    result_log_price_dicts.append(model_eval(model, x_test_log_price, y_test_log_price))\n",
    "    print(f'Model {name} Finished!\\n')\n",
    "    skplt.estimators.plot_learning_curve(model, x_train_log_price, y_train_log_price, cv=10, shuffle=True, scoring='r2', n_jobs=-1, title=f'Learning Curve for {name}')\n",
    "    models_price[name] = model\n",
    "for result, name in zip(result_log_price_dicts, models_price.keys()):\n",
    "    result_log_price = pd.concat([result_log_price, pd.DataFrame(result, index=[name])], axis=0)\n",
    "result_log_price"
   ]
  },
  {
   "cell_type": "markdown",
   "metadata": {},
   "source": [
    "#### Parameter Tuning"
   ]
  },
  {
   "cell_type": "markdown",
   "metadata": {},
   "source": [
    "Since XGBoost is the model with best performance, we want to further improve its accuracy by parameter tuning."
   ]
  },
  {
   "cell_type": "code",
   "execution_count": null,
   "metadata": {},
   "outputs": [],
   "source": [
    "param_grid = {\n",
    "    'max_depth': [5, 10, 15, 20, 25],\n",
    "    'min_child_weight': [1, 3, 5, 7],\n",
    "    'subsample': [0.6, 0.8, 1.0],\n",
    "    'colsample_bytree': [0.6, 0.8, 1.0],\n",
    "    'n_estimators': [100, 200, 300]\n",
    "}\n",
    "xgb_regressor_price = XGBRegressor(random_state=42)\n",
    "grid_search_logprice = GridSearchCV(estimator=xgb_regressor_price, param_grid=param_grid, cv=3, n_jobs=-1, verbose=0)\n",
    "grid_search_logprice.fit(x_train_log_price, y_train_log_price)\n",
    "best_params_logprice = grid_search_logprice.best_params_\n",
    "\n",
    "# Display the best hyperparameters\n",
    "print(\"Best hyperparameters for XGBoost Regressor (LogPrice):\", best_params_logprice)\n",
    "\n",
    "# Build the final model with the best hyperparameters and evaluate its performance\n",
    "best_grid_logprice = grid_search_logprice.best_estimator_\n",
    "grid_accuracy_logprice = model_eval(best_grid_logprice, x_test_log_price, y_test_log_price)\n",
    "\n",
    "# Print the evaluation metrics\n",
    "print(\"Grid Search LogPrice Model Evaluation:\", grid_accuracy_logprice)\n"
   ]
  },
  {
   "cell_type": "code",
   "execution_count": 499,
   "metadata": {},
   "outputs": [
    {
     "name": "stdout",
     "output_type": "stream",
     "text": [
      "Final XGBoost Regressor training R2-score = 0.996\n",
      "Final XGBoost Regressor validation R2-score = 0.99\n"
     ]
    }
   ],
   "source": [
    "# Fit final model with best hyperparameters for LogPrice\n",
    "# xgb_final_logprice = XGBRegressor(**grid_search_logprice.best_params_, random_state=42)\n",
    "xgb_final_logprice = models_price['XGBoost']\n",
    "xgb_final_logprice.fit(x_train_log_price, y_train_log_price)\n",
    "\n",
    "# Predict results on training and test data\n",
    "xgb_predict_result_final_train_logprice = xgb_final_logprice.predict(x_train_log_price)\n",
    "xgb_predict_result_final_test_logprice = xgb_final_logprice.predict(x_test_log_price)\n",
    "\n",
    "# Calculate R2 scores\n",
    "r2_train_logprice = r2_score(y_train_log_price, xgb_predict_result_final_train_logprice)\n",
    "r2_test_logprice = r2_score(y_test_log_price, xgb_predict_result_final_test_logprice)\n",
    "\n",
    "# Print R2 scores\n",
    "print(\"Final XGBoost Regressor training R2-score =\", round(r2_train_logprice, 3))\n",
    "print(\"Final XGBoost Regressor validation R2-score =\", round(r2_test_logprice, 3))\n"
   ]
  },
  {
   "cell_type": "markdown",
   "metadata": {},
   "source": [
    "### Data Prediction in the Testing Dataset"
   ]
  },
  {
   "cell_type": "code",
   "execution_count": 505,
   "metadata": {},
   "outputs": [
    {
     "data": {
      "text/html": [
       "<div>\n",
       "<style scoped>\n",
       "    .dataframe tbody tr th:only-of-type {\n",
       "        vertical-align: middle;\n",
       "    }\n",
       "\n",
       "    .dataframe tbody tr th {\n",
       "        vertical-align: top;\n",
       "    }\n",
       "\n",
       "    .dataframe thead th {\n",
       "        text-align: right;\n",
       "    }\n",
       "</style>\n",
       "<table border=\"1\" class=\"dataframe\">\n",
       "  <thead>\n",
       "    <tr style=\"text-align: right;\">\n",
       "      <th></th>\n",
       "      <th>id</th>\n",
       "      <th>pred_log_price</th>\n",
       "      <th>pred_log_retail</th>\n",
       "      <th>pred_price</th>\n",
       "      <th>pred_retail</th>\n",
       "      <th>pred_profit</th>\n",
       "      <th>ROI</th>\n",
       "    </tr>\n",
       "  </thead>\n",
       "  <tbody>\n",
       "    <tr>\n",
       "      <th>849</th>\n",
       "      <td>8900</td>\n",
       "      <td>8.564764</td>\n",
       "      <td>9.368443</td>\n",
       "      <td>5243.602404</td>\n",
       "      <td>11712.869682</td>\n",
       "      <td>6469.267278</td>\n",
       "      <td>123.37</td>\n",
       "    </tr>\n",
       "    <tr>\n",
       "      <th>1442</th>\n",
       "      <td>9493</td>\n",
       "      <td>8.243580</td>\n",
       "      <td>9.014528</td>\n",
       "      <td>3803.130660</td>\n",
       "      <td>8221.667074</td>\n",
       "      <td>4418.536414</td>\n",
       "      <td>116.18</td>\n",
       "    </tr>\n",
       "    <tr>\n",
       "      <th>1651</th>\n",
       "      <td>9702</td>\n",
       "      <td>8.444710</td>\n",
       "      <td>9.201457</td>\n",
       "      <td>4650.405866</td>\n",
       "      <td>9911.559920</td>\n",
       "      <td>5261.154054</td>\n",
       "      <td>113.13</td>\n",
       "    </tr>\n",
       "    <tr>\n",
       "      <th>722</th>\n",
       "      <td>8773</td>\n",
       "      <td>8.709945</td>\n",
       "      <td>9.464571</td>\n",
       "      <td>6062.907352</td>\n",
       "      <td>12894.691566</td>\n",
       "      <td>6831.784214</td>\n",
       "      <td>112.68</td>\n",
       "    </tr>\n",
       "    <tr>\n",
       "      <th>819</th>\n",
       "      <td>8870</td>\n",
       "      <td>8.727866</td>\n",
       "      <td>9.466732</td>\n",
       "      <td>6172.542909</td>\n",
       "      <td>12922.587461</td>\n",
       "      <td>6750.044552</td>\n",
       "      <td>109.36</td>\n",
       "    </tr>\n",
       "    <tr>\n",
       "      <th>...</th>\n",
       "      <td>...</td>\n",
       "      <td>...</td>\n",
       "      <td>...</td>\n",
       "      <td>...</td>\n",
       "      <td>...</td>\n",
       "      <td>...</td>\n",
       "      <td>...</td>\n",
       "    </tr>\n",
       "    <tr>\n",
       "      <th>1143</th>\n",
       "      <td>9194</td>\n",
       "      <td>9.676664</td>\n",
       "      <td>7.603709</td>\n",
       "      <td>15941.233805</td>\n",
       "      <td>2005.620452</td>\n",
       "      <td>-13935.613353</td>\n",
       "      <td>-87.42</td>\n",
       "    </tr>\n",
       "    <tr>\n",
       "      <th>2508</th>\n",
       "      <td>10559</td>\n",
       "      <td>10.116146</td>\n",
       "      <td>8.013247</td>\n",
       "      <td>24739.243999</td>\n",
       "      <td>3020.710930</td>\n",
       "      <td>-21718.533069</td>\n",
       "      <td>-87.79</td>\n",
       "    </tr>\n",
       "    <tr>\n",
       "      <th>2240</th>\n",
       "      <td>10291</td>\n",
       "      <td>10.048692</td>\n",
       "      <td>7.923604</td>\n",
       "      <td>23125.513085</td>\n",
       "      <td>2761.707670</td>\n",
       "      <td>-20363.805415</td>\n",
       "      <td>-88.06</td>\n",
       "    </tr>\n",
       "    <tr>\n",
       "      <th>1749</th>\n",
       "      <td>9800</td>\n",
       "      <td>9.505569</td>\n",
       "      <td>7.362713</td>\n",
       "      <td>13434.340854</td>\n",
       "      <td>1576.106525</td>\n",
       "      <td>-11858.234329</td>\n",
       "      <td>-88.27</td>\n",
       "    </tr>\n",
       "    <tr>\n",
       "      <th>1814</th>\n",
       "      <td>9865</td>\n",
       "      <td>9.305040</td>\n",
       "      <td>7.106586</td>\n",
       "      <td>10993.289932</td>\n",
       "      <td>1219.975989</td>\n",
       "      <td>-9773.313943</td>\n",
       "      <td>-88.90</td>\n",
       "    </tr>\n",
       "  </tbody>\n",
       "</table>\n",
       "<p>2683 rows × 7 columns</p>\n",
       "</div>"
      ],
      "text/plain": [
       "         id  pred_log_price  pred_log_retail    pred_price   pred_retail   pred_profit     ROI\n",
       "849    8900        8.564764         9.368443   5243.602404  11712.869682   6469.267278  123.37\n",
       "1442   9493        8.243580         9.014528   3803.130660   8221.667074   4418.536414  116.18\n",
       "1651   9702        8.444710         9.201457   4650.405866   9911.559920   5261.154054  113.13\n",
       "722    8773        8.709945         9.464571   6062.907352  12894.691566   6831.784214  112.68\n",
       "819    8870        8.727866         9.466732   6172.542909  12922.587461   6750.044552  109.36\n",
       "...     ...             ...              ...           ...           ...           ...     ...\n",
       "1143   9194        9.676664         7.603709  15941.233805   2005.620452 -13935.613353  -87.42\n",
       "2508  10559       10.116146         8.013247  24739.243999   3020.710930 -21718.533069  -87.79\n",
       "2240  10291       10.048692         7.923604  23125.513085   2761.707670 -20363.805415  -88.06\n",
       "1749   9800        9.505569         7.362713  13434.340854   1576.106525 -11858.234329  -88.27\n",
       "1814   9865        9.305040         7.106586  10993.289932   1219.975989  -9773.313943  -88.90\n",
       "\n",
       "[2683 rows x 7 columns]"
      ]
     },
     "metadata": {},
     "output_type": "display_data"
    }
   ],
   "source": [
    "# Predict Price\n",
    "features = x_log_retail.columns\n",
    "df_new_final['pred_log_price'] = xgb_final_logprice.predict(df_new_final[features])\n",
    "df_new_final['pred_price'] = df_new_final['pred_log_price'].apply(lambda x: np.exp(x))\n",
    "# Predict Retail\n",
    "df_new_final['pred_log_retail'] = xgb_final_logretail.predict(df_new_final[features])\n",
    "df_new_final['pred_retail'] = df_new_final['pred_log_retail'].apply(lambda x: np.exp(x))\n",
    "# Calculate Profit & ROI\n",
    "df_new_final['pred_profit'] = df_new_final['pred_retail'] - df_new_final['pred_price']\n",
    "df_new_final['ROI'] = round((df_new_final['pred_retail'] - df_new_final['pred_price']) * 100 / df_new_final['pred_price'], 2)\n",
    "# Sort by ROI\n",
    "df_new_final = df_new_final.sort_values(by='ROI', ascending=False)\n",
    "# Display Data\n",
    "display(df_new_final[['id', 'pred_log_price', 'pred_log_retail', 'pred_price', 'pred_retail', 'pred_profit','ROI']])"
   ]
  },
  {
   "cell_type": "markdown",
   "metadata": {},
   "source": [
    "## Diamonds Selection"
   ]
  },
  {
   "cell_type": "markdown",
   "metadata": {},
   "source": [
    "### ROI Selection"
   ]
  },
  {
   "cell_type": "markdown",
   "metadata": {},
   "source": [
    "Here we consider diamonds with higher ROI in priority."
   ]
  },
  {
   "cell_type": "code",
   "execution_count": 566,
   "metadata": {},
   "outputs": [
    {
     "name": "stdout",
     "output_type": "stream",
     "text": [
      "The total number of diamonds selected by ROI is 600.\n",
      "The total price equals to 4998850.0, with 1150.0 left.\n",
      "The total predict profit equals to 3768188.0, with an estimated total ROI of 75.36%.\n"
     ]
    }
   ],
   "source": [
    "df_roi = df_new_final.copy()\n",
    "df_roi = df_roi[['id', 'pred_log_price', 'pred_log_retail', 'pred_price', 'pred_retail', 'pred_profit','ROI']]\n",
    "df_roi['sum_to_now'] = df_roi['pred_price'].cumsum()\n",
    "df_roi['offer'] = np.where(df_roi['sum_to_now'] <= 5000000, df_roi['pred_price'], 0)  # If still below 5000000, take it! Else, give up!\n",
    "df_roi_eff = df_roi[df_roi['offer'] > 0]\n",
    "print(f'The total number of diamonds selected by ROI is {len(df_roi_eff)}.')\n",
    "total = df_roi_eff['sum_to_now'].max()\n",
    "print(f'The total price equals to {round(total, 0)}, with {round(5000000 - total, 0)} left.')\n",
    "total_profit = sum(df_roi_eff['pred_profit'])\n",
    "print(f'The total predict profit equals to {round(total_profit, 0)}, with an estimated total ROI of {round(total_profit / 5000000 * 100, 2)}%.')"
   ]
  },
  {
   "cell_type": "markdown",
   "metadata": {},
   "source": [
    "Here are some money left, we should see if we can use it up."
   ]
  },
  {
   "cell_type": "code",
   "execution_count": 567,
   "metadata": {},
   "outputs": [
    {
     "data": {
      "text/html": [
       "<div>\n",
       "<style scoped>\n",
       "    .dataframe tbody tr th:only-of-type {\n",
       "        vertical-align: middle;\n",
       "    }\n",
       "\n",
       "    .dataframe tbody tr th {\n",
       "        vertical-align: top;\n",
       "    }\n",
       "\n",
       "    .dataframe thead th {\n",
       "        text-align: right;\n",
       "    }\n",
       "</style>\n",
       "<table border=\"1\" class=\"dataframe\">\n",
       "  <thead>\n",
       "    <tr style=\"text-align: right;\">\n",
       "      <th></th>\n",
       "      <th>id</th>\n",
       "      <th>pred_log_price</th>\n",
       "      <th>pred_log_retail</th>\n",
       "      <th>pred_price</th>\n",
       "      <th>pred_retail</th>\n",
       "      <th>pred_profit</th>\n",
       "      <th>ROI</th>\n",
       "      <th>sum_to_now</th>\n",
       "      <th>offer</th>\n",
       "    </tr>\n",
       "  </thead>\n",
       "  <tbody>\n",
       "    <tr>\n",
       "      <th>222</th>\n",
       "      <td>8273</td>\n",
       "      <td>7.0</td>\n",
       "      <td>7.5</td>\n",
       "      <td>1128.0</td>\n",
       "      <td>1857.3</td>\n",
       "      <td>729.3</td>\n",
       "      <td>64.7</td>\n",
       "      <td>1128.0</td>\n",
       "      <td>1128.0</td>\n",
       "    </tr>\n",
       "  </tbody>\n",
       "</table>\n",
       "</div>"
      ],
      "text/plain": [
       "       id  pred_log_price  pred_log_retail  pred_price  pred_retail  pred_profit  ROI  sum_to_now  offer\n",
       "222  8273             7.0              7.5      1128.0       1857.3        729.3 64.7      1128.0 1128.0"
      ]
     },
     "metadata": {},
     "output_type": "display_data"
    },
    {
     "name": "stdout",
     "output_type": "stream",
     "text": [
      "The total number of diamonds selected by ROI is 601.\n",
      "The total price equals to 4999978.0, with 22.0 left.\n",
      "The total predict profit equals to 3768917.0, with an estimated total ROI of 75.38%.\n"
     ]
    },
    {
     "data": {
      "text/html": [
       "<div>\n",
       "<style scoped>\n",
       "    .dataframe tbody tr th:only-of-type {\n",
       "        vertical-align: middle;\n",
       "    }\n",
       "\n",
       "    .dataframe tbody tr th {\n",
       "        vertical-align: top;\n",
       "    }\n",
       "\n",
       "    .dataframe thead th {\n",
       "        text-align: right;\n",
       "    }\n",
       "</style>\n",
       "<table border=\"1\" class=\"dataframe\">\n",
       "  <thead>\n",
       "    <tr style=\"text-align: right;\">\n",
       "      <th></th>\n",
       "      <th>id</th>\n",
       "      <th>pred_price</th>\n",
       "      <th>pred_retail</th>\n",
       "      <th>pred_profit</th>\n",
       "    </tr>\n",
       "  </thead>\n",
       "  <tbody>\n",
       "    <tr>\n",
       "      <th>849</th>\n",
       "      <td>8900</td>\n",
       "      <td>5243.6</td>\n",
       "      <td>11712.9</td>\n",
       "      <td>6469.3</td>\n",
       "    </tr>\n",
       "    <tr>\n",
       "      <th>1442</th>\n",
       "      <td>9493</td>\n",
       "      <td>3803.1</td>\n",
       "      <td>8221.7</td>\n",
       "      <td>4418.5</td>\n",
       "    </tr>\n",
       "    <tr>\n",
       "      <th>1651</th>\n",
       "      <td>9702</td>\n",
       "      <td>4650.4</td>\n",
       "      <td>9911.6</td>\n",
       "      <td>5261.2</td>\n",
       "    </tr>\n",
       "    <tr>\n",
       "      <th>722</th>\n",
       "      <td>8773</td>\n",
       "      <td>6062.9</td>\n",
       "      <td>12894.7</td>\n",
       "      <td>6831.8</td>\n",
       "    </tr>\n",
       "    <tr>\n",
       "      <th>819</th>\n",
       "      <td>8870</td>\n",
       "      <td>6172.5</td>\n",
       "      <td>12922.6</td>\n",
       "      <td>6750.0</td>\n",
       "    </tr>\n",
       "    <tr>\n",
       "      <th>...</th>\n",
       "      <td>...</td>\n",
       "      <td>...</td>\n",
       "      <td>...</td>\n",
       "      <td>...</td>\n",
       "    </tr>\n",
       "    <tr>\n",
       "      <th>1328</th>\n",
       "      <td>9379</td>\n",
       "      <td>5272.3</td>\n",
       "      <td>8738.1</td>\n",
       "      <td>3465.8</td>\n",
       "    </tr>\n",
       "    <tr>\n",
       "      <th>28</th>\n",
       "      <td>8079</td>\n",
       "      <td>795.3</td>\n",
       "      <td>1318.0</td>\n",
       "      <td>522.7</td>\n",
       "    </tr>\n",
       "    <tr>\n",
       "      <th>389</th>\n",
       "      <td>8440</td>\n",
       "      <td>2425.4</td>\n",
       "      <td>4018.2</td>\n",
       "      <td>1592.8</td>\n",
       "    </tr>\n",
       "    <tr>\n",
       "      <th>1772</th>\n",
       "      <td>9823</td>\n",
       "      <td>8165.3</td>\n",
       "      <td>13524.5</td>\n",
       "      <td>5359.2</td>\n",
       "    </tr>\n",
       "    <tr>\n",
       "      <th>222</th>\n",
       "      <td>8273</td>\n",
       "      <td>1128.0</td>\n",
       "      <td>1857.3</td>\n",
       "      <td>729.3</td>\n",
       "    </tr>\n",
       "  </tbody>\n",
       "</table>\n",
       "<p>601 rows × 4 columns</p>\n",
       "</div>"
      ],
      "text/plain": [
       "        id  pred_price  pred_retail  pred_profit\n",
       "849   8900      5243.6      11712.9       6469.3\n",
       "1442  9493      3803.1       8221.7       4418.5\n",
       "1651  9702      4650.4       9911.6       5261.2\n",
       "722   8773      6062.9      12894.7       6831.8\n",
       "819   8870      6172.5      12922.6       6750.0\n",
       "...    ...         ...          ...          ...\n",
       "1328  9379      5272.3       8738.1       3465.8\n",
       "28    8079       795.3       1318.0        522.7\n",
       "389   8440      2425.4       4018.2       1592.8\n",
       "1772  9823      8165.3      13524.5       5359.2\n",
       "222   8273      1128.0       1857.3        729.3\n",
       "\n",
       "[601 rows x 4 columns]"
      ]
     },
     "execution_count": 567,
     "metadata": {},
     "output_type": "execute_result"
    }
   ],
   "source": [
    "df_roi_rest = df_roi[df_roi['offer'] == 0]\n",
    "df_roi_rest = df_roi_rest[df_roi_rest['pred_price'] <= 5000000 - total]\n",
    "df_roi_rest = df_roi_rest.sort_values(by='pred_profit', ascending=False)\n",
    "df_roi_rest['sum_to_now'] = np.zeros(len(df_roi_rest))\n",
    "df_roi_rest['sum_to_now'] = df_roi_rest['pred_price'].cumsum()\n",
    "df_roi_rest['offer'] = np.where(df_roi_rest['sum_to_now'] <= 5000000 - total, df_roi_rest['pred_price'], 0)\n",
    "df_roi_rest_eff = df_roi_rest[df_roi_rest['offer'] > 0]\n",
    "display(df_roi_rest_eff)\n",
    "print(f'The total number of diamonds selected by ROI is {len(df_roi_eff) + len(df_roi_rest_eff)}.')\n",
    "total = df_roi_eff['sum_to_now'].max() + sum(df_roi_rest_eff['pred_price'])\n",
    "print(f'The total price equals to {round(total, 0)}, with {round(5000000 - total, 0)} left.')\n",
    "total_profit = sum(df_roi_eff['pred_profit']) + sum(df_roi_rest_eff['pred_profit'])\n",
    "print(f'The total predict profit equals to {round(total_profit, 0)}, with an estimated total ROI of {round(total_profit / 5000000 * 100, 2)}%.')\n",
    "roi_dict = {'Number of Diamonds': len(df_roi_eff) + len(df_roi_rest_eff),\n",
    "            'Total Price': total,\n",
    "            'Budget Left': 5000000 - total,\n",
    "            'Usage Percent': f'{round(total / 5000000 * 100, 4)}%',\n",
    "            'Total Profit': total_profit,\n",
    "            'Total ROI': f'{round(total_profit / 5000000 * 100, 2)}%'}\n",
    "df_roi_final = pd.concat([df_roi_eff, df_roi_rest_eff], axis=0)[['id', 'pred_price', 'pred_retail', 'pred_profit']]\n",
    "df_roi_final"
   ]
  },
  {
   "cell_type": "markdown",
   "metadata": {},
   "source": [
    "### Profit Selection"
   ]
  },
  {
   "cell_type": "markdown",
   "metadata": {},
   "source": [
    "Here we consider diamonds with higher Profit in priority."
   ]
  },
  {
   "cell_type": "code",
   "execution_count": 568,
   "metadata": {},
   "outputs": [
    {
     "name": "stdout",
     "output_type": "stream",
     "text": [
      "The total number of diamonds selected by Profit is 50.\n",
      "The total price equals to 4975807.0, with 24193.0 left.\n",
      "The total predict profit equals to 2398895.0, with an estimated total ROI of 47.98%.\n"
     ]
    }
   ],
   "source": [
    "df_profit = df_new_final.copy()\n",
    "df_profit = df_profit.sort_values(by='pred_profit', ascending=False)\n",
    "df_profit = df_profit[['id', 'pred_log_price', 'pred_log_retail', 'pred_price', 'pred_retail', 'pred_profit','ROI']]\n",
    "df_profit['sum_to_now'] = df_profit['pred_price'].cumsum()\n",
    "df_profit['offer'] = np.where(df_profit['sum_to_now'] <= 5000000, df_profit['pred_price'], 0)  # If still below 5000000, take it! Else, give up!\n",
    "df_profit_eff = df_profit[df_profit['offer'] > 0]\n",
    "print(f'The total number of diamonds selected by Profit is {len(df_profit_eff)}.')\n",
    "total = df_profit_eff['sum_to_now'].max()\n",
    "print(f'The total price equals to {round(total, 0)}, with {round(5000000 - total, 0)} left.')\n",
    "total_profit = sum(df_profit_eff['pred_profit'])\n",
    "print(f'The total predict profit equals to {round(total_profit, 0)}, with an estimated total ROI of {round(total_profit / 5000000 * 100, 2)}%.')"
   ]
  },
  {
   "cell_type": "markdown",
   "metadata": {},
   "source": [
    "Here are some money left, we should see if we can use it up."
   ]
  },
  {
   "cell_type": "code",
   "execution_count": 569,
   "metadata": {},
   "outputs": [
    {
     "data": {
      "text/html": [
       "<div>\n",
       "<style scoped>\n",
       "    .dataframe tbody tr th:only-of-type {\n",
       "        vertical-align: middle;\n",
       "    }\n",
       "\n",
       "    .dataframe tbody tr th {\n",
       "        vertical-align: top;\n",
       "    }\n",
       "\n",
       "    .dataframe thead th {\n",
       "        text-align: right;\n",
       "    }\n",
       "</style>\n",
       "<table border=\"1\" class=\"dataframe\">\n",
       "  <thead>\n",
       "    <tr style=\"text-align: right;\">\n",
       "      <th></th>\n",
       "      <th>id</th>\n",
       "      <th>pred_log_price</th>\n",
       "      <th>pred_log_retail</th>\n",
       "      <th>pred_price</th>\n",
       "      <th>pred_retail</th>\n",
       "      <th>pred_profit</th>\n",
       "      <th>ROI</th>\n",
       "      <th>sum_to_now</th>\n",
       "      <th>offer</th>\n",
       "    </tr>\n",
       "  </thead>\n",
       "  <tbody>\n",
       "    <tr>\n",
       "      <th>1183</th>\n",
       "      <td>9234</td>\n",
       "      <td>10.1</td>\n",
       "      <td>10.7</td>\n",
       "      <td>23854.0</td>\n",
       "      <td>42898.2</td>\n",
       "      <td>19044.1</td>\n",
       "      <td>79.8</td>\n",
       "      <td>23854.0</td>\n",
       "      <td>23854.0</td>\n",
       "    </tr>\n",
       "  </tbody>\n",
       "</table>\n",
       "</div>"
      ],
      "text/plain": [
       "        id  pred_log_price  pred_log_retail  pred_price  pred_retail  pred_profit  ROI  sum_to_now   offer\n",
       "1183  9234            10.1             10.7     23854.0      42898.2      19044.1 79.8     23854.0 23854.0"
      ]
     },
     "metadata": {},
     "output_type": "display_data"
    },
    {
     "name": "stdout",
     "output_type": "stream",
     "text": [
      "The total number of diamonds selected by ROI is 51.\n",
      "The total price equals to 4999661.0, with 339.0 left.\n",
      "The total predict profit equals to 2417939.0, with an estimated total ROI of 48.36%.\n"
     ]
    },
    {
     "data": {
      "text/html": [
       "<div>\n",
       "<style scoped>\n",
       "    .dataframe tbody tr th:only-of-type {\n",
       "        vertical-align: middle;\n",
       "    }\n",
       "\n",
       "    .dataframe tbody tr th {\n",
       "        vertical-align: top;\n",
       "    }\n",
       "\n",
       "    .dataframe thead th {\n",
       "        text-align: right;\n",
       "    }\n",
       "</style>\n",
       "<table border=\"1\" class=\"dataframe\">\n",
       "  <thead>\n",
       "    <tr style=\"text-align: right;\">\n",
       "      <th></th>\n",
       "      <th>id</th>\n",
       "      <th>pred_price</th>\n",
       "      <th>pred_retail</th>\n",
       "      <th>pred_profit</th>\n",
       "    </tr>\n",
       "  </thead>\n",
       "  <tbody>\n",
       "    <tr>\n",
       "      <th>1321</th>\n",
       "      <td>9372</td>\n",
       "      <td>233417.3</td>\n",
       "      <td>385498.8</td>\n",
       "      <td>152081.4</td>\n",
       "    </tr>\n",
       "    <tr>\n",
       "      <th>2380</th>\n",
       "      <td>10431</td>\n",
       "      <td>166167.2</td>\n",
       "      <td>306934.9</td>\n",
       "      <td>140767.6</td>\n",
       "    </tr>\n",
       "    <tr>\n",
       "      <th>1317</th>\n",
       "      <td>9368</td>\n",
       "      <td>267600.8</td>\n",
       "      <td>379944.4</td>\n",
       "      <td>112343.6</td>\n",
       "    </tr>\n",
       "    <tr>\n",
       "      <th>2307</th>\n",
       "      <td>10358</td>\n",
       "      <td>115917.1</td>\n",
       "      <td>227595.5</td>\n",
       "      <td>111678.4</td>\n",
       "    </tr>\n",
       "    <tr>\n",
       "      <th>1320</th>\n",
       "      <td>9371</td>\n",
       "      <td>182685.2</td>\n",
       "      <td>276788.2</td>\n",
       "      <td>94103.0</td>\n",
       "    </tr>\n",
       "    <tr>\n",
       "      <th>1313</th>\n",
       "      <td>9364</td>\n",
       "      <td>189652.1</td>\n",
       "      <td>279413.5</td>\n",
       "      <td>89761.5</td>\n",
       "    </tr>\n",
       "    <tr>\n",
       "      <th>1352</th>\n",
       "      <td>9403</td>\n",
       "      <td>180137.7</td>\n",
       "      <td>260681.1</td>\n",
       "      <td>80543.4</td>\n",
       "    </tr>\n",
       "    <tr>\n",
       "      <th>1322</th>\n",
       "      <td>9373</td>\n",
       "      <td>155229.7</td>\n",
       "      <td>228651.1</td>\n",
       "      <td>73421.3</td>\n",
       "    </tr>\n",
       "    <tr>\n",
       "      <th>2314</th>\n",
       "      <td>10365</td>\n",
       "      <td>208173.1</td>\n",
       "      <td>275819.0</td>\n",
       "      <td>67645.9</td>\n",
       "    </tr>\n",
       "    <tr>\n",
       "      <th>1312</th>\n",
       "      <td>9363</td>\n",
       "      <td>156553.9</td>\n",
       "      <td>211325.1</td>\n",
       "      <td>54771.2</td>\n",
       "    </tr>\n",
       "    <tr>\n",
       "      <th>1308</th>\n",
       "      <td>9359</td>\n",
       "      <td>71443.3</td>\n",
       "      <td>124343.8</td>\n",
       "      <td>52900.5</td>\n",
       "    </tr>\n",
       "    <tr>\n",
       "      <th>1631</th>\n",
       "      <td>9682</td>\n",
       "      <td>114845.2</td>\n",
       "      <td>167244.2</td>\n",
       "      <td>52399.0</td>\n",
       "    </tr>\n",
       "    <tr>\n",
       "      <th>1303</th>\n",
       "      <td>9354</td>\n",
       "      <td>96653.4</td>\n",
       "      <td>147261.1</td>\n",
       "      <td>50607.7</td>\n",
       "    </tr>\n",
       "    <tr>\n",
       "      <th>1319</th>\n",
       "      <td>9370</td>\n",
       "      <td>157700.1</td>\n",
       "      <td>208278.7</td>\n",
       "      <td>50578.6</td>\n",
       "    </tr>\n",
       "    <tr>\n",
       "      <th>2285</th>\n",
       "      <td>10336</td>\n",
       "      <td>55330.3</td>\n",
       "      <td>104954.8</td>\n",
       "      <td>49624.5</td>\n",
       "    </tr>\n",
       "    <tr>\n",
       "      <th>2576</th>\n",
       "      <td>10627</td>\n",
       "      <td>49155.8</td>\n",
       "      <td>97255.0</td>\n",
       "      <td>48099.3</td>\n",
       "    </tr>\n",
       "    <tr>\n",
       "      <th>1307</th>\n",
       "      <td>9358</td>\n",
       "      <td>121903.8</td>\n",
       "      <td>168954.2</td>\n",
       "      <td>47050.5</td>\n",
       "    </tr>\n",
       "    <tr>\n",
       "      <th>2370</th>\n",
       "      <td>10421</td>\n",
       "      <td>135440.4</td>\n",
       "      <td>181979.5</td>\n",
       "      <td>46539.1</td>\n",
       "    </tr>\n",
       "    <tr>\n",
       "      <th>1290</th>\n",
       "      <td>9341</td>\n",
       "      <td>104462.3</td>\n",
       "      <td>148180.6</td>\n",
       "      <td>43718.3</td>\n",
       "    </tr>\n",
       "    <tr>\n",
       "      <th>1465</th>\n",
       "      <td>9516</td>\n",
       "      <td>60975.5</td>\n",
       "      <td>102017.5</td>\n",
       "      <td>41042.0</td>\n",
       "    </tr>\n",
       "    <tr>\n",
       "      <th>1299</th>\n",
       "      <td>9350</td>\n",
       "      <td>87977.4</td>\n",
       "      <td>128472.3</td>\n",
       "      <td>40494.9</td>\n",
       "    </tr>\n",
       "    <tr>\n",
       "      <th>1717</th>\n",
       "      <td>9768</td>\n",
       "      <td>146021.5</td>\n",
       "      <td>186198.4</td>\n",
       "      <td>40176.9</td>\n",
       "    </tr>\n",
       "    <tr>\n",
       "      <th>2535</th>\n",
       "      <td>10586</td>\n",
       "      <td>43344.3</td>\n",
       "      <td>80680.6</td>\n",
       "      <td>37336.3</td>\n",
       "    </tr>\n",
       "    <tr>\n",
       "      <th>1340</th>\n",
       "      <td>9391</td>\n",
       "      <td>58725.0</td>\n",
       "      <td>93652.3</td>\n",
       "      <td>34927.3</td>\n",
       "    </tr>\n",
       "    <tr>\n",
       "      <th>2558</th>\n",
       "      <td>10609</td>\n",
       "      <td>174993.0</td>\n",
       "      <td>209809.4</td>\n",
       "      <td>34816.4</td>\n",
       "    </tr>\n",
       "    <tr>\n",
       "      <th>1509</th>\n",
       "      <td>9560</td>\n",
       "      <td>64927.2</td>\n",
       "      <td>99333.8</td>\n",
       "      <td>34406.6</td>\n",
       "    </tr>\n",
       "    <tr>\n",
       "      <th>1318</th>\n",
       "      <td>9369</td>\n",
       "      <td>197903.3</td>\n",
       "      <td>231909.4</td>\n",
       "      <td>34006.1</td>\n",
       "    </tr>\n",
       "    <tr>\n",
       "      <th>1602</th>\n",
       "      <td>9653</td>\n",
       "      <td>56286.7</td>\n",
       "      <td>89801.7</td>\n",
       "      <td>33515.0</td>\n",
       "    </tr>\n",
       "    <tr>\n",
       "      <th>1283</th>\n",
       "      <td>9334</td>\n",
       "      <td>59343.8</td>\n",
       "      <td>92737.7</td>\n",
       "      <td>33394.0</td>\n",
       "    </tr>\n",
       "    <tr>\n",
       "      <th>1266</th>\n",
       "      <td>9317</td>\n",
       "      <td>51994.5</td>\n",
       "      <td>85267.2</td>\n",
       "      <td>33272.7</td>\n",
       "    </tr>\n",
       "    <tr>\n",
       "      <th>1288</th>\n",
       "      <td>9339</td>\n",
       "      <td>54517.0</td>\n",
       "      <td>87551.4</td>\n",
       "      <td>33034.4</td>\n",
       "    </tr>\n",
       "    <tr>\n",
       "      <th>1338</th>\n",
       "      <td>9389</td>\n",
       "      <td>55122.9</td>\n",
       "      <td>87141.4</td>\n",
       "      <td>32018.4</td>\n",
       "    </tr>\n",
       "    <tr>\n",
       "      <th>2198</th>\n",
       "      <td>10249</td>\n",
       "      <td>51150.6</td>\n",
       "      <td>82611.7</td>\n",
       "      <td>31461.0</td>\n",
       "    </tr>\n",
       "    <tr>\n",
       "      <th>1274</th>\n",
       "      <td>9325</td>\n",
       "      <td>51124.2</td>\n",
       "      <td>82367.3</td>\n",
       "      <td>31243.2</td>\n",
       "    </tr>\n",
       "    <tr>\n",
       "      <th>2234</th>\n",
       "      <td>10285</td>\n",
       "      <td>76695.3</td>\n",
       "      <td>107906.1</td>\n",
       "      <td>31210.8</td>\n",
       "    </tr>\n",
       "    <tr>\n",
       "      <th>1861</th>\n",
       "      <td>9912</td>\n",
       "      <td>64377.6</td>\n",
       "      <td>95214.9</td>\n",
       "      <td>30837.3</td>\n",
       "    </tr>\n",
       "    <tr>\n",
       "      <th>1284</th>\n",
       "      <td>9335</td>\n",
       "      <td>60681.5</td>\n",
       "      <td>91175.5</td>\n",
       "      <td>30494.0</td>\n",
       "    </tr>\n",
       "    <tr>\n",
       "      <th>2338</th>\n",
       "      <td>10389</td>\n",
       "      <td>50620.3</td>\n",
       "      <td>81082.3</td>\n",
       "      <td>30462.0</td>\n",
       "    </tr>\n",
       "    <tr>\n",
       "      <th>1280</th>\n",
       "      <td>9331</td>\n",
       "      <td>35546.8</td>\n",
       "      <td>65286.0</td>\n",
       "      <td>29739.3</td>\n",
       "    </tr>\n",
       "    <tr>\n",
       "      <th>1305</th>\n",
       "      <td>9356</td>\n",
       "      <td>65877.5</td>\n",
       "      <td>95491.5</td>\n",
       "      <td>29613.9</td>\n",
       "    </tr>\n",
       "    <tr>\n",
       "      <th>1341</th>\n",
       "      <td>9392</td>\n",
       "      <td>70016.3</td>\n",
       "      <td>99133.2</td>\n",
       "      <td>29116.9</td>\n",
       "    </tr>\n",
       "    <tr>\n",
       "      <th>2310</th>\n",
       "      <td>10361</td>\n",
       "      <td>48852.5</td>\n",
       "      <td>77464.1</td>\n",
       "      <td>28611.7</td>\n",
       "    </tr>\n",
       "    <tr>\n",
       "      <th>2389</th>\n",
       "      <td>10440</td>\n",
       "      <td>165083.5</td>\n",
       "      <td>192935.4</td>\n",
       "      <td>27851.9</td>\n",
       "    </tr>\n",
       "    <tr>\n",
       "      <th>1310</th>\n",
       "      <td>9361</td>\n",
       "      <td>74950.7</td>\n",
       "      <td>102341.0</td>\n",
       "      <td>27390.3</td>\n",
       "    </tr>\n",
       "    <tr>\n",
       "      <th>2615</th>\n",
       "      <td>10666</td>\n",
       "      <td>54677.6</td>\n",
       "      <td>81997.5</td>\n",
       "      <td>27319.9</td>\n",
       "    </tr>\n",
       "    <tr>\n",
       "      <th>1346</th>\n",
       "      <td>9397</td>\n",
       "      <td>53386.7</td>\n",
       "      <td>80400.4</td>\n",
       "      <td>27013.6</td>\n",
       "    </tr>\n",
       "    <tr>\n",
       "      <th>1464</th>\n",
       "      <td>9515</td>\n",
       "      <td>38637.1</td>\n",
       "      <td>65599.2</td>\n",
       "      <td>26962.0</td>\n",
       "    </tr>\n",
       "    <tr>\n",
       "      <th>1452</th>\n",
       "      <td>9503</td>\n",
       "      <td>39499.1</td>\n",
       "      <td>65992.0</td>\n",
       "      <td>26492.9</td>\n",
       "    </tr>\n",
       "    <tr>\n",
       "      <th>2645</th>\n",
       "      <td>10696</td>\n",
       "      <td>48606.6</td>\n",
       "      <td>74856.0</td>\n",
       "      <td>26249.4</td>\n",
       "    </tr>\n",
       "    <tr>\n",
       "      <th>1522</th>\n",
       "      <td>9573</td>\n",
       "      <td>51421.9</td>\n",
       "      <td>77171.0</td>\n",
       "      <td>25749.0</td>\n",
       "    </tr>\n",
       "    <tr>\n",
       "      <th>1183</th>\n",
       "      <td>9234</td>\n",
       "      <td>23854.0</td>\n",
       "      <td>42898.2</td>\n",
       "      <td>19044.1</td>\n",
       "    </tr>\n",
       "  </tbody>\n",
       "</table>\n",
       "</div>"
      ],
      "text/plain": [
       "         id  pred_price  pred_retail  pred_profit\n",
       "1321   9372    233417.3     385498.8     152081.4\n",
       "2380  10431    166167.2     306934.9     140767.6\n",
       "1317   9368    267600.8     379944.4     112343.6\n",
       "2307  10358    115917.1     227595.5     111678.4\n",
       "1320   9371    182685.2     276788.2      94103.0\n",
       "1313   9364    189652.1     279413.5      89761.5\n",
       "1352   9403    180137.7     260681.1      80543.4\n",
       "1322   9373    155229.7     228651.1      73421.3\n",
       "2314  10365    208173.1     275819.0      67645.9\n",
       "1312   9363    156553.9     211325.1      54771.2\n",
       "1308   9359     71443.3     124343.8      52900.5\n",
       "1631   9682    114845.2     167244.2      52399.0\n",
       "1303   9354     96653.4     147261.1      50607.7\n",
       "1319   9370    157700.1     208278.7      50578.6\n",
       "2285  10336     55330.3     104954.8      49624.5\n",
       "2576  10627     49155.8      97255.0      48099.3\n",
       "1307   9358    121903.8     168954.2      47050.5\n",
       "2370  10421    135440.4     181979.5      46539.1\n",
       "1290   9341    104462.3     148180.6      43718.3\n",
       "1465   9516     60975.5     102017.5      41042.0\n",
       "1299   9350     87977.4     128472.3      40494.9\n",
       "1717   9768    146021.5     186198.4      40176.9\n",
       "2535  10586     43344.3      80680.6      37336.3\n",
       "1340   9391     58725.0      93652.3      34927.3\n",
       "2558  10609    174993.0     209809.4      34816.4\n",
       "1509   9560     64927.2      99333.8      34406.6\n",
       "1318   9369    197903.3     231909.4      34006.1\n",
       "1602   9653     56286.7      89801.7      33515.0\n",
       "1283   9334     59343.8      92737.7      33394.0\n",
       "1266   9317     51994.5      85267.2      33272.7\n",
       "1288   9339     54517.0      87551.4      33034.4\n",
       "1338   9389     55122.9      87141.4      32018.4\n",
       "2198  10249     51150.6      82611.7      31461.0\n",
       "1274   9325     51124.2      82367.3      31243.2\n",
       "2234  10285     76695.3     107906.1      31210.8\n",
       "1861   9912     64377.6      95214.9      30837.3\n",
       "1284   9335     60681.5      91175.5      30494.0\n",
       "2338  10389     50620.3      81082.3      30462.0\n",
       "1280   9331     35546.8      65286.0      29739.3\n",
       "1305   9356     65877.5      95491.5      29613.9\n",
       "1341   9392     70016.3      99133.2      29116.9\n",
       "2310  10361     48852.5      77464.1      28611.7\n",
       "2389  10440    165083.5     192935.4      27851.9\n",
       "1310   9361     74950.7     102341.0      27390.3\n",
       "2615  10666     54677.6      81997.5      27319.9\n",
       "1346   9397     53386.7      80400.4      27013.6\n",
       "1464   9515     38637.1      65599.2      26962.0\n",
       "1452   9503     39499.1      65992.0      26492.9\n",
       "2645  10696     48606.6      74856.0      26249.4\n",
       "1522   9573     51421.9      77171.0      25749.0\n",
       "1183   9234     23854.0      42898.2      19044.1"
      ]
     },
     "execution_count": 569,
     "metadata": {},
     "output_type": "execute_result"
    }
   ],
   "source": [
    "df_profit_rest = df_profit[df_profit['offer'] == 0]\n",
    "df_profit_rest = df_profit_rest[df_profit_rest['pred_price'] <= 5000000 - total]\n",
    "df_profit_rest = df_profit_rest.sort_values(by='pred_profit', ascending=False)\n",
    "df_profit_rest['sum_to_now'] = np.zeros(len(df_profit_rest))\n",
    "df_profit_rest['sum_to_now'] = df_profit_rest['pred_price'].cumsum()\n",
    "df_profit_rest['offer'] = np.where(df_profit_rest['sum_to_now'] <= 5000000 - total, df_profit_rest['pred_price'], 0)\n",
    "df_profit_rest_eff = df_profit_rest[df_profit_rest['offer'] > 0]\n",
    "display(df_profit_rest_eff)\n",
    "print(f'The total number of diamonds selected by ROI is {len(df_profit_eff) + len(df_profit_rest_eff)}.')\n",
    "total = df_profit_eff['sum_to_now'].max() + sum(df_profit_rest_eff['pred_price'])\n",
    "print(f'The total price equals to {round(total, 0)}, with {round(5000000 - total, 0)} left.')\n",
    "total_profit = sum(df_profit_eff['pred_profit']) + sum(df_profit_rest_eff['pred_profit'])\n",
    "print(f'The total predict profit equals to {round(total_profit, 0)}, with an estimated total ROI of {round(total_profit / 5000000 * 100, 2)}%.')\n",
    "profit_dict = {'Number of Diamonds': len(df_profit_eff) + len(df_profit_rest_eff),\n",
    "            'Total Price': total,\n",
    "            'Budget Left': 5000000 - total,\n",
    "            'Usage Percent': f'{round(total / 5000000 * 100, 4)}%',\n",
    "            'Total Profit': total_profit,\n",
    "            'Total ROI': f'{round(total_profit / 5000000 * 100, 2)}%'}\n",
    "df_profit_final = pd.concat([df_profit_eff, df_profit_rest_eff], axis=0)[['id', 'pred_price', 'pred_retail', 'pred_profit']]\n",
    "df_profit_final"
   ]
  },
  {
   "cell_type": "markdown",
   "metadata": {},
   "source": [
    "### Selection Comparison"
   ]
  },
  {
   "cell_type": "code",
   "execution_count": 570,
   "metadata": {},
   "outputs": [
    {
     "data": {
      "text/html": [
       "<div>\n",
       "<style scoped>\n",
       "    .dataframe tbody tr th:only-of-type {\n",
       "        vertical-align: middle;\n",
       "    }\n",
       "\n",
       "    .dataframe tbody tr th {\n",
       "        vertical-align: top;\n",
       "    }\n",
       "\n",
       "    .dataframe thead th {\n",
       "        text-align: right;\n",
       "    }\n",
       "</style>\n",
       "<table border=\"1\" class=\"dataframe\">\n",
       "  <thead>\n",
       "    <tr style=\"text-align: right;\">\n",
       "      <th></th>\n",
       "      <th>Number of Diamonds</th>\n",
       "      <th>Total Price</th>\n",
       "      <th>Budget Left</th>\n",
       "      <th>Usage Percent</th>\n",
       "      <th>Total Profit</th>\n",
       "      <th>Total ROI</th>\n",
       "    </tr>\n",
       "  </thead>\n",
       "  <tbody>\n",
       "    <tr>\n",
       "      <th>ROI</th>\n",
       "      <td>601</td>\n",
       "      <td>4999978.2</td>\n",
       "      <td>21.8</td>\n",
       "      <td>99.9996%</td>\n",
       "      <td>3768917.4</td>\n",
       "      <td>75.38%</td>\n",
       "    </tr>\n",
       "    <tr>\n",
       "      <th>Profit</th>\n",
       "      <td>51</td>\n",
       "      <td>4999660.7</td>\n",
       "      <td>339.3</td>\n",
       "      <td>99.9932%</td>\n",
       "      <td>2417939.3</td>\n",
       "      <td>48.36%</td>\n",
       "    </tr>\n",
       "  </tbody>\n",
       "</table>\n",
       "</div>"
      ],
      "text/plain": [
       "        Number of Diamonds  Total Price  Budget Left Usage Percent  Total Profit Total ROI\n",
       "ROI                    601    4999978.2         21.8      99.9996%     3768917.4    75.38%\n",
       "Profit                  51    4999660.7        339.3      99.9932%     2417939.3    48.36%"
      ]
     },
     "execution_count": 570,
     "metadata": {},
     "output_type": "execute_result"
    }
   ],
   "source": [
    "df_roi_res = pd.DataFrame(roi_dict, index=['ROI'])\n",
    "df_profit_res = pd.DataFrame(profit_dict, index=['Profit'])\n",
    "df_compare = pd.concat([df_roi_res, df_profit_res], axis=0)\n",
    "df_compare"
   ]
  },
  {
   "cell_type": "markdown",
   "metadata": {},
   "source": [
    "From the result we can see that ROI Selection has a significantly higher total profit than Profit Selection, with less money left.\n",
    "\n",
    "This can be used as a useful strategies for selecting diamonds given a fixed total budget."
   ]
  },
  {
   "cell_type": "markdown",
   "metadata": {},
   "source": [
    "## Answer Questions"
   ]
  },
  {
   "cell_type": "markdown",
   "metadata": {},
   "source": [
    "### Question 1"
   ]
  },
  {
   "cell_type": "markdown",
   "metadata": {},
   "source": [
    "Do you think that any of the vendors are over or under charging for diamonds compared to the other vendors? Do you think they are selling the same kind of diamonds? How did you come to this conclusion?"
   ]
  },
  {
   "cell_type": "markdown",
   "metadata": {},
   "source": [
    "First we use the model to predict the price of the training dataset."
   ]
  },
  {
   "cell_type": "code",
   "execution_count": 574,
   "metadata": {},
   "outputs": [
    {
     "data": {
      "text/html": [
       "<div>\n",
       "<style scoped>\n",
       "    .dataframe tbody tr th:only-of-type {\n",
       "        vertical-align: middle;\n",
       "    }\n",
       "\n",
       "    .dataframe tbody tr th {\n",
       "        vertical-align: top;\n",
       "    }\n",
       "\n",
       "    .dataframe thead th {\n",
       "        text-align: right;\n",
       "    }\n",
       "</style>\n",
       "<table border=\"1\" class=\"dataframe\">\n",
       "  <thead>\n",
       "    <tr style=\"text-align: right;\">\n",
       "      <th></th>\n",
       "      <th>id</th>\n",
       "      <th>pred_log_price</th>\n",
       "      <th>pred_log_retail</th>\n",
       "      <th>pred_price</th>\n",
       "      <th>pred_retail</th>\n",
       "      <th>pred_profit</th>\n",
       "      <th>ROI</th>\n",
       "    </tr>\n",
       "  </thead>\n",
       "  <tbody>\n",
       "    <tr>\n",
       "      <th>5405</th>\n",
       "      <td>5406</td>\n",
       "      <td>7.9</td>\n",
       "      <td>8.8</td>\n",
       "      <td>2578.3</td>\n",
       "      <td>6874.5</td>\n",
       "      <td>4296.2</td>\n",
       "      <td>166.6</td>\n",
       "    </tr>\n",
       "    <tr>\n",
       "      <th>2071</th>\n",
       "      <td>2072</td>\n",
       "      <td>8.3</td>\n",
       "      <td>9.2</td>\n",
       "      <td>4113.9</td>\n",
       "      <td>9894.4</td>\n",
       "      <td>5780.6</td>\n",
       "      <td>140.5</td>\n",
       "    </tr>\n",
       "    <tr>\n",
       "      <th>7997</th>\n",
       "      <td>7998</td>\n",
       "      <td>8.4</td>\n",
       "      <td>9.2</td>\n",
       "      <td>4243.2</td>\n",
       "      <td>10105.1</td>\n",
       "      <td>5861.9</td>\n",
       "      <td>138.2</td>\n",
       "    </tr>\n",
       "    <tr>\n",
       "      <th>1283</th>\n",
       "      <td>1284</td>\n",
       "      <td>7.5</td>\n",
       "      <td>8.3</td>\n",
       "      <td>1767.5</td>\n",
       "      <td>4106.5</td>\n",
       "      <td>2339.0</td>\n",
       "      <td>132.3</td>\n",
       "    </tr>\n",
       "    <tr>\n",
       "      <th>3807</th>\n",
       "      <td>3808</td>\n",
       "      <td>10.3</td>\n",
       "      <td>11.1</td>\n",
       "      <td>28717.6</td>\n",
       "      <td>65705.2</td>\n",
       "      <td>36987.5</td>\n",
       "      <td>128.8</td>\n",
       "    </tr>\n",
       "    <tr>\n",
       "      <th>...</th>\n",
       "      <td>...</td>\n",
       "      <td>...</td>\n",
       "      <td>...</td>\n",
       "      <td>...</td>\n",
       "      <td>...</td>\n",
       "      <td>...</td>\n",
       "      <td>...</td>\n",
       "    </tr>\n",
       "    <tr>\n",
       "      <th>2722</th>\n",
       "      <td>2723</td>\n",
       "      <td>9.2</td>\n",
       "      <td>6.8</td>\n",
       "      <td>9701.2</td>\n",
       "      <td>883.5</td>\n",
       "      <td>-8817.7</td>\n",
       "      <td>-90.9</td>\n",
       "    </tr>\n",
       "    <tr>\n",
       "      <th>523</th>\n",
       "      <td>524</td>\n",
       "      <td>6.2</td>\n",
       "      <td>3.8</td>\n",
       "      <td>498.3</td>\n",
       "      <td>44.8</td>\n",
       "      <td>-453.5</td>\n",
       "      <td>-91.0</td>\n",
       "    </tr>\n",
       "    <tr>\n",
       "      <th>3551</th>\n",
       "      <td>3552</td>\n",
       "      <td>9.7</td>\n",
       "      <td>7.3</td>\n",
       "      <td>16530.9</td>\n",
       "      <td>1469.5</td>\n",
       "      <td>-15061.4</td>\n",
       "      <td>-91.1</td>\n",
       "    </tr>\n",
       "    <tr>\n",
       "      <th>3476</th>\n",
       "      <td>3477</td>\n",
       "      <td>9.5</td>\n",
       "      <td>7.0</td>\n",
       "      <td>13517.5</td>\n",
       "      <td>1131.6</td>\n",
       "      <td>-12385.9</td>\n",
       "      <td>-91.6</td>\n",
       "    </tr>\n",
       "    <tr>\n",
       "      <th>7087</th>\n",
       "      <td>7088</td>\n",
       "      <td>10.4</td>\n",
       "      <td>7.9</td>\n",
       "      <td>33005.2</td>\n",
       "      <td>2625.5</td>\n",
       "      <td>-30379.7</td>\n",
       "      <td>-92.0</td>\n",
       "    </tr>\n",
       "  </tbody>\n",
       "</table>\n",
       "<p>8050 rows × 7 columns</p>\n",
       "</div>"
      ],
      "text/plain": [
       "        id  pred_log_price  pred_log_retail  pred_price  pred_retail  pred_profit   ROI\n",
       "5405  5406             7.9              8.8      2578.3       6874.5       4296.2 166.6\n",
       "2071  2072             8.3              9.2      4113.9       9894.4       5780.6 140.5\n",
       "7997  7998             8.4              9.2      4243.2      10105.1       5861.9 138.2\n",
       "1283  1284             7.5              8.3      1767.5       4106.5       2339.0 132.3\n",
       "3807  3808            10.3             11.1     28717.6      65705.2      36987.5 128.8\n",
       "...    ...             ...              ...         ...          ...          ...   ...\n",
       "2722  2723             9.2              6.8      9701.2        883.5      -8817.7 -90.9\n",
       "523    524             6.2              3.8       498.3         44.8       -453.5 -91.0\n",
       "3551  3552             9.7              7.3     16530.9       1469.5     -15061.4 -91.1\n",
       "3476  3477             9.5              7.0     13517.5       1131.6     -12385.9 -91.6\n",
       "7087  7088            10.4              7.9     33005.2       2625.5     -30379.7 -92.0\n",
       "\n",
       "[8050 rows x 7 columns]"
      ]
     },
     "metadata": {},
     "output_type": "display_data"
    }
   ],
   "source": [
    "# Predict Price\n",
    "features = x_log_retail.columns\n",
    "df_final['pred_log_price'] = xgb_final_logprice.predict(df_final[features])\n",
    "df_final['pred_price'] = df_final['pred_log_price'].apply(lambda x: np.exp(x))\n",
    "# Predict Retail\n",
    "df_final['pred_log_retail'] = xgb_final_logretail.predict(df_final[features])\n",
    "df_final['pred_retail'] = df_final['pred_log_retail'].apply(lambda x: np.exp(x))\n",
    "# Calculate Profit & ROI\n",
    "df_final['pred_profit'] = df_final['pred_retail'] - df_final['pred_price']\n",
    "df_final['ROI'] = round((df_final['pred_retail'] - df_final['pred_price']) * 100 / df_final['pred_price'], 2)\n",
    "# Display Data\n",
    "display(df_final[['id', 'pred_log_price', 'pred_log_retail', 'pred_price', 'pred_retail', 'pred_profit','ROI']])"
   ]
  },
  {
   "cell_type": "markdown",
   "metadata": {},
   "source": [
    "Then we join the original data and predict result together.\n",
    "\n",
    "Here a positive 'price_diff' means that the vendor sells the diamond more expensive than prediction."
   ]
  },
  {
   "cell_type": "code",
   "execution_count": 583,
   "metadata": {},
   "outputs": [
    {
     "data": {
      "text/html": [
       "<div>\n",
       "<style scoped>\n",
       "    .dataframe tbody tr th:only-of-type {\n",
       "        vertical-align: middle;\n",
       "    }\n",
       "\n",
       "    .dataframe tbody tr th {\n",
       "        vertical-align: top;\n",
       "    }\n",
       "\n",
       "    .dataframe thead tr th {\n",
       "        text-align: left;\n",
       "    }\n",
       "\n",
       "    .dataframe thead tr:last-of-type th {\n",
       "        text-align: right;\n",
       "    }\n",
       "</style>\n",
       "<table border=\"1\" class=\"dataframe\">\n",
       "  <thead>\n",
       "    <tr>\n",
       "      <th></th>\n",
       "      <th colspan=\"2\" halign=\"left\">price_diff</th>\n",
       "    </tr>\n",
       "    <tr>\n",
       "      <th></th>\n",
       "      <th>mean</th>\n",
       "      <th>std</th>\n",
       "    </tr>\n",
       "    <tr>\n",
       "      <th>Vendor</th>\n",
       "      <th></th>\n",
       "      <th></th>\n",
       "    </tr>\n",
       "  </thead>\n",
       "  <tbody>\n",
       "    <tr>\n",
       "      <th>1</th>\n",
       "      <td>16.0</td>\n",
       "      <td>235.2</td>\n",
       "    </tr>\n",
       "    <tr>\n",
       "      <th>2</th>\n",
       "      <td>317.0</td>\n",
       "      <td>5552.0</td>\n",
       "    </tr>\n",
       "    <tr>\n",
       "      <th>3</th>\n",
       "      <td>39.1</td>\n",
       "      <td>939.3</td>\n",
       "    </tr>\n",
       "    <tr>\n",
       "      <th>4</th>\n",
       "      <td>71.5</td>\n",
       "      <td>1573.0</td>\n",
       "    </tr>\n",
       "  </tbody>\n",
       "</table>\n",
       "</div>"
      ],
      "text/plain": [
       "       price_diff       \n",
       "             mean    std\n",
       "Vendor                  \n",
       "1            16.0  235.2\n",
       "2           317.0 5552.0\n",
       "3            39.1  939.3\n",
       "4            71.5 1573.0"
      ]
     },
     "execution_count": 583,
     "metadata": {},
     "output_type": "execute_result"
    }
   ],
   "source": [
    "df_total = df.merge(df_final[['id', 'pred_log_price', 'pred_log_retail', 'pred_price', 'pred_retail', 'pred_profit','ROI']], on=['id'], how='left')\n",
    "df_total['price_diff'] = df_total['Price'] - df_total['pred_price']\n",
    "df_group = df_total[['Vendor', 'price_diff']].groupby(by='Vendor').agg(['mean', 'std'])\n",
    "df_group"
   ]
  },
  {
   "cell_type": "markdown",
   "metadata": {},
   "source": [
    "From the result, we can see that Vendor 2 may tend to overcharge."
   ]
  },
  {
   "cell_type": "markdown",
   "metadata": {},
   "source": [
    "### Question 2"
   ]
  },
  {
   "cell_type": "markdown",
   "metadata": {},
   "source": [
    "What is the relationship between Carat and Retail Price? Why do you think the relationship takes this form?"
   ]
  },
  {
   "cell_type": "code",
   "execution_count": 584,
   "metadata": {},
   "outputs": [
    {
     "name": "stdout",
     "output_type": "stream",
     "text": [
      "Correlation between Carats and Price: 0.7413\n",
      "Correlation between Carats and Retail: 0.7163\n",
      "Correlation between Carats and Profit: 0.5137\n"
     ]
    }
   ],
   "source": [
    "# Calculate and display the correlations\n",
    "carats_price_corr = round(df['Carats'].corr(df['Price']), 4)\n",
    "carats_retail_corr = round(df['Carats'].corr(df['Retail']), 4)\n",
    "carats_profit_corr = round(df['Carats'].corr(df['Profit']), 4)\n",
    "\n",
    "print(f\"Correlation between Carats and Price: {carats_price_corr}\")\n",
    "print(f\"Correlation between Carats and Retail: {carats_retail_corr}\")\n",
    "print(f\"Correlation between Carats and Profit: {carats_profit_corr}\")\n"
   ]
  },
  {
   "cell_type": "markdown",
   "metadata": {},
   "source": [
    "From the result we can see that Carats are significantly and positively correlated to Profit/Retail/Price, since the heavier/bigger the diamond is, the more it will worths."
   ]
  }
 ],
 "metadata": {
  "kernelspec": {
   "display_name": "base",
   "language": "python",
   "name": "python3"
  },
  "language_info": {
   "codemirror_mode": {
    "name": "ipython",
    "version": 3
   },
   "file_extension": ".py",
   "mimetype": "text/x-python",
   "name": "python",
   "nbconvert_exporter": "python",
   "pygments_lexer": "ipython3",
   "version": "3.9.12"
  }
 },
 "nbformat": 4,
 "nbformat_minor": 2
}
